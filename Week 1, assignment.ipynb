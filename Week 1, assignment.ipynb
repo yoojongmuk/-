{
 "cells": [
  {
   "cell_type": "markdown",
   "metadata": {},
   "source": [
    "<img src = \"https://apply.softsquared.com/custom/img/logo.png\">\n",
    "\n",
    "\n",
    "## 첫번째 과제입니다.\n",
    "\n",
    "우리는 파이썬 문법 1 파트에서 숫자형, 문자형, bool형 자료, 변수, 비교연산, 조건문 등에 대해서 배웠습니다.\n",
    "\n",
    "이에 대한 과제를 제공해 드립니다.\n",
    "\n",
    "과제를 하시는 동안 정보검색은 적극 권장됩니다.\n",
    "\n",
    "<a href =\"https://wikidocs.net/book/1\">점프투파이썬</a>"
   ]
  },
  {
   "cell_type": "markdown",
   "metadata": {},
   "source": [
    "# Q1\n",
    "\n",
    "```python\n",
    "\n",
    "a = 10\n",
    "b = 15\n",
    "```\n",
    "\n",
    "변수 a와 b가 위와 같이 선언되어 있습니다.\n",
    "\n",
    "```python\n",
    "print(a+b)\n",
    "\n",
    "print(\"a+b\")\n",
    "```\n",
    "\n",
    "위 결과를 예상해보고, 출력해봅시다. 또한, 그 이유를 설명하세요."
   ]
  },
  {
   "cell_type": "code",
   "execution_count": 4,
   "metadata": {},
   "outputs": [
    {
     "name": "stdout",
     "output_type": "stream",
     "text": [
      "a+b\n",
      "25\n"
     ]
    }
   ],
   "source": [
    "a=10\n",
    "b=15\n",
    "print(\"a+b\") #a b를 변수로 인식\n",
    "print(a+b) #정수로 인식"
   ]
  },
  {
   "cell_type": "markdown",
   "metadata": {},
   "source": [
    "# Q2\n",
    "\n",
    "파이썬에서 ** 은 제곱 계산을 하는 연산자 입니다.\n",
    "\n",
    "** 를 활용해서 3의 5 제곱을 계산해보세요."
   ]
  },
  {
   "cell_type": "code",
   "execution_count": 1,
   "metadata": {},
   "outputs": [
    {
     "data": {
      "text/plain": [
       "243"
      ]
     },
     "execution_count": 1,
     "metadata": {},
     "output_type": "execute_result"
    }
   ],
   "source": [
    "3**5"
   ]
  },
  {
   "cell_type": "markdown",
   "metadata": {},
   "source": [
    "# Q3\n",
    "\n",
    "다음과 같은 코드가 있습니다.\n",
    "\n",
    "1. 각각 print(a)에서 출력 될 결과를 예상하고, 실행시켜보세요.\n",
    "2. a를 다시 1로 만들어 주세요.\n",
    "\n",
    "```python\n",
    "\n",
    "a = 1\n",
    "\n",
    "print(a)\n",
    "\n",
    "a = a + 1\n",
    "\n",
    "print(a)\n",
    "\n",
    "a += 1\n",
    "\n",
    "print(a)\n",
    "\n",
    "a *= 3\n",
    "\n",
    "print(a)\n",
    "```\n",
    "\n",
    "\n",
    "tip) a += 1은 a = a+1과 같은 의미입니다. 같은 맥락으로 a *= a도 이해할 수 있겠죠?\n"
   ]
  },
  {
   "cell_type": "code",
   "execution_count": 2,
   "metadata": {},
   "outputs": [
    {
     "name": "stdout",
     "output_type": "stream",
     "text": [
      "1\n",
      "2\n",
      "3\n",
      "9\n",
      "1\n"
     ]
    }
   ],
   "source": [
    "a=1\n",
    "print(a)\n",
    "a=a+1\n",
    "print(a)\n",
    "a+=1\n",
    "print(a)\n",
    "a*=3\n",
    "print(a)\n",
    "a/=8\n",
    "print(int(a))"
   ]
  },
  {
   "cell_type": "markdown",
   "metadata": {},
   "source": [
    "# Q4\n",
    "\n",
    "name 이라는 변수에 자신의 이름을 문자형으로 선언하세요.\n",
    "\n",
    "number 이라는 변수에 자신의 휴대폰 번호 뒷자리를 정수형으로 선언하세요.\n",
    "\n",
    "name과 number를 적절한 형변환을 해서 (name+number)를 출력하세요.\n",
    "\n",
    "tip) 형변환 함수를 사용하세요, int(), str() 등.."
   ]
  },
  {
   "cell_type": "code",
   "execution_count": 3,
   "metadata": {
    "scrolled": true
   },
   "outputs": [
    {
     "name": "stdout",
     "output_type": "stream",
     "text": [
      "mokka7949\n"
     ]
    }
   ],
   "source": [
    "name = 'mokka'\n",
    "number = 7949\n",
    "print(name+str(number))"
   ]
  },
  {
   "cell_type": "markdown",
   "metadata": {},
   "source": [
    "# Q5\n",
    "\n",
    "john, emma, jack, sue 의 시험 점수는 각각 95점, 89점, 83점, 100점입니다.\n",
    "\n",
    "각 학생의 이름을 변수로해서 시험점수를 정수로 입력하고\n",
    "\n",
    "avg 라는 변수에 네명의 학생의 평균 점수를 대입하세요.\n",
    "\n",
    "avg의 값과 데이터 타입을 출력하세요.\n",
    "\n",
    "hint) 우리가 앞서 배운 사칙연산 문법과 type()함수를 활용"
   ]
  },
  {
   "cell_type": "code",
   "execution_count": 4,
   "metadata": {},
   "outputs": [
    {
     "name": "stdout",
     "output_type": "stream",
     "text": [
      "91.75\n"
     ]
    }
   ],
   "source": [
    "john = 95\n",
    "emma = 89\n",
    "jack = 83\n",
    "sue = 100\n",
    "total = john + emma + jack + sue\n",
    "avg = total/4\n",
    "print(avg)"
   ]
  },
  {
   "cell_type": "markdown",
   "metadata": {},
   "source": [
    "# Q6\n",
    "\n",
    "삼성전자의 주가는 55,000원이고,\n",
    "카카오의 주가는 130,000원입니다.\n",
    "\n",
    "로니는 삼성전자 100주와 카카오 60주를 가지고 있다고 합니다.\n",
    "\n",
    "1. 로니가 가지고 있는 주식의 총액은 얼마인가요?\n",
    "\n",
    "2. 한달 뒤 삼성전자의 주가는 30% 상승했고, 카카오의 주가는 10% 하락했습니다. 한달 뒤에 로니가 가지고 있는 주가의 총액은 얼마인가요?"
   ]
  },
  {
   "cell_type": "code",
   "execution_count": 5,
   "metadata": {
    "scrolled": true
   },
   "outputs": [
    {
     "name": "stdout",
     "output_type": "stream",
     "text": [
      "13300000\n",
      "14170000.0\n"
     ]
    }
   ],
   "source": [
    "삼성전자 = 55000\n",
    "카카오 = 130000\n",
    "print(삼성전자*100 + 카카오*60)\n",
    "#한달뒤\n",
    "삼성전자*=1.3\n",
    "카카오*=0.9\n",
    "print(삼성전자*100 + 카카오*60)"
   ]
  },
  {
   "cell_type": "markdown",
   "metadata": {},
   "source": [
    "# Q7\n",
    "\n",
    "다음의 코드를 입력하고, 활용해서 주어진 결과를 3가지 방법으로 만들어 주세요.\n",
    "\n",
    "```python\n",
    "\n",
    "bench_press = 90\n",
    "squart = 120\n",
    "deadlift = 140\n",
    "\n",
    "total = bench_press + squat + deadlift\n",
    "\n",
    "name = \"짱구\"\n",
    "```\n",
    "\n",
    "결과 : \n",
    "\n",
    "짱구는 벤치프레스 90kg, 스쿼트 120kg, 데드리프트 140kg을 들 수 있다.\n",
    "총합 350kg이다.\n",
    "\n",
    "\n",
    "아래 3가지 방법을 이용해 같은 결과를 만들어 주세요.\n",
    "\n",
    "1. ',' 로 구분하는 방법\n",
    "2. '+'를 이용하는 방법\n",
    "3. formatting 기법을 이용하는 방법"
   ]
  },
  {
   "cell_type": "code",
   "execution_count": 27,
   "metadata": {},
   "outputs": [
    {
     "name": "stdout",
     "output_type": "stream",
     "text": [
      "짱구 는 벤치프레스 90 kg 데드리프트 140 kg을 들 수 있다. 총합 350 kg이다.\n"
     ]
    }
   ],
   "source": [
    "bench_press = 90\n",
    "squart = 120\n",
    "deadlift = 140\n",
    "\n",
    "total = bench_press + squart + deadlift\n",
    "\n",
    "name = \"짱구\"\n",
    "print(name,\"는 벤치프레스\",bench_press,\"kg\",\"데드리프트\", deadlift, \"kg을 들 수 있다. 총합\", total,\"kg이다.\")"
   ]
  },
  {
   "cell_type": "code",
   "execution_count": 86,
   "metadata": {},
   "outputs": [
    {
     "name": "stdout",
     "output_type": "stream",
     "text": [
      "짱구는 벤치프레스 90kg, 스쿼트 120kg, 데드리프트 140kg을 들 수 있다. 총합 350kg이다.\n"
     ]
    }
   ],
   "source": [
    "bench_press = 90\n",
    "squart = 120\n",
    "deadlift = 140\n",
    "\n",
    "total = bench_press + squart + deadlift\n",
    "\n",
    "name = \"짱구\"\n",
    "print(name+'는 벤치프레스 '+str(bench_press)+'kg, 스쿼트 '+str(squart)+'kg, 데드리프트 '+str(deadlift)+'kg을 들 수 있다. 총합 '+str(total)+'kg이다.')"
   ]
  },
  {
   "cell_type": "code",
   "execution_count": 10,
   "metadata": {},
   "outputs": [
    {
     "name": "stdout",
     "output_type": "stream",
     "text": [
      "짱구는 벤치프레스 90kg, 스쿼트 120kg, 데드리프트 140kg을 들 수 있다. 총합 350kg이다.\n"
     ]
    }
   ],
   "source": [
    "bench_press = 90\n",
    "squart = 120\n",
    "deadlift = 140\n",
    "\n",
    "total = bench_press + squart + deadlift\n",
    "\n",
    "name = \"짱구\"\n",
    "print(\n",
    "    f\"짱구는 벤치프레스 {bench_press}kg, 스쿼트 {squart}kg, 데드리프트 {deadlift}kg을 들 수 있다. 총합 {total}kg이다.\" )\n",
    "#     .format(bench_press, squart, deadlift, total))"
   ]
  },
  {
   "cell_type": "markdown",
   "metadata": {},
   "source": [
    "# Q8\n",
    "\n",
    "formatting 기법을 활용하기 위함입니다. ??에 들어갈 적절한 변수를 넣어주세요.\n",
    "\n",
    "```python\n",
    "win = 512\n",
    "lose = 256\n",
    "total = win + lose\n",
    "win_ratio = win/total*100\n",
    "```\n",
    "\n",
    "결과:\n",
    "이번 축구 경기에서 512명의 사람이 한국이 승리할 것이라고 했고, 256명의 사람은 한국이 패배할 것이라고 말한다. 승부를 예측한 사람의 총원은 768명이고 승리예측자 비율은 66.6%이다.\n",
    "\n",
    "\n",
    "참고)\n",
    "https://wikidocs.net/13#format"
   ]
  },
  {
   "cell_type": "code",
   "execution_count": 354,
   "metadata": {},
   "outputs": [
    {
     "name": "stdout",
     "output_type": "stream",
     "text": [
      "이번 축구 경기에서 512명의 사람이 한국이 승리할 것이라고 했고,\n",
      "        256명의 사람은 한국이 패배할 것이라고 말한다.\n",
      "        승부를 예측한 사람의 총원은 768명이고 승리예측자 비율은 66.7%이다.\n"
     ]
    }
   ],
   "source": [
    "win = 512\n",
    "lose = 256\n",
    "total = win + lose\n",
    "win_ratio = win/total*100 # write your code here!!\n",
    "\n",
    "print(\"\"\"이번 축구 경기에서 {3}명의 사람이 한국이 승리할 것이라고 했고,\n",
    "        {0}명의 사람은 한국이 패배할 것이라고 말한다.\n",
    "        승부를 예측한 사람의 총원은 {1}명이고 승리예측자 비율은 {2:0.1f}%이다.\"\"\"\\\n",
    "      .format(lose, total, win_ratio, win))"
   ]
  },
  {
   "cell_type": "markdown",
   "metadata": {},
   "source": [
    "# Q9\n",
    "\n",
    "input() 함수를 이용해서 각기 다른 3개의 변수에 숫자를 입력받고, 조건문 if를 사용해서 가장 큰 숫자를 출력하세요. (변수명은 자유롭게)\n",
    "\n",
    "hint) input함수는 문자형 자료로 반환합니다. 적절한 형변환이 필요하겠죠?"
   ]
  },
  {
   "cell_type": "code",
   "execution_count": 80,
   "metadata": {
    "scrolled": true
   },
   "outputs": [
    {
     "name": "stdout",
     "output_type": "stream",
     "text": [
      "첫번째 숫자를 입력하세요10\n",
      "두번째 숫자를 입력하세요4\n",
      "세번째 숫자를 입력하세요5\n",
      "max=a 10\n"
     ]
    }
   ],
   "source": [
    "a=int(input(\"첫번째 숫자를 입력하세요\"))\n",
    "b=int(input(\"두번째 숫자를 입력하세요\"))\n",
    "c=int(input(\"세번째 숫자를 입력하세요\"))\n",
    "if a>b and a>c:\n",
    "    print(\"max=a\",a)\n",
    "elif b>c and b>a:\n",
    "    print(\"max=b\",b)\n",
    "else:\n",
    "    print(\"max=c\",c)"
   ]
  },
  {
   "cell_type": "markdown",
   "metadata": {},
   "source": [
    "# Q10\n",
    "\n",
    "input() 함수를 이용해서 숫자를 입력 받고, 그 수가 짝수인지 홀수인지 판별하는 코드를 작성하세요.\n"
   ]
  },
  {
   "cell_type": "code",
   "execution_count": 36,
   "metadata": {},
   "outputs": [
    {
     "name": "stdout",
     "output_type": "stream",
     "text": [
      "숫자를 입력하세요9\n",
      "홀수입니다.\n"
     ]
    }
   ],
   "source": [
    "n = int(input('숫자를 입력하세요')) #1\n",
    "if n % 2 == 0: #2\n",
    "  print(\"짝수입니다.\") #3\n",
    "else:\n",
    "  print(\"홀수입니다.\") #4"
   ]
  },
  {
   "cell_type": "markdown",
   "metadata": {},
   "source": [
    "# Q11\n",
    "\n",
    "3개의 서로 다른 정수를 각각 다른 변수에 입력 받고, 두번째로 큰 수를 출력하세요."
   ]
  },
  {
   "cell_type": "code",
   "execution_count": 88,
   "metadata": {
    "scrolled": true
   },
   "outputs": [
    {
     "name": "stdout",
     "output_type": "stream",
     "text": [
      "첫번째 숫자를 입력하세요50\n",
      "두번째 숫자를 입력하세요42\n",
      "세번째 숫자를 입력하세요89\n",
      "mid=a 50\n"
     ]
    }
   ],
   "source": [
    "a=int(input(\"첫번째 숫자를 입력하세요\"))\n",
    "b=int(input(\"두번째 숫자를 입력하세요\"))\n",
    "c=int(input(\"세번째 숫자를 입력하세요\"))\n",
    "if a>b>c:\n",
    "    print(\"mid=b\",b)\n",
    "elif c>b>a:\n",
    "    print(\"mid=b\",b)\n",
    "elif b>a>c:\n",
    "    print(\"mid=a\",a)\n",
    "elif c>a>b:\n",
    "    print(\"mid=a\",a)\n",
    "elif a>c>b:\n",
    "    print(\"mid=c\",c)\n",
    "elif b>c>a:\n",
    "    print(\"mid=c\",c)"
   ]
  },
  {
   "cell_type": "code",
   "execution_count": 1,
   "metadata": {},
   "outputs": [
    {
     "name": "stdout",
     "output_type": "stream",
     "text": [
      "첫번째 숫자를 입력하세요50\n",
      "두번째 숫자를 입력하세요54\n",
      "세번째 숫자를 입력하세요51\n",
      "mid=c 51\n"
     ]
    }
   ],
   "source": [
    "a=int(input(\"첫번째 숫자를 입력하세요\"))\n",
    "b=int(input(\"두번째 숫자를 입력하세요\"))\n",
    "c=int(input(\"세번째 숫자를 입력하세요\"))\n",
    "target=a\n",
    "if (b<target<c) or (c<target<b):\n",
    "    print(\"mid=a\",a)\n",
    "target=b\n",
    "if (a<target<c) or (c<target<a):\n",
    "    print(\"mid=b\",b)\n",
    "target=c\n",
    "if (a<target<b) or (b<target<a):\n",
    "    print(\"mid=c\",c)"
   ]
  },
  {
   "cell_type": "code",
   "execution_count": 2,
   "metadata": {},
   "outputs": [
    {
     "name": "stdout",
     "output_type": "stream",
     "text": [
      "첫번째 숫자를 입력하세요50\n",
      "두번째 숫자를 입력하세요51\n",
      "세번째 숫자를 입력하세요52\n",
      "mid=b 51\n"
     ]
    }
   ],
   "source": [
    "a=int(input(\"첫번째 숫자를 입력하세요\"))\n",
    "b=int(input(\"두번째 숫자를 입력하세요\"))\n",
    "c=int(input(\"세번째 숫자를 입력하세요\"))\n",
    "target=a\n",
    "if (b<target<c) or (c<target<b):\n",
    "    print(\"mid=a\",a)\n",
    "target=b\n",
    "if (a<target<c) or (c<target<a):\n",
    "    print(\"mid=b\",b)\n",
    "else:\n",
    "    print(\"mid=c\",c)"
   ]
  },
  {
   "cell_type": "code",
   "execution_count": 5,
   "metadata": {},
   "outputs": [
    {
     "name": "stdout",
     "output_type": "stream",
     "text": [
      "첫번째 숫자를 입력하세요10\n",
      "두번째 숫자를 입력하세요20\n",
      "세번째 숫자를 입력하세요30\n"
     ]
    },
    {
     "ename": "NameError",
     "evalue": "name 'Median' is not defined",
     "output_type": "error",
     "traceback": [
      "\u001b[1;31m---------------------------------------------------------------------------\u001b[0m",
      "\u001b[1;31mNameError\u001b[0m                                 Traceback (most recent call last)",
      "\u001b[1;32m<ipython-input-5-d1018220f8e9>\u001b[0m in \u001b[0;36m<module>\u001b[1;34m\u001b[0m\n\u001b[0;32m      2\u001b[0m \u001b[0mb\u001b[0m\u001b[1;33m=\u001b[0m\u001b[0mint\u001b[0m\u001b[1;33m(\u001b[0m\u001b[0minput\u001b[0m\u001b[1;33m(\u001b[0m\u001b[1;34m\"두번째 숫자를 입력하세요\"\u001b[0m\u001b[1;33m)\u001b[0m\u001b[1;33m)\u001b[0m\u001b[1;33m\u001b[0m\u001b[1;33m\u001b[0m\u001b[0m\n\u001b[0;32m      3\u001b[0m \u001b[0mc\u001b[0m\u001b[1;33m=\u001b[0m\u001b[0mint\u001b[0m\u001b[1;33m(\u001b[0m\u001b[0minput\u001b[0m\u001b[1;33m(\u001b[0m\u001b[1;34m\"세번째 숫자를 입력하세요\"\u001b[0m\u001b[1;33m)\u001b[0m\u001b[1;33m)\u001b[0m\u001b[1;33m\u001b[0m\u001b[1;33m\u001b[0m\u001b[0m\n\u001b[1;32m----> 4\u001b[1;33m \u001b[0mprint\u001b[0m\u001b[1;33m(\u001b[0m\u001b[0mMedian\u001b[0m\u001b[1;33m(\u001b[0m\u001b[0ma\u001b[0m\u001b[1;33m,\u001b[0m\u001b[0mb\u001b[0m\u001b[1;33m,\u001b[0m\u001b[0mc\u001b[0m\u001b[1;33m)\u001b[0m\u001b[1;33m)\u001b[0m\u001b[1;33m\u001b[0m\u001b[1;33m\u001b[0m\u001b[0m\n\u001b[0m",
      "\u001b[1;31mNameError\u001b[0m: name 'Median' is not defined"
     ]
    }
   ],
   "source": [
    "a=int(input(\"첫번째 숫자를 입력하세요\"))\n",
    "b=int(input(\"두번째 숫자를 입력하세요\"))\n",
    "c=int(input(\"세번째 숫자를 입력하세요\"))\n",
    "print(Median(a,b,c))"
   ]
  },
  {
   "cell_type": "code",
   "execution_count": null,
   "metadata": {},
   "outputs": [],
   "source": [
    "a= int(input(\"first\"))\n",
    "b=int(input(\"second\"))\n",
    "c=int(input(\"third\"))\n",
    "\n",
    "\n",
    "\n",
    "\n"
   ]
  },
  {
   "cell_type": "code",
   "execution_count": null,
   "metadata": {},
   "outputs": [],
   "source": []
  },
  {
   "cell_type": "markdown",
   "metadata": {},
   "source": [
    "# Q12\n",
    "\n",
    "시험점수가 100~90점이면 A, 89~80점이라면 B, 79~60점이라면 C, 그 외에는 F라고 합니다.\n",
    "\n",
    "현수의 점수가 88점일 때, 현수의 성적을 조건문을 이용해서 출력해주세요."
   ]
  },
  {
   "cell_type": "code",
   "execution_count": 102,
   "metadata": {},
   "outputs": [
    {
     "name": "stdout",
     "output_type": "stream",
     "text": [
      "점수를 입력하세요88\n",
      "B 88\n"
     ]
    }
   ],
   "source": [
    "점수=int(input(\"점수를 입력하세요\"))\n",
    "if 100>=점수>=90:\n",
    "    print(\"A\",점수)\n",
    "elif 89>=점수>=80:\n",
    "    print(\"B\",점수)\n",
    "elif 79>=점수>=60:\n",
    "    print(\"C\",점수)\n",
    "else:\n",
    "    print(\"F\",점수)"
   ]
  },
  {
   "cell_type": "markdown",
   "metadata": {},
   "source": [
    "# Q13\n",
    "\n",
    "\n",
    "윤년(閏年)의 기준은 다음과 같습니다.\n",
    "\n",
    "1. 4로 나누어 떨어지지만 100으로 나누어 떨어지는 해는 평년으로 한다.\n",
    "2. 단, 400으로 나누어 떨어지는 해는 윤년으로 한다.(예: 2000년, 2400년)\n",
    "\n",
    "윤년일 경우 1, 아니라면 0을 출력하는 코드를 작성하세요."
   ]
  },
  {
   "cell_type": "code",
   "execution_count": 19,
   "metadata": {
    "scrolled": true
   },
   "outputs": [
    {
     "name": "stdout",
     "output_type": "stream",
     "text": [
      "해를 입력하세요2400\n",
      "1\n"
     ]
    }
   ],
   "source": [
    "年=int(input(\"해를 입력하세요\"))\n",
    "if 年%4 == 0 and 年%100 == 0 and 年%400 == 0:\n",
    "    print(\"1\")\n",
    "else:\n",
    "    print(\"0\")"
   ]
  },
  {
   "cell_type": "markdown",
   "metadata": {},
   "source": [
    "# Q14\n",
    "\n",
    "민주가 학교를 마치고 집에가려고 합니다. 민주가 집을 가는 방법은 총 3가지 입니다. \n",
    "* 택시를 타면 5,600원이 나오고\n",
    "* 버스를 타면 1,250원이 나오고\n",
    "* 걸어가면 중간에 간식을 사먹기 때문에 5,000원을 사용합니다.\n",
    "\n",
    "민주가 수중에 10,000원이 있을 때, 각각의 방법에 대한 잔돈을 구하는 코드를 작성해봅시다."
   ]
  },
  {
   "cell_type": "code",
   "execution_count": 80,
   "metadata": {},
   "outputs": [
    {
     "name": "stdout",
     "output_type": "stream",
     "text": [
      "집에 가는 방법을 입력하시오.걸어간다\n",
      "5000\n"
     ]
    }
   ],
   "source": [
    "하교=input(\"집에 가는 방법을 입력하시오.\")\n",
    "택시=5600\n",
    "버스=1250\n",
    "걸어간다=5000\n",
    "돈=10000\n",
    "if 하교 == \"택시\":\n",
    "    print(돈-택시)\n",
    "elif 하교 == \"버스\":\n",
    "    print(돈-버스)\n",
    "elif 하교 == \"걸어간다\":\n",
    "    print(돈-걸어간다)"
   ]
  },
  {
   "cell_type": "markdown",
   "metadata": {},
   "source": [
    "# String Special\n",
    "\n",
    "문자열을 다루는 능력은 기본입니다.\n",
    "\n",
    "파이썬에선 문자열과 관련된 수많은 함수를 포함하고 있습니다.\n",
    "\n",
    "모든 것을 외울 필요는 없지만, 자주 사용되는 몇개의 함수는 익혀둘 필요가 있습니다.\n",
    "\n",
    "이 파트에서는 적극적으로 검색을 이용하는 것을 권장합니다.\n",
    "\n",
    "프로그래머의 능력 중 하나는 자신이 필요한 정보를 빠르게 찾아내는 것입니다.\n",
    "\n",
    "이 부분에서는 문제를 푸는데 필요한 함수를 직접 찾아보며 풀어봅시다.\n",
    "\n",
    "<a href = \"https://wikidocs.net/13#_19\">참고자료 1 </a>\n",
    "\n",
    "<a href = \"http://edu.goorm.io/learn/lecture/3493/%EB%B0%94%EB%A1%9C-%EC%8B%A4%ED%96%89%ED%95%B4%EB%B3%B4%EB%A9%B4%EC%84%9C-%EB%B0%B0%EC%9A%B0%EB%8A%94-%ED%8C%8C%EC%9D%B4%EC%8D%AC3-python/lesson/404553/%EB%AC%B8%EC%9E%90%EC%97%B4-%ED%95%A8%EC%88%98\"> 참고자료 2 </a>"
   ]
  },
  {
   "cell_type": "markdown",
   "metadata": {},
   "source": [
    "# Q14\n",
    "\n",
    "```python\n",
    "a = \"Hi, my name is Nick\"\n",
    "a[-4:] = \"John\"\n",
    "```\n",
    "\n",
    "위 코드를 실행해보고, 작동되지 않는 이유를 서술해주세요.\n",
    "\n",
    "또한 replace 함수를 활용해서 a를 \"Hi, my name is john\"으로 바꿔봅시다."
   ]
  },
  {
   "cell_type": "code",
   "execution_count": 54,
   "metadata": {
    "scrolled": true
   },
   "outputs": [
    {
     "ename": "SyntaxError",
     "evalue": "invalid syntax (<ipython-input-54-afda2a6fb90d>, line 2)",
     "output_type": "error",
     "traceback": [
      "\u001b[1;36m  File \u001b[1;32m\"<ipython-input-54-afda2a6fb90d>\"\u001b[1;36m, line \u001b[1;32m2\u001b[0m\n\u001b[1;33m    a.[-4:] = \"John\"\u001b[0m\n\u001b[1;37m      ^\u001b[0m\n\u001b[1;31mSyntaxError\u001b[0m\u001b[1;31m:\u001b[0m invalid syntax\n"
     ]
    }
   ],
   "source": [
    "a = \"Hi, my name is Nick\" #문자열은 변경이 불가능하다.\n",
    "a.[-4:] = \"John\""
   ]
  },
  {
   "cell_type": "code",
   "execution_count": 82,
   "metadata": {},
   "outputs": [
    {
     "data": {
      "text/plain": [
       "'Hi, my name is john'"
      ]
     },
     "execution_count": 82,
     "metadata": {},
     "output_type": "execute_result"
    }
   ],
   "source": [
    "a = \"Hi, my name is Nick\"\n",
    "a.replace(\"Nick\", \"john\")"
   ]
  },
  {
   "cell_type": "markdown",
   "metadata": {},
   "source": [
    "# Q15\n",
    "\n",
    "적절한 함수를 사용해서 다음과 같은 문자열을 바꿔주세요.\n",
    "\n",
    "```python\n",
    "\n",
    "한글 = \"가 나 다 라 마 바 사\"\n",
    "```\n",
    "\n",
    "결과 : \"가-나-다-라-마-바-사\""
   ]
  },
  {
   "cell_type": "code",
   "execution_count": 107,
   "metadata": {},
   "outputs": [
    {
     "data": {
      "text/plain": [
       "'가-나-다-라-마-바-사'"
      ]
     },
     "execution_count": 107,
     "metadata": {},
     "output_type": "execute_result"
    }
   ],
   "source": [
    "한글 = \"가나다라마바사\"\n",
    "\"-\".join(한글)"
   ]
  },
  {
   "cell_type": "markdown",
   "metadata": {},
   "source": [
    "# Q16\n",
    "\n",
    "다음과 같은 문자열을 바꿔주세요.\n",
    "\n",
    "```python\n",
    "\n",
    "rev = \"장발장은 거꾸로 말해도 장발장\"\n",
    "```\n",
    "\n",
    "결과 : \"장발장은 도해말 로꾸꺼 은장발장\"\n",
    "\n",
    "tip) 슬라이싱의 기본문법 중, 스텝에 집중해봅시다. [시작:끝:스텝]"
   ]
  },
  {
   "cell_type": "code",
   "execution_count": 136,
   "metadata": {},
   "outputs": [
    {
     "data": {
      "text/plain": [
       "'장발장 도해말 로꾸거 은장발장'"
      ]
     },
     "execution_count": 136,
     "metadata": {},
     "output_type": "execute_result"
    }
   ],
   "source": [
    "rev = \"장발장은 거꾸로 말해도 장발장\"\n",
    "rev[::-1]"
   ]
  },
  {
   "cell_type": "code",
   "execution_count": 56,
   "metadata": {
    "scrolled": true
   },
   "outputs": [
    {
     "data": {
      "text/plain": [
       "'장발장 도해말 로꾸거 은장발장'"
      ]
     },
     "execution_count": 56,
     "metadata": {},
     "output_type": "execute_result"
    }
   ],
   "source": [
    "rev = \"장발장은 거꾸로 말해도 장발장\"\n",
    "rev[16::-1]"
   ]
  },
  {
   "cell_type": "code",
   "execution_count": 57,
   "metadata": {},
   "outputs": [
    {
     "data": {
      "text/plain": [
       "'은 거꾸로 말해도 장발장'"
      ]
     },
     "execution_count": 57,
     "metadata": {},
     "output_type": "execute_result"
    }
   ],
   "source": [
    "rev = \"장발장은 거꾸로 말해도 장발장\"\n",
    "rev[3:]"
   ]
  },
  {
   "cell_type": "code",
   "execution_count": 58,
   "metadata": {},
   "outputs": [
    {
     "data": {
      "text/plain": [
       "'장발장은 '"
      ]
     },
     "execution_count": 58,
     "metadata": {},
     "output_type": "execute_result"
    }
   ],
   "source": [
    "rev = \"장발장은 거꾸로 말해도 장발장\"\n",
    "rev[:5]"
   ]
  },
  {
   "cell_type": "markdown",
   "metadata": {},
   "source": [
    "# Q17\n",
    "\n",
    "문자열에 불필요한 특수문자를 제거한 뒤 출력해봅시다.\n",
    "\n",
    "(strip함수를 이용해봅시다.)\n",
    "\n",
    "```python\n",
    "strip_prac = \"###+++remove please----////\"\n",
    "```\n",
    "\n",
    "결과: \"remove please\""
   ]
  },
  {
   "cell_type": "code",
   "execution_count": 138,
   "metadata": {},
   "outputs": [
    {
     "data": {
      "text/plain": [
       "'remove please'"
      ]
     },
     "execution_count": 138,
     "metadata": {},
     "output_type": "execute_result"
    }
   ],
   "source": [
    "strip_prac = \"###+++remove please----////\"\n",
    "strip_prac.strip(\"#+-/\")"
   ]
  },
  {
   "cell_type": "markdown",
   "metadata": {},
   "source": [
    "# Q18\n",
    "\n",
    "?? 안에 알맞은 문자열 함수를 집어넣어서 완성해주세요.\n",
    "\n",
    "```python\n",
    "\n",
    "a = \"softsquared is the best place for the study\"\n",
    "\n",
    "print(\"공백의 개수는 {}입니다.\".format(??))\n",
    "\n",
    "print(\"t가 등장하는 횟수는 {}회 입니다.\"format(??))\n",
    "```"
   ]
  },
  {
   "cell_type": "code",
   "execution_count": 144,
   "metadata": {},
   "outputs": [
    {
     "name": "stdout",
     "output_type": "stream",
     "text": [
      "공백의 개수는 7입니다.\n",
      "t가 등장하는 횟수는 5회 입니다.\n"
     ]
    }
   ],
   "source": [
    "a = \"softsquared is the best place for the study\"\n",
    "\n",
    "print(\"공백의 개수는 {}입니다.\".format(a.count(' ')))\n",
    "print(\"t가 등장하는 횟수는 {}회 입니다.\".format(a.count('t')))"
   ]
  },
  {
   "cell_type": "markdown",
   "metadata": {},
   "source": [
    "# Q19\n",
    "\n",
    "민희의 전화번호는 010-4568-1234 입니다. 민희의 전화번호에서 -를 제외하고 숫자만 나눠서 출력해주세요.\n",
    "\n",
    "```python\n",
    "\n",
    "민희 = \"010-4568-1234\"\n",
    "```\n",
    "\n",
    "결과:<br>\n",
    "010<br>\n",
    "4568<br>\n",
    "1234"
   ]
  },
  {
   "cell_type": "code",
   "execution_count": 155,
   "metadata": {
    "scrolled": true
   },
   "outputs": [
    {
     "name": "stdout",
     "output_type": "stream",
     "text": [
      "010\n",
      "4568\n",
      "1234\n"
     ]
    }
   ],
   "source": [
    "민희 = \"010-4568-1234\"\n",
    "a = 민희.replace(\"-\",\"\\n\")\n",
    "print(a)"
   ]
  },
  {
   "cell_type": "markdown",
   "metadata": {},
   "source": [
    "# Q20\n",
    "\n",
    "a 문자열의 길이를 구합시다.\n",
    "\n",
    "```python\n",
    "a = \"정말 쉬운 파이썬, 너무 너무 쉬워서 재미있는 파이썬! 얼마나 좋게요~!\"\n",
    "```"
   ]
  },
  {
   "cell_type": "code",
   "execution_count": 183,
   "metadata": {
    "scrolled": true
   },
   "outputs": [
    {
     "data": {
      "text/plain": [
       "40"
      ]
     },
     "execution_count": 183,
     "metadata": {},
     "output_type": "execute_result"
    }
   ],
   "source": [
    "a = \"정말 쉬운 파이썬, 너무 너무 쉬워서 재미있는 파이썬! 얼마나 좋게요~!\"\n",
    "len(a)"
   ]
  }
 ],
 "metadata": {
  "kernelspec": {
   "display_name": "Python 3",
   "language": "python",
   "name": "python3"
  },
  "language_info": {
   "codemirror_mode": {
    "name": "ipython",
    "version": 3
   },
   "file_extension": ".py",
   "mimetype": "text/x-python",
   "name": "python",
   "nbconvert_exporter": "python",
   "pygments_lexer": "ipython3",
   "version": "3.7.4"
  }
 },
 "nbformat": 4,
 "nbformat_minor": 2
}
