{
 "cells": [
  {
   "cell_type": "markdown",
   "metadata": {},
   "source": [
    "<img src = \"https://apply.softsquared.com/custom/img/logo.png\">\n",
    "\n",
    "## 4주차 과제입니다.\n",
    "\n",
    "우리는 객체지향 프로그래밍과 클래스와 객체에 대해서 배워보았습니다.\n",
    "\n",
    "이에 대한 과제를 제공해 드립니다.\n",
    "\n",
    "과제를 하시는 동안 정보검색은 적극 권장됩니다."
   ]
  },
  {
   "cell_type": "markdown",
   "metadata": {},
   "source": [
    "# Q1.\n",
    "\n",
    "다음의 조건에 맞는 코드를 완성하세요.\n",
    "\n",
    "1. 클래스명: `User`\n",
    "2. 인스턴스 속성: `name, phone_number, age`\n",
    "3. 인스턴스 메서드명: `basic_info`\n",
    "\n",
    "```python\n",
    "\n",
    "# 실행 예시\n",
    "\n",
    "김계란 = User()\n",
    "김계란.basic_info()\n",
    "    \n",
    "    이름을 입력하세요: 김계란\n",
    "    휴대폰 번호를 입력하세요: 010-1234-1234\n",
    "    나이를 입력하세요: 3\n",
    "    \n",
    "    이름: 김계란\n",
    "    연락처: 010-1234-1234\n",
    "    나이: 3세\n",
    "```"
   ]
  },
  {
   "cell_type": "code",
   "execution_count": 2,
   "metadata": {},
   "outputs": [],
   "source": [
    "# write your code here!!"
   ]
  },
  {
   "cell_type": "markdown",
   "metadata": {},
   "source": [
    "# Q2.\n",
    "\n",
    "다음의 조건에 맞는 회원가입 코드를 완성하세요.\n",
    "\n",
    "1. 클래스명: `Register`\n",
    "2. 인스턴스 변수: `input_id, input_pwd`\n",
    "3. 클래스 변수: `user_id`\n",
    "4. 인스턴스 메서드: `check_id, check_pwd, is_valid`\n",
    "\n",
    "`인스턴스 메서드 check_id, check_pwd, is_valid 각각 회원의 아이디, 비밀번호를 확인, 중복검사을 하는 메서드입니다.`\n",
    "\n",
    "```python\n",
    "\n",
    "#실행예시\n",
    "\n",
    "짱구 = Register(input_id = \"a123\", input_pwd = \"wow1234\")\n",
    "짱구.check_id()\n",
    "짱구.check_pwd()\n",
    "철수 = Register(input_id = \"a123\", input_pwd = \"hahaha\")\n",
    "    'a123`\n",
    "    'wow1234'\n",
    "    '이미 존재하는 아이디입니다.'\n",
    "    \n",
    "```"
   ]
  },
  {
   "cell_type": "code",
   "execution_count": null,
   "metadata": {},
   "outputs": [],
   "source": [
    "# write your code here!!"
   ]
  },
  {
   "cell_type": "markdown",
   "metadata": {},
   "source": [
    "# Q3.\n",
    "\n",
    "```python\n",
    "\n",
    "\"what i really want to say\"\n",
    "\n",
    "```\n",
    "\n",
    "아래의 코드를 실행시켰을 때 위와 같은 결과를 얻고 싶습니다.\n",
    "\n",
    "잘못된 부분을 고쳐주세요."
   ]
  },
  {
   "cell_type": "code",
   "execution_count": 2,
   "metadata": {},
   "outputs": [
    {
     "name": "stdout",
     "output_type": "stream",
     "text": [
      "this is global variable\n"
     ]
    }
   ],
   "source": [
    "# write your code here!!\n",
    "\n",
    "a = \"this is global variable\"\n",
    "\n",
    "class A:\n",
    "    a = \"\"\n",
    "    \n",
    "    def modify(self, a):\n",
    "        self.a = a\n",
    "    \n",
    "    def say(self):\n",
    "        print(a)\n",
    "        \n",
    "instance_a = A()\n",
    "instance_a.modify(\"what i really want to say\")\n",
    "instance_a.say()"
   ]
  },
  {
   "cell_type": "markdown",
   "metadata": {},
   "source": [
    "# Q4\n",
    "\n",
    "아래 공식을 참고해서, 정육면체의 부피와 겉넓이가 반환되는 코드를 작성하세요.\n",
    "\n",
    "필요한 메서드와 속성은 나름대로 추가하시길 바랍니다.\n",
    "\n",
    "`부피 = 한변의 길이 * 한변의 길이 * 한변의 길이`\n",
    "\n",
    "`겉넓이 = 6 * 한변의 길이 * 한변의 길이`\n",
    "\n",
    "\n",
    "```python\n",
    "\n",
    "# 실행 예시\n",
    "\n",
    "a = Cube(3)\n",
    "b = Cube(5)\n",
    "\n",
    "\n",
    "# 출력 예시\n",
    "\n",
    "한변의 길이가 3인 정육면체의 부피: 27, 겉넓이: 54\n",
    "한변의 길이가 5인 정육면체의 부피: 125, 겉넓이: 150\n",
    "```     "
   ]
  },
  {
   "cell_type": "code",
   "execution_count": null,
   "metadata": {},
   "outputs": [],
   "source": [
    "# write your code here!!"
   ]
  },
  {
   "cell_type": "markdown",
   "metadata": {},
   "source": [
    "# Q5\n",
    "\n",
    "복합 클래스 문제\n",
    "\n",
    "배달음식 메뉴의 총합과 주문목록을 구하려고 합니다.\n",
    "\n",
    "다음의 조건에 맞는 코드를 완성하세요.\n",
    "\n",
    "`클래스명: Order`<br>\n",
    "`인스턴스 속성: order_num, menu_list`<br>\n",
    "`인스턴스 메서드: total_price, total_menu`<br>\n",
    "\n",
    "`클래스명: Menu`<br>\n",
    "`인스턴스 속성: name, price`"
   ]
  },
  {
   "cell_type": "markdown",
   "metadata": {},
   "source": [
    "```python     \n",
    "\n",
    "# 메뉴 객체 생성        \n",
    "치킨 = Menu(name = \"치킨\", price = 18000)\n",
    "짜장면 = Menu(name = \"짜장면\", price = 10000)\n",
    "피자 = Menu(name = \"피자\", price = 21000)\n",
    "\n",
    "# 메뉴를 합쳐서 전달\n",
    "menu_list = [치킨, 짜장면, 피자]\n",
    "\n",
    "new_order = Order(order_num = 555, menu_list=menu_list)\n",
    "\n",
    "# 주문 결과 출력\n",
    "\n",
    "print(f\"주문합계 {new_order.total_price()}원입니다.\")\n",
    "print(f\"주문목록은 {new_order.total_menu()}입니다.\")\n",
    "```"
   ]
  },
  {
   "cell_type": "code",
   "execution_count": null,
   "metadata": {},
   "outputs": [],
   "source": [
    "# write your code here!!"
   ]
  },
  {
   "cell_type": "markdown",
   "metadata": {},
   "source": [
    "# Q6\n",
    "\n",
    "김계란씨는 최근에 어느 광산에 취직했습니다.\n",
    "\n",
    "그 광산엔 금, 은, 다이아몬드가 있다고 합니다.\n",
    "\n",
    "김계란씨의 목표는 금, 은, 다이아몬드를 각각 1개씩 채굴하는 것이고\n",
    "\n",
    "김계란씨를 광부 클래스의 객체로 생성하고 위의 문제를 해결하세요.\n",
    "\n",
    "\n",
    "```python\n",
    "\n",
    "# 실행예시\n",
    "\n",
    "# 목표=[금,은,다이아몬드] 순서로 대입합니다. 즉, 아래 목표는 금, 은, 다이아를 각각 1개씩으로 하는 것을 목표로 한 것입니다.\n",
    "\n",
    "김계란 = 광부(이름='김계란', 목표=[1,1,1])\n",
    "\n",
    "김계란.채굴()\n",
    "    무슨 광물을 채굴할까? 금\n",
    "    뚝딱뚝뚝....(3초)\n",
    "    금을 채굴했습니다.\n",
    "김계란.광물확인()\n",
    "    김계란씨는 현재 금 1개, 은 0개, 다이아몬드 0개를 가지고 있습니다.\n",
    "    목표까지 금 0개, 은 1개, 다이아몬드 1개가 필요합니다.\n",
    "김계란.채굴()\n",
    "    무슨 광물을 채굴할까? 은\n",
    "    뚝딱뚝뚝....(3초)\n",
    "    은을 채굴했습니다.\n",
    "김계란.채굴()\n",
    "    무슨 광물을 채굴할까? 다이아몬드\n",
    "    뚝딱뚝뚝....(3초)\n",
    "    다이아몬드를 채굴했습니다.\n",
    "김계란.광물확인()\n",
    "    김계란씨는 현재 금 1개, 은 1개, 다이아몬드 1개를 가지고 있습니다.\n",
    "    축하합니다. 목표를 달성했습니다!\n",
    "    \n",
    "```"
   ]
  },
  {
   "cell_type": "code",
   "execution_count": null,
   "metadata": {},
   "outputs": [],
   "source": [
    "# write your code here!!"
   ]
  },
  {
   "cell_type": "markdown",
   "metadata": {},
   "source": [
    "# Q7\n",
    "\n",
    "다음의 조건에 맞는 코드를 완성하세요. 기능에 필요한 부분을 나름대로 추가하시길 바랍니다.\n",
    "\n",
    "\n",
    "`클래스명: ATM`<br>\n",
    "`인스턴스 속성: money`<br>\n",
    "`인스턴스 메서드: save, withdraw, check_balance, exit`<br>\n",
    "단, 잔액이 부족하다면 출금이 불가능합니다.<br>\n",
    "save, withdraw, check_balance는 각각 입금, 출금, 잔액 확인을 하는 메서드임\n",
    "\n",
    "```python\n",
    "\n",
    "#실행 예시\n",
    "\n",
    "김철수 = ATM(money = 10000)\n",
    "\n",
    "#출력 예시\n",
    "\n",
    "\n",
    "1. 입금\n",
    "2. 출금\n",
    "3. 잔액확인\n",
    "4. 거래종료\n",
    "선택(1~4): 3\n",
    "잔액: 10000\n",
    "\n",
    "1. 입금\n",
    "2. 출금\n",
    "3. 잔액확인\n",
    "4. 거래종료\n",
    "선택(1~4): 2\n",
    "출금액: 500000\n",
    "잔액이 부족합니다.\n",
    "\n",
    "1. 입금\n",
    "2. 출금\n",
    "3. 잔액확인\n",
    "4. 거래종료\n",
    "선택(1~4): 2\n",
    "출금액: 1000\n",
    "출금 후 잔액: 9000.\n",
    "    \n",
    "    \n",
    "    \n",
    "# 거래종료를 입력할때까지 반복되어야 합니다.\n",
    "\n",
    "\n",
    "```"
   ]
  },
  {
   "cell_type": "code",
   "execution_count": null,
   "metadata": {},
   "outputs": [],
   "source": [
    "# write your code here!!"
   ]
  },
  {
   "cell_type": "markdown",
   "metadata": {},
   "source": [
    "# Q8\n",
    "\n",
    "계좌 이체를 자유롭게 구현하세요.\n",
    "\n",
    "```python\n",
    "\n",
    "#실행 예시\n",
    "\n",
    "철수 = Bank(name = '철수', balance = 10000)\n",
    "짱구 = Bank(name = '짱구', balance = 20000)\n",
    "\n",
    "철수.transfer(target = 짱구, money = 2000)\n",
    "짱구.check_balance()\n",
    "\n",
    "철수.transfer(target = 짱구, money = 50000)\n",
    "\n",
    "# 출력 예시\n",
    "\n",
    "철수가 짱구에게 2000원을 송금했습니다. 철수의 잔액은 8000원입니다.\n",
    "짱구의 잔액은 22000원입니다.\n",
    "\n",
    "잔액이 부족하여 송금이 불가능합니다.\n",
    "\n",
    "```"
   ]
  },
  {
   "cell_type": "code",
   "execution_count": null,
   "metadata": {},
   "outputs": [],
   "source": [
    "# write your code here!!"
   ]
  },
  {
   "cell_type": "markdown",
   "metadata": {},
   "source": [
    "# Q9\n",
    "\n",
    "어느 게임에서 초보자는 마법사로 전직할 수 있다고 합니다.\n",
    "\n",
    "마법사는 초보자의 모든 속성을 중복하여 가지고 있다고 합니다.\n",
    "\n",
    "`상속을 이용해서 중복된 코드를 제거해주세요.`"
   ]
  },
  {
   "cell_type": "code",
   "execution_count": 30,
   "metadata": {},
   "outputs": [
    {
     "name": "stdout",
     "output_type": "stream",
     "text": [
      "이름: 닥터스트레인지 HP: 100, SP: 100\n"
     ]
    }
   ],
   "source": [
    "# write your code here!!\n",
    "\n",
    "class 초보자:\n",
    "    def __init__(self, name, hp):\n",
    "        self.name = name\n",
    "        self.hp = hp\n",
    "        \n",
    "    def print_info(self):\n",
    "        return print(f\"이름: {self.name} HP: {self.hp}\")\n",
    "    \n",
    "    \n",
    "class 마법사:\n",
    "    def __init__(self, name, hp, sp):\n",
    "        self.name = name\n",
    "        self.hp = hp\n",
    "        self.sp = sp\n",
    "        \n",
    "    def print_info(self):\n",
    "        return print(f\"이름: {self.name} HP: {self.hp}, SP: {self.sp}\")\n",
    "    \n",
    "    \n",
    "wizard_obj = 마법사(\"닥터스트레인지\", 100, 100)\n",
    "wizard_obj.print_info()"
   ]
  },
  {
   "cell_type": "markdown",
   "metadata": {},
   "source": [
    "# Q10\n",
    "\n",
    "다음의 조건에 맞는 코드를 완성하세요\n",
    "\n",
    "```\n",
    "클래스명: Human\n",
    "인스턴스 변수: name, phone\n",
    "인스턴스 메서드: 생성자, print_info\n",
    "\n",
    "클래스명: Student\n",
    "상속: Human\n",
    "인스턴스 변수: college, student_id\n",
    "인스턴스 메서드: 생성자, print_info\n",
    "```\n",
    "\n",
    "```python\n",
    "\n",
    "#실행예시\n",
    "\n",
    "철수 = Student(name = \"철수\", phone= \"010-1234-1234\", college = \"Harvard\", student_id = 1234)\n",
    "철수.print_info()```\n",
    "\n",
    "```\n",
    "# 결과\n",
    "\n",
    "이름: 철수\n",
    "번호: 010-1234-1234\n",
    "학교: Harvard 대학교\n",
    "학번: 1234\n",
    "```"
   ]
  },
  {
   "cell_type": "code",
   "execution_count": null,
   "metadata": {},
   "outputs": [],
   "source": [
    "# write your code here!!"
   ]
  }
 ],
 "metadata": {
  "kernelspec": {
   "display_name": "Python 3",
   "language": "python",
   "name": "python3"
  },
  "language_info": {
   "codemirror_mode": {
    "name": "ipython",
    "version": 3
   },
   "file_extension": ".py",
   "mimetype": "text/x-python",
   "name": "python",
   "nbconvert_exporter": "python",
   "pygments_lexer": "ipython3",
   "version": "3.7.4"
  }
 },
 "nbformat": 4,
 "nbformat_minor": 2
}
