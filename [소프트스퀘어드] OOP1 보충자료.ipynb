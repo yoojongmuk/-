{
 "cells": [
  {
   "cell_type": "markdown",
   "metadata": {},
   "source": [
    "# OOP1 보충자료\n",
    "\n",
    "클래스는 무언가를 만들기 위한 `설계도`라고 했죠.\n",
    "\n",
    "그리고 설계도에 들어가는 각종 기능, 데이터 등의 특징에 따라 클래스의 `인스턴스 속성, 인스턴스 메서드, 클래스 속성, 클래스 메서드, 정적 메서드, 상속`을 배워보았는데요.\n",
    "\n",
    "다 버려도 좋으니 우선 딱 두가지만 기억합시다. 그리고 필요할 때 다시 한번 공부해봅시다.\n",
    "\n",
    "가장 중요하다고 생각 되는 것은 아래의 두개입니다.\n",
    "\n",
    "`인스턴스 속성과 인스턴스 메서드`"
   ]
  },
  {
   "cell_type": "markdown",
   "metadata": {},
   "source": [
    "\n",
    "<img src =\"http://menu.mt.co.kr/moneyweek/thumb/2019/09/19/06/2019091911048047965_1.jpg\" width = 300>"
   ]
  },
  {
   "cell_type": "markdown",
   "metadata": {},
   "source": [
    "# 클래스\n",
    "\n",
    "클래스는 크게 기능과 데이터를 가지고 있습니다.\n",
    "\n",
    "각각 메서드와 속성으로 불린다고 했죠.\n",
    "\n",
    "예를 들어서 사람(클래스)은 걷고, 말할 수 있는 기능(메서드)이 있습니다.\n",
    "또 각 사람은 이름, 나이, 몸무게, 성별 등의 데이터(속성)이 있습니다.\n",
    "\n",
    "기능은 클래스 내에서 정의되는 함수로, 메서드라고 부른다고 했습니다.\n",
    "\n",
    "`def 메서드명(self, args ~~)`\n",
    "\n",
    "속성은 클래스 내에서 생성자를 통해 다음과 정의된다고 배웠습니다.\n",
    "\n",
    "`self.속성명 = 값`"
   ]
  },
  {
   "cell_type": "markdown",
   "metadata": {},
   "source": [
    "======================="
   ]
  },
  {
   "cell_type": "markdown",
   "metadata": {},
   "source": [
    "어떤 객체는 이렇게\n",
    "\n",
    "a = A()\n",
    "\n",
    "또 어떤 객체는 다음과 같이 정의 되는 것에 대해 혼란이 있을 수 있습니다.\n",
    "\n",
    "a = A(1, 2, 3)\n",
    "\n",
    "아래의 주석과 코드를 잘 읽어보시고 이해해보세요!"
   ]
  },
  {
   "cell_type": "markdown",
   "metadata": {},
   "source": [
    "### 모든 객체의 속성을 기본값으로 설정해 두는 방법"
   ]
  },
  {
   "cell_type": "code",
   "execution_count": 1,
   "metadata": {},
   "outputs": [],
   "source": [
    "# 사람의 이름, 나이, 키 속성을 기본적으로 신짱구, 5살, 120cm로 설정해두는 것\n",
    "\n",
    "class 사람:\n",
    "    # 속성 = 데이터, 는 생성자 안에서 만들자.\n",
    "    def __init__(self):\n",
    "        self.이름 = \"신짱구\"\n",
    "        self.나이 = 5\n",
    "        self.키 = 120"
   ]
  },
  {
   "cell_type": "code",
   "execution_count": 2,
   "metadata": {},
   "outputs": [
    {
     "data": {
      "text/plain": [
       "('신짱구', 5, 120)"
      ]
     },
     "execution_count": 2,
     "metadata": {},
     "output_type": "execute_result"
    }
   ],
   "source": [
    "obj = 사람()\n",
    "obj.이름, obj.나이, obj.키"
   ]
  },
  {
   "cell_type": "code",
   "execution_count": 3,
   "metadata": {},
   "outputs": [
    {
     "data": {
      "text/plain": [
       "('신형만', 5, 120)"
      ]
     },
     "execution_count": 3,
     "metadata": {},
     "output_type": "execute_result"
    }
   ],
   "source": [
    "# 바꿀 수도 있다.\n",
    "obj.이름 = \"신형만\"\n",
    "obj.이름, obj.나이, obj.키"
   ]
  },
  {
   "cell_type": "markdown",
   "metadata": {},
   "source": [
    "### 객체를 생성할 때 속성의 값을 전달하는 방법"
   ]
  },
  {
   "cell_type": "code",
   "execution_count": 5,
   "metadata": {},
   "outputs": [],
   "source": [
    "# 인스턴스를 생성할 때 속성 값을 전달\n",
    "\n",
    "class 사람:\n",
    "    def __init__(self, name, age, height):\n",
    "        self.이름 = name\n",
    "        self.나이 = age\n",
    "        self.키 = height"
   ]
  },
  {
   "cell_type": "code",
   "execution_count": 6,
   "metadata": {},
   "outputs": [
    {
     "data": {
      "text/plain": [
       "('철수', 5, 130)"
      ]
     },
     "execution_count": 6,
     "metadata": {},
     "output_type": "execute_result"
    }
   ],
   "source": [
    "# 객체를 생성할 때, 생성자에 값을 전달해줘야 한다.\n",
    "\n",
    "obj = 사람(\"철수\", 5, 130)\n",
    "obj.이름, obj.나이, obj.키"
   ]
  },
  {
   "cell_type": "code",
   "execution_count": 7,
   "metadata": {},
   "outputs": [
    {
     "ename": "AttributeError",
     "evalue": "'사람' object has no attribute '사람'",
     "output_type": "error",
     "traceback": [
      "\u001b[1;31m---------------------------------------------------------------------------\u001b[0m",
      "\u001b[1;31mAttributeError\u001b[0m                            Traceback (most recent call last)",
      "\u001b[1;32m<ipython-input-7-471f9603fab8>\u001b[0m in \u001b[0;36m<module>\u001b[1;34m\u001b[0m\n\u001b[1;32m----> 1\u001b[1;33m \u001b[0mobj\u001b[0m\u001b[1;33m.\u001b[0m\u001b[0m사람\u001b[0m\u001b[1;33m(\u001b[0m\u001b[0mself\u001b[0m\u001b[1;33m)\u001b[0m\u001b[1;33m\u001b[0m\u001b[1;33m\u001b[0m\u001b[0m\n\u001b[0m",
      "\u001b[1;31mAttributeError\u001b[0m: '사람' object has no attribute '사람'"
     ]
    }
   ],
   "source": [
    "obj.사람(self)"
   ]
  },
  {
   "cell_type": "code",
   "execution_count": 6,
   "metadata": {},
   "outputs": [
    {
     "data": {
      "text/plain": [
       "('훈이', 5, 130)"
      ]
     },
     "execution_count": 6,
     "metadata": {},
     "output_type": "execute_result"
    }
   ],
   "source": [
    "# 이것 역시 바꿀 수 있다.\n",
    "obj.이름 = \"훈이\"\n",
    "obj.이름, obj.나이, obj.키"
   ]
  },
  {
   "cell_type": "code",
   "execution_count": null,
   "metadata": {},
   "outputs": [],
   "source": []
  },
  {
   "cell_type": "markdown",
   "metadata": {},
   "source": [
    "### 사람의 기능을 만들자. 메서드 구현"
   ]
  },
  {
   "cell_type": "code",
   "execution_count": 8,
   "metadata": {},
   "outputs": [],
   "source": [
    "class 사람:\n",
    "    def __init__(self, name, age, height):\n",
    "        self.이름 = name\n",
    "        self.나이 = age\n",
    "        self.키 = height\n",
    "\n",
    "    # 기능 = 메서드, 는 함수형태로 만들자\n",
    "    def 걷기(self):\n",
    "        print(\"뚜벅뚜벅\")\n",
    "    \n",
    "    # 다음과 같이 메서드 내에서 속성을 사용 할 수 있다.\n",
    "    def 말하기(self):\n",
    "        print(f\"안녕하세요 제 이름은 {self.이름}입니다.\")"
   ]
  },
  {
   "cell_type": "code",
   "execution_count": 9,
   "metadata": {},
   "outputs": [
    {
     "name": "stdout",
     "output_type": "stream",
     "text": [
      "뚜벅뚜벅\n",
      "안녕하세요 제 이름은 로니입니다.\n"
     ]
    }
   ],
   "source": [
    "인간 = 사람(name = \"로니\", age=25, height = 182)\n",
    "인간.걷기()\n",
    "인간.말하기()"
   ]
  },
  {
   "cell_type": "markdown",
   "metadata": {},
   "source": [
    "### 기억할 것.\n",
    "\n",
    "1. 생성자는 객체를 생성함과 동시에 실행 되는 메서드라는 점.\n",
    "\n",
    "2. 클래스 내부에 있는 메서드, 속성들은 상호배타적인 것이 아니라 서로 유기적으로 사용할 수 있다는 점.\n",
    "\n",
    "예를들어, 생성자에 말하기 메서드를 넣으면 객체가 생성되자마자 말하는 기능을 구현할 수 있다는 것"
   ]
  },
  {
   "cell_type": "code",
   "execution_count": 10,
   "metadata": {},
   "outputs": [],
   "source": [
    "class 사람:\n",
    "    def __init__(self, name, age, height):\n",
    "        self.이름 = name\n",
    "        self.나이 = age\n",
    "        self.키 = height\n",
    "        self.말하기() # 생성자에 말하기 메서드를 추가했다.\n",
    "\n",
    "    # 기능 = 메서드, 는 함수형태로 만들자\n",
    "    def 걷기(self):\n",
    "        print(\"뚜벅뚜벅\")\n",
    "    \n",
    "    \n",
    "    def 말하기(self):\n",
    "        print(f\"안녕하세요 제 이름은 {self.이름}입니다.\") # 다음과 같이 메서드 내에서 속성을 사용 할 수 있다."
   ]
  },
  {
   "cell_type": "code",
   "execution_count": 11,
   "metadata": {
    "scrolled": true
   },
   "outputs": [
    {
     "name": "stdout",
     "output_type": "stream",
     "text": [
      "안녕하세요 제 이름은 로니입니다.\n"
     ]
    }
   ],
   "source": [
    "인간 = 사람(name = \"로니\", age=25, height = 182)"
   ]
  },
  {
   "cell_type": "markdown",
   "metadata": {},
   "source": [
    "이 보충자료를 참고해서 과제를 진행해주시구요.\n",
    "\n",
    "나머지 `클래스 속성, 클래스 메서드, 정적 메서드, 상속` 이런 녀석들은 `인스턴스 속성과 메서드`를 잘 이해하고 있다면 구글링해서도 충분히 습득하실 수 있을 것이라고 생각합니다.\n",
    "\n",
    "궁금하신게 있다면 슬랙을 통해 언제든 질문주시구요.\n",
    "\n",
    "여러분 새해 복 많이 받으세요~ 2주 뒤에 보아요\n",
    "\n",
    "<img src=\"https://i.pinimg.com/736x/93/0a/9c/930a9c3137d9c9bd08ab5b5cd9617db1.jpg\" width= 300>"
   ]
  }
 ],
 "metadata": {
  "kernelspec": {
   "display_name": "Python 3",
   "language": "python",
   "name": "python3"
  },
  "language_info": {
   "codemirror_mode": {
    "name": "ipython",
    "version": 3
   },
   "file_extension": ".py",
   "mimetype": "text/x-python",
   "name": "python",
   "nbconvert_exporter": "python",
   "pygments_lexer": "ipython3",
   "version": "3.7.4"
  }
 },
 "nbformat": 4,
 "nbformat_minor": 2
}
