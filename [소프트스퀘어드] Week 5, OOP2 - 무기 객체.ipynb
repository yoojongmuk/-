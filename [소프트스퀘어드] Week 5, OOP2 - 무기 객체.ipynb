{
 "cells": [
  {
   "cell_type": "markdown",
   "metadata": {},
   "source": [
    "# OOP의 설계\n",
    "\n",
    "게임을 객체지향적으로 바라보고 설계하자.\n",
    "\n",
    "본 설계의 목적은 개임에서 캐릭터가 몬스터를 사냥하고 이동하는 과정을 객체간의 관계로 구현해보는 것입니다."
   ]
  },
  {
   "cell_type": "markdown",
   "metadata": {},
   "source": [
    "```평화로운 마을 주변에 버섯괴물과 멧돼지가 나타나서 주민들에게 피해를 주기 시작했다. 유저는 영웅이 되어 마을 주변의 몬스터를 해치워서 마을의 평화를 지켜내야한다.```\n",
    "\n",
    "여기서 영웅, 몬스터, 마을, 마을 주변 등이 각각 하나의 객체가 될 수 있습니다.\n",
    "\n",
    "### 아래의 내용은 배포전에 삭제하고 같이 생각해보기\n",
    "\n",
    "`캐릭터: 전사, 마법사\n",
    "몬스터: 주황버섯, 멧돼지\n",
    "장면: 마을, 동굴, 초원`\n",
    "\n",
    "`캐릭터의 속성:HP, SP, 무기,\n",
    "캐릭터의 메서드: 일반공격, 특수공격(스킬)`\n",
    "\n",
    "`몬스터의 속성: HP\n",
    "몬스터의 메서드: 일반 공격`\n",
    "\n",
    "`장면의 속성: 캐릭터, 몬스터\n",
    "장면의 기능: 게임의 진행(장면 넘어가기, 해설 등)`"
   ]
  },
  {
   "cell_type": "markdown",
   "metadata": {},
   "source": [
    "### 객체 관계\n",
    "\n",
    "* 캐릭터는 몬스터와 데미지를 주고 받을 수 있습니다.\n",
    "* 또한 캐릭터나 몬스터는 장면을 오가며 게임을 진행합니다."
   ]
  },
  {
   "cell_type": "markdown",
   "metadata": {},
   "source": [
    "### 클래스 간의 관계 (상속 vs 합성)\n",
    "\n",
    "1. 장면은 캐릭터와 몬스터를 가지고 있어야 합니다.(Has-a) 즉, 장면은 캐릭터와 몬스터의 합성입니다.\n",
    "2. 캐릭터와 몬스터가 데미지를 주고 받기 위해서는 서로의 HP를 깎아야합니다. 하지만 그렇다고 캐릭터가 몬스터의 일부는 아니기 때문에 합성이라고 할 수는 없습니다. 이런 관계를 연관이라고 합니다.\n",
    "3. 캐릭터는 전사와 마법사가 있다고 합시다. 그럼 이는 상속관계입니다. 같은 논리로 몬스터 - 버섯, 멧돼지도 상속입니다."
   ]
  },
  {
   "cell_type": "markdown",
   "metadata": {},
   "source": [
    "### 객체지향 설계\n",
    "\n",
    "`객체지향 설계는 객체들간의 관계, 협력을 설계하는 것입니다.`\n",
    "\n",
    "협력을 설계할 때는 객체보다는 메세지를 먼저 선택하고, 그 후에 메세지를 수행하기에 적절한 객체를 선택해야 합니다.\n",
    "\n",
    "즉, 무엇을 할지 정의를 하고 적합한 객체를 선택하는 것입니다.\n",
    "\n",
    "그 후 메세지를 수행할 객체는 메세지를 처리할 책임을 맡게 됩니다. 즉, 해당 객체의 메서드와 속성이 됩니다.\n",
    "\n",
    "1. `메세지 '캐릭터를 선택한다.'`\n",
    "\n",
    "이는 게임 시작 직전에 이루어지는 단계로, 게임 실행 직후에 이루어지는게 적합해보입니다. 즉, 게임을 시작할 때 캐릭터 선택 장면이 있어야 합니다. 그럼 이제 캐릭터를 선택했으니 본격적으로 마을로 캐릭터를 이동시켜 게임을 실행해야 합니다.\n",
    "\n",
    "2. `메세지 '마을에서 무기를 선택하고 사냥터로 이동한다.'`\n",
    "\n",
    "마을에서는 캐릭터에게 무기를 선택하게 하고 이 객체를 사냥터로 이동시킬 책임이 있습니다.\n",
    "\n",
    "3. `메세지 '동굴에서는 캐릭터가 버섯괴물을 쓰러트리고 다음 사냥터인 초원으로 이동한다.'`\n",
    "\n",
    "동굴에서는 캐릭터와 몬스터가 한쪽의 HP가 없어질 때까지 대결을 시킬 책임이 있습니다.\n",
    "\n",
    "캐릭터가 죽는다면 다시 게임을 실행하거나 게임을 종료시켜야합니다.\n",
    "\n",
    "몬스터가 죽는다면 다음 장면으로 캐릭터 객체를 이동시킵니다.\n",
    "\n",
    "4. `메세지 '초원에서는 캐릭터가 버섯괴물을 쓰러트리고 마지막 장면인 마을로 이동한다.'`\n",
    "\n",
    "초원에서는 캐릭터와 몬스터가 한쪽의 HP가 없어질 때까지 대결을 시킬 책임이 있습니다.\n",
    "\n",
    "캐릭터가 죽는다면 다시 게임을 실행하거나 게임을 종료시켜야합니다.\n",
    "\n",
    "몬스터가 죽는다면 다음 장면으로 캐릭터 객체를 이동시킵니다.\n",
    "\n",
    "5. `메세지 '캐릭터가 죽는다면 다시 게임을 실행하거나 게임을 종료시켜야한다.'`\n",
    "\n",
    "이는 동굴, 초원에서 캐릭터가 죽는다면 유저의 의사를 물어 게임을 재시작하거나 종료하는 책임이 있습니다.\n",
    "\n",
    "`'캐릭터를 선택한다.'라는 메세지를 먼저 정의하고 그 후에 적절한 객체를 선택했다는 패턴을 기억해야합니다.`"
   ]
  },
  {
   "cell_type": "markdown",
   "metadata": {},
   "source": [
    "### 인터페이스 정리하기\n",
    "\n",
    "위에서 한 내용은 객체들의 인터페이스입니다.\n",
    "\n",
    "`객체가 수신한 메세지가 객체의 메서드와 속성을 결정한다`는 사실을 항상 기억합시다.\n",
    "\n",
    "메세지가 객체를 선택했고, 선택된 객체는 메세지를 자신의 메서드, 속성으로 받아들입니다. 수신 가능한 메세지만 추려내면 해당 객체의 메서드가 됩니다. 객체가 어떤 메세지를 수신할 수 있다는 것은 인터페이스 안에 메세지에 해당하는 동작이 존재한다는 것을 의미합니다.\n",
    "\n",
    "* 캐릭터 객체 인터페이스 안에는 `무기 선택, 몬스터 공격, 몬스터 공격(스킬)` 메서드, `HP, SP, 무기` 속성\n",
    "* 몬스터 객체 인터페이스 안에는 `캐릭터 공격` 동작, `HP` 속성\n",
    "* 게임시작 객체 인터페이스 안에는 `입장, 캐릭터 선택. 다음장면 이동` 동작, `캐릭터` 속성\n",
    "* 마을 객체 인터페이스 안에는 `입장, 다음장면 이동` 동작, `캐릭터` 속성\n",
    "* 동굴 객체 인터페이스 안에는 `입장, 다음장면 이동.` 동작, `캐릭터, 몬스터` 속성\n",
    "* 초원 객체 인터페이스 안에는 `입장, 다음장면 이동` 동작, `캐릭터, 몬스터` 속성\n",
    "* 게임컨트롤 객체 인터페이스 안에는 `게임종료, 게임재시작` 동작"
   ]
  },
  {
   "cell_type": "markdown",
   "metadata": {},
   "source": [
    "### 캐릭터"
   ]
  },
  {
   "cell_type": "code",
   "execution_count": 1,
   "metadata": {},
   "outputs": [],
   "source": [
    "class 캐릭터():\n",
    "    def __init__(self):\n",
    "        \"\"\"캐릭터의 속성으로, HP, SP, 무기를 가진다.\"\"\"\n",
    "    \n",
    "    def 일반공격(self):\n",
    "        \"\"\"캐릭터는 일반공격으로 몬스터의 HP를 감소시킨다.\"\"\"\n",
    "        \n",
    "    def 특수공격(self):\n",
    "        \"\"\"캐릭터는 특수공격으로 몬스터의 HP를 감소시키고, 자신의 SP가 감소한다.\"\"\"\n",
    "        \n",
    "    def 무기선택(self):\n",
    "        \"\"\"캐릭터는 무기를 선택할 수 있습니다.\"\"\""
   ]
  },
  {
   "cell_type": "code",
   "execution_count": 2,
   "metadata": {},
   "outputs": [],
   "source": [
    "class 전사(캐릭터):\n",
    "    def __init__(self):\n",
    "        \"\"\"캐릭터의 속성으로, HP, SP, 무기를 가진다.\"\"\"\n",
    "    \n",
    "    def 일반공격(self):\n",
    "        \"\"\"캐릭터는 일반공격으로 몬스터의 HP를 감소시킨다.\"\"\"\n",
    "        \n",
    "    def 특수공격(self):\n",
    "        \"\"\"캐릭터는 특수공격으로 몬스터의 HP를 감소시키고, 자신의 SP가 감소한다.\"\"\"\n",
    "\n",
    "    def 무기선택(self):\n",
    "        \"\"\"캐릭터는 무기를 선택할 수 있습니다.\"\"\"        "
   ]
  },
  {
   "cell_type": "code",
   "execution_count": 3,
   "metadata": {},
   "outputs": [],
   "source": [
    "class 마법사(캐릭터):\n",
    "    def __init__(self):\n",
    "        \"\"\"캐릭터의 속성으로, HP, SP, 무기를 가진다.\"\"\"\n",
    "    \n",
    "    def 일반공격(self):\n",
    "        \"\"\"캐릭터는 일반공격으로 몬스터의 HP를 감소시킨다.\"\"\"\n",
    "        \n",
    "    def 특수공격(self):\n",
    "        \"\"\"캐릭터는 특수공격으로 몬스터의 HP를 감소시키고, 자신의 SP가 감소한다.\"\"\"\n",
    "        \n",
    "    def 무기선택(self):\n",
    "        \"\"\"캐릭터는 무기를 선택할 수 있습니다.\"\"\"        "
   ]
  },
  {
   "cell_type": "markdown",
   "metadata": {},
   "source": [
    "### 몬스터"
   ]
  },
  {
   "cell_type": "code",
   "execution_count": 4,
   "metadata": {},
   "outputs": [],
   "source": [
    "class 몬스터():\n",
    "    def __init__(self):\n",
    "        \"\"\"몬스터의 속성으로 HP를 가진다.\"\"\"\n",
    "        \n",
    "    def 일반공격(self):\n",
    "        \"\"\"몬스터는 캐릭터에게 데미지를 입힌다.\"\"\""
   ]
  },
  {
   "cell_type": "code",
   "execution_count": 5,
   "metadata": {},
   "outputs": [],
   "source": [
    "class 버섯괴물(몬스터):\n",
    "    def __init__(self):\n",
    "        \"\"\"몬스터의 속성으로 HP를 가진다.\"\"\"\n",
    "        \n",
    "    def 일반공격(self):\n",
    "        \"\"\"몬스터는 캐릭터에게 데미지를 입힌다.\"\"\""
   ]
  },
  {
   "cell_type": "code",
   "execution_count": 6,
   "metadata": {},
   "outputs": [],
   "source": [
    "class 멧돼지(몬스터):\n",
    "    def __init__(self):\n",
    "        \"\"\"몬스터의 속성으로 HP를 가진다.\"\"\"\n",
    "        \n",
    "    def 일반공격(self):\n",
    "        \"\"\"몬스터는 캐릭터에게 데미지를 입힌다.\"\"\""
   ]
  },
  {
   "cell_type": "markdown",
   "metadata": {},
   "source": [
    "### 장면"
   ]
  },
  {
   "cell_type": "code",
   "execution_count": 7,
   "metadata": {},
   "outputs": [],
   "source": [
    "class 장면():\n",
    "    def 입장(self):\n",
    "        \"\"\"장면의 속성은 캐릭터나 몬스터의 객체이다.\"\"\"\n",
    "        \n",
    "    def 다음장면(self):\n",
    "        \"\"\"장면은 다음 장면으로 넘어가는 기능을 가지고 있다.\"\"\""
   ]
  },
  {
   "cell_type": "code",
   "execution_count": 8,
   "metadata": {},
   "outputs": [],
   "source": [
    "class 시작(장면):\n",
    "    def 입장(self):\n",
    "        \"\"\"캐릭터 선택을 하게 하고 객체를 생성한 뒤 이 객체를 마을로 넘긴다.\"\"\"\n",
    "        \n",
    "    def 캐릭터_선택(self):\n",
    "        \"\"\"사용자의 입력을 받아 캐릭터 객체를 생성한다.\"\"\"\n",
    "        \n",
    "    def 다음장면(self):\n",
    "        \"\"\"캐릭터 선택이 끝나면 다음 장면인 마을로 캐릭터 객체를 전달한다.\"\"\""
   ]
  },
  {
   "cell_type": "code",
   "execution_count": 9,
   "metadata": {},
   "outputs": [],
   "source": [
    "class 마을(장면):\n",
    "    def 입장(self):\n",
    "        \"\"\"마을에서는 캐릭터의 무기를 선택하게 한다.\"\"\"\n",
    "        \n",
    "    def 다음장면(self):\n",
    "        \"\"\"무기 선택이 끝나면 다음 장면인 동굴로 캐릭터 객체를 전달한다.\"\"\""
   ]
  },
  {
   "cell_type": "code",
   "execution_count": 10,
   "metadata": {},
   "outputs": [],
   "source": [
    "class 동굴(장면):\n",
    "    def 입장(self):\n",
    "        \"\"\"동굴에서는 캐릭터와 버섯괴물이 대결한다. 캐릭터가 이기면 다음 장면으로 이동하고, 버섯괴물이 이기면 게임을 재시작하거나 종료한다.\"\"\"\n",
    "        \n",
    "    def 다음장면(self):\n",
    "        \"\"\"캐릭터가 버섯괴물을 죽이면 다음 장면인 초원으로 캐릭터 객체를 전달한다.\"\"\"    "
   ]
  },
  {
   "cell_type": "code",
   "execution_count": 11,
   "metadata": {},
   "outputs": [],
   "source": [
    "class 초원(장면):\n",
    "    def 입장(self):\n",
    "        \"\"\"초원에서는 캐릭터와 멧돼지가 대결한다. 캐릭터가 이기면 다음 장면으로 이동하고, 버섯괴물이 이기면 게임을 재시작하거나 종료한다.\"\"\"\"\"\"동굴에서는 캐릭터와 버섯괴물이 대결한다. 캐릭터가 이기면 다음 장면으로 이동하고, 멧돼지가 이기면 게임을 재시작하거나 종료한다.\"\"\"\n",
    "        \n",
    "    def 다음장면(self):\n",
    "        \"\"\"캐릭터가 멧돼지를 죽이면 마을로 돌아와 엔딩을 한다.\"\"\""
   ]
  },
  {
   "cell_type": "markdown",
   "metadata": {},
   "source": [
    "# 수업 방식\n",
    "\n",
    "수업에서는 내가 주도해서 게임을 하나 제시하고, 뼈대를 제공한다. 그리고 수업시간에 이 게임 만들기에 대한 가이드라인으로 내가 주도해서 만든다.\n",
    "\n",
    "`생각하게 해야할 점`\n",
    "1. 필요한 부분은 알아서 채워 넣을 것"
   ]
  },
  {
   "cell_type": "markdown",
   "metadata": {},
   "source": [
    "### 무기"
   ]
  },
  {
   "cell_type": "code",
   "execution_count": 12,
   "metadata": {},
   "outputs": [],
   "source": [
    "class 무기:\n",
    "    def __init__(self):\n",
    "        self.damage = 10\n",
    "        \n",
    "    def 일반공격(self, 공격대상):\n",
    "        공격대상.HP -= self.damage\n",
    "        print(f\"일반공격을 합니다. 몬스터의 남은 HP: {공격대상.HP}\")\n",
    "        \n",
    "    def 스킬(self, 공격대상):\n",
    "        \n",
    "            공격대상.HP -= self.damage*2"
   ]
  },
  {
   "cell_type": "code",
   "execution_count": 13,
   "metadata": {},
   "outputs": [],
   "source": [
    "class 녹슨칼(무기):\n",
    "    def __init__(self):\n",
    "        self.damage = 30\n",
    "        #self.캐릭터 = 전사()\n",
    "        \n",
    "    def 일반공격(self, 공격대상):\n",
    "        공격대상.HP -= self.damage\n",
    "        print(f\"일반공격을 합니다. 몬스터의 남은 HP: {공격대상.HP}\")\n",
    "\n",
    "    def 스킬(self, 공격대상):\n",
    "        공격대상.HP -= self.damage*2"
   ]
  },
  {
   "cell_type": "code",
   "execution_count": 14,
   "metadata": {},
   "outputs": [],
   "source": [
    "class 강철검(무기):\n",
    "    def __init__(self):\n",
    "        self.damage = 50\n",
    "        \n",
    "    def 일반공격(self, 공격대상):\n",
    "        공격대상.HP -= self.damage\n",
    "        print(f\"일반공격을 합니다. 몬스터의 남은 HP: {공격대상.HP}\")\n",
    "        \n",
    "    def 스킬(self, 공격대상):\n",
    "        공격대상.HP -= self.damage*2"
   ]
  },
  {
   "cell_type": "code",
   "execution_count": 15,
   "metadata": {},
   "outputs": [],
   "source": [
    "class 사시미(무기):\n",
    "    def __init__(self):\n",
    "        self.damage = 70\n",
    "        \n",
    "    def 일반공격(self, 공격대상):\n",
    "        공격대상.HP -= self.damage\n",
    "        print(f\"일반공격을 합니다. 몬스터의 남은 HP: {공격대상.HP}\")\n",
    "        \n",
    "    def 스킬(self, 공격대상):\n",
    "        공격대상.HP -= self.damage*2"
   ]
  },
  {
   "cell_type": "code",
   "execution_count": 16,
   "metadata": {},
   "outputs": [],
   "source": [
    "class 야구배트(무기):\n",
    "    def __init__(self):\n",
    "        self.damage = 20\n",
    "        \n",
    "    def 일반공격(self, 공격대상):\n",
    "        공격대상.HP -= self.damage\n",
    "        print(f\"일반공격을 합니다. 몬스터의 남은 HP: {공격대상.HP}\")\n",
    "        \n",
    "    def 스킬(self, 공격대상):\n",
    "        공격대상.HP -= self.damage*2"
   ]
  },
  {
   "cell_type": "code",
   "execution_count": 17,
   "metadata": {},
   "outputs": [],
   "source": [
    "class 맨손(무기):\n",
    "    def __init__(self):\n",
    "        self.damage = 10\n",
    "        \n",
    "    def 일반공격(self, 공격대상):\n",
    "        공격대상.HP -= self.damage\n",
    "        print(f\"일반공격을 합니다. 몬스터의 남은 HP: {공격대상.HP}\")\n",
    "        \n",
    "    def 스킬(self, 공격대상):\n",
    "        공격대상.HP -= self.damage*2"
   ]
  },
  {
   "cell_type": "code",
   "execution_count": 18,
   "metadata": {},
   "outputs": [],
   "source": [
    "class 장작나무막대기(무기):\n",
    "    def __init__(self):\n",
    "        self.damage = 30\n",
    "        \n",
    "    def 일반공격(self, 공격대상):\n",
    "        공격대상.HP -= self.damage\n",
    "        print(f\"일반공격을 합니다. 몬스터의 남은 HP: {공격대상.HP}\")\n",
    "        \n",
    "    def 스킬(self, 공격대상):\n",
    "        공격대상.HP -= self.damage*2"
   ]
  },
  {
   "cell_type": "code",
   "execution_count": 19,
   "metadata": {},
   "outputs": [],
   "source": [
    "class 대나무(무기):\n",
    "    def __init__(self):\n",
    "        self.damage = 40\n",
    "        \n",
    "    def 일반공격(self, 공격대상):\n",
    "        공격대상.HP -= self.damage\n",
    "        print(f\"일반공격을 합니다. 몬스터의 남은 HP: {공격대상.HP}\")\n",
    "        \n",
    "    def 스킬(self, 공격대상):\n",
    "        공격대상.HP -= self.damage*2"
   ]
  },
  {
   "cell_type": "code",
   "execution_count": 20,
   "metadata": {},
   "outputs": [],
   "source": [
    "class 지푸라기(무기):\n",
    "    def __init__(self):\n",
    "        self.damage = 50\n",
    "        \n",
    "    def 일반공격(self, 공격대상):\n",
    "        공격대상.HP -= self.damage\n",
    "        print(f\"일반공격을 합니다. 몬스터의 남은 HP: {공격대상.HP}\")\n",
    "        \n",
    "    def 스킬(self, 공격대상):\n",
    "        공격대상.HP -= self.damage*2"
   ]
  },
  {
   "cell_type": "code",
   "execution_count": 21,
   "metadata": {},
   "outputs": [],
   "source": [
    "class 고목나무지팡이(무기):\n",
    "    def __init__(self):\n",
    "        self.damage = 60\n",
    "        \n",
    "    def 일반공격(self, 공격대상):\n",
    "        공격대상.HP -= self.damage\n",
    "        print(f\"일반공격을 합니다. 몬스터의 남은 HP: {공격대상.HP}\")\n",
    "        \n",
    "    def 스킬(self, 공격대상):\n",
    "        공격대상.HP -= self.damage*2"
   ]
  },
  {
   "cell_type": "code",
   "execution_count": 22,
   "metadata": {},
   "outputs": [],
   "source": [
    "class 맨손(무기):\n",
    "    def __init__(self):\n",
    "        self.damage = 10\n",
    "        \n",
    "    def 일반공격(self, 공격대상):\n",
    "        공격대상.HP -= self.damage\n",
    "        print(f\"일반공격을 합니다. 몬스터의 남은 HP: {공격대상.HP}\")\n",
    "        \n",
    "    def 스킬(self, 공격대상):\n",
    "        공격대상.HP -= self.damage*2"
   ]
  },
  {
   "cell_type": "markdown",
   "metadata": {},
   "source": [
    "### 캐릭터"
   ]
  },
  {
   "cell_type": "code",
   "execution_count": 23,
   "metadata": {},
   "outputs": [],
   "source": [
    "class 캐릭터():\n",
    "    def __init__(self):\n",
    "        \"\"\"캐릭터의 속성으로, HP, SP, 무기를 가진다.\"\"\"\n",
    "    \n",
    "    def 일반공격(self):\n",
    "        \"\"\"캐릭터는 일반공격으로 몬스터의 HP를 감소시킨다.\"\"\"\n",
    "        \n",
    "    def 특수공격(self):\n",
    "        \"\"\"캐릭터는 특수공격으로 몬스터의 HP를 감소시키고, 자신의 SP가 감소한다.\"\"\""
   ]
  },
  {
   "cell_type": "code",
   "execution_count": 35,
   "metadata": {},
   "outputs": [],
   "source": [
    "class 전사(캐릭터):\n",
    "    def __init__(self):\n",
    "        \"\"\"전사의 속성으로, HP=100, SP=50, 무기를 가진다.\"\"\"\n",
    "        self.SP = 50\n",
    "        self.HP = 200\n",
    "        self.무기 = None\n",
    "        self.name = 전사\n",
    "        \n",
    "    def 무기선택(self):\n",
    "        \"\"\"캐릭터는 무기를 선택할 수 있습니다.\"\"\"\n",
    "        print(\"무기를 선택합니다.\")\n",
    "        무기목록 = {\"녹슨칼\": 녹슨칼() , \"강철검\" : 강철검(), \"사시미\": 사시미(), \"야구배트\": 야구배트()}\n",
    "        \n",
    "        무기 = input(\"\"\"\n",
    "        녹슨칼, 강철검, 사시미, 야구배트 중 무기를 선택하세요.\n",
    "        \"\"\")\n",
    "        \n",
    "        if 무기 not in 무기목록:                            #self.캐릭터.무기.일반공격()\n",
    "            self.무기 = 맨손()\n",
    "        else:\n",
    "            self.무기 = 무기목록[무기]\n",
    "        \n",
    "        return print(f\"{무기}를(을) 선택하셨습니다.\")"
   ]
  },
  {
   "cell_type": "code",
   "execution_count": 36,
   "metadata": {},
   "outputs": [],
   "source": [
    "class 마법사(캐릭터):\n",
    "    def __init__(self):\n",
    "        \"\"\"캐릭터의 속성으로, HP=80, SP=100, 무기를 가진다.\"\"\"\n",
    "        self.HP = 80\n",
    "        self.SP = 100\n",
    "        self.무기 = None\n",
    "        \n",
    "    def 무기선택(self):\n",
    "        \"\"\"캐릭터는 무기를 선택할 수 있습니다.\"\"\"\n",
    "        print(\"무기를 선택합니다.\")\n",
    "        \n",
    "        무기목록 = {\"장작나무막대기\": 장작나무막대기(), \"대나무\" : 대나무(), \"지푸라기\": 지푸라기(), \"고목나무지팡이\": 고목나무지팡이()}\n",
    "        \n",
    "        무기 = input(\"\"\"장작나무 막대기, 대나무, 지푸라기, 고목나무 지팡이 중 무기를 선택하세요.\"\"\")\n",
    "        \n",
    "        if 무기 not in 무기목록:                            #self.캐릭터.무기.일반공격()\n",
    "            self.무기 = 맨손()\n",
    "        else:\n",
    "            self.무기 = 무기목록[무기]\n",
    "        \n",
    "        return print(f\"{무기}를(을) 선택하셨습니다.\")"
   ]
  },
  {
   "cell_type": "markdown",
   "metadata": {},
   "source": [
    "# 몬스터"
   ]
  },
  {
   "cell_type": "code",
   "execution_count": 37,
   "metadata": {},
   "outputs": [],
   "source": [
    "class 몬스터(threading.Thread):\n",
    "    def __init__(self):\n",
    "        \"\"\"몬스터의 속성으로 HP를 가진다.\"\"\"\n",
    "        \n",
    "    def 일반공격(self):\n",
    "        \"\"\"몬스터는 캐릭터에게 데미지를 입힌다.\"\"\""
   ]
  },
  {
   "cell_type": "code",
   "execution_count": 38,
   "metadata": {},
   "outputs": [],
   "source": [
    "class 버섯괴물(몬스터):\n",
    "    \n",
    "    def __init__(self):\n",
    "        \"\"\"버섯괴물의 속성으로 HP를 100가진다.\"\"\"\n",
    "        self.HP = 100\n",
    "    \n",
    "    def 일반공격(self, 공격대상):\n",
    "        공격대상.HP -= 30\n",
    "        \"\"\"몬스터는 캐릭터에게 데미지를 입힌다.\"\"\"\n",
    "        print(f\"버섯괴물이 공격을 합니다.{공격대상.name}의 체력 {공격대상.HP}\")"
   ]
  },
  {
   "cell_type": "code",
   "execution_count": 39,
   "metadata": {},
   "outputs": [],
   "source": [
    "class 멧돼지(몬스터):\n",
    "    def __init__(self):\n",
    "        \"\"\"멧돼지의 속성으로 HP를 150가진다.\"\"\"\n",
    "        self.HP = 150\n",
    "        \n",
    "    def 일반공격(self, 공격대상):\n",
    "        공격대상.HP -= 50\n",
    "        \"\"\"몬스터는 캐릭터에게 데미지를 입힌다.\"\"\"\n",
    "        print(f\"멧돼지가 공격을 합니다.{공격대상}의 체력 {공격대상.HP}\")"
   ]
  },
  {
   "cell_type": "markdown",
   "metadata": {},
   "source": [
    "### 장면"
   ]
  },
  {
   "cell_type": "code",
   "execution_count": 40,
   "metadata": {},
   "outputs": [],
   "source": [
    "\n",
    "class 장면():\n",
    "    def 입장(self):\n",
    "        \"\"\"장면의 속성은 캐릭터나 몬스터의 객체이다.\"\"\"\n",
    "        \n",
    "    def 다음장면(self):\n",
    "        \"\"\"장면은 다음 장면으로 넘어가는 기능을 가지고 있다.\"\"\""
   ]
  },
  {
   "cell_type": "code",
   "execution_count": 41,
   "metadata": {},
   "outputs": [],
   "source": [
    "class 시작(장면):\n",
    "    def 입장(self):\n",
    "        \"\"\"캐릭터 선택을 하게 하고 객체를 생성한 뒤 이 객체를 마을로 넘긴다.\"\"\"\n",
    "        print(\"게임을 시작합니다. \")\n",
    "        self.캐릭터 = self.캐릭터_선택()\n",
    "        return self.다음장면()\n",
    "        \n",
    "    def 캐릭터_선택(self):\n",
    "        \"\"\"사용자의 입력을 받아 캐릭터 객체를 생성한다.\"\"\"\n",
    "        \n",
    "        캐릭터_목록 = {\"전사\" : 전사(),\n",
    "                       \"마법사\" : 마법사()}\n",
    "        \n",
    "        캐릭터 = input(\"전사와 마법사 중 원하는 캐릭터를 선택해주세요.: \")\n",
    "        캐릭터 = 캐릭터_목록[캐릭터]\n",
    "        return 캐릭터\n",
    "        \n",
    "    def 다음장면(self):\n",
    "        \"\"\"캐릭터 선택이 끝나면 다음 장면인 마을로 캐릭터 객체를 전달한다.\"\"\"\n",
    "        print(\"캐릭터 직업 선택이 완료되었습니다. 마을로 이동합니다.\")\n",
    "        다음장면 = 마을(self.캐릭터) # 이걸 받아줄 마을 클래스의 생성자가 필요하다.\n",
    "        return 다음장면.입장() # 마을 객체"
   ]
  },
  {
   "cell_type": "code",
   "execution_count": 42,
   "metadata": {},
   "outputs": [],
   "source": [
    "class 마을(장면):\n",
    "    def __init__(self, 캐릭터):\n",
    "        self.캐릭터 = 캐릭터\n",
    "    \n",
    "    def 입장(self):\n",
    "        \"\"\"마을에서는 캐릭터의 무기를 선택하게 한다.\"\"\"\n",
    "        print(\"마을에 입장했습니다.\")\n",
    "        self.캐릭터.무기선택()\n",
    "        return self.다음장면()\n",
    "        \n",
    "    def 다음장면(self):\n",
    "        \"\"\"무기 선택이 끝나면 다음 장면인 동굴로 캐릭터 객체를 전달한다.\"\"\"\n",
    "        print(\"마을에서 무기 선택을 완료했습니다. 동굴로 이동합니다.\")\n",
    "        다음장면 = 동굴(self.캐릭터)\n",
    "        return 다음장면.입장()\n",
    "    \n",
    "    def 엔딩(self):\n",
    "        \"\"\"캐릭터가 모든 미션을 마치고 마을로 돌아와 게임을 종료한다.\"\"\"\n",
    "        return print(\"마을로 복귀, 게임 끝!\")"
   ]
  },
  {
   "cell_type": "code",
   "execution_count": 43,
   "metadata": {},
   "outputs": [],
   "source": [
    "class 동굴(장면):\n",
    "    def __init__(self, 캐릭터):\n",
    "        self.캐릭터 = 캐릭터\n",
    "        self.몬스터 = 버섯괴물()\n",
    "    \n",
    "    def 입장(self):\n",
    "        \n",
    "        \"\"\"동굴에서는 캐릭터와 버섯괴물이 대결한다. 캐릭터가 이기면 다음 장면으로 이동하고, 버섯괴물이 이기면 게임을 재시작하거나 종료한다.\"\"\"\n",
    "        print(\"\"\"동굴에서 버섯괴물을 발견했습니다. 마을의 평화를 위해 버섯괴물을 해치워 주세요.\"\"\")\n",
    "        \n",
    "        while self.몬스터.HP > 0 and self.캐릭터.HP > 0:\n",
    "                                             \n",
    "            액션 = input(\"\"\"행동을 선택하세요.\n",
    "                            1. 일반 공격\n",
    "                            2. 특수 공격\"\"\")\n",
    "            if (액션 == \"일반 공격\") or (액션 == \"1\"):\n",
    "                self.캐릭터.무기.일반공격(self.몬스터)\n",
    "            elif (액션 == \"특수 공격\") or (액션 == \"2\"):\n",
    "                self.캐릭터.무기.스킬(self.몬스터)\n",
    "                print(f\"\"\"특수 공격을 합니다. 몬스터의 남은체력 : {self.몬스터.HP}\n",
    "                         캐릭터의 남은 SP : {self.캐릭터.SP}\"\"\")\n",
    "        \n",
    "            self.몬스터.일반공격(self.캐릭터)\n",
    "                \n",
    "            \n",
    "        return self.다음장면()\n",
    "        \n",
    "    def 다음장면(self):\n",
    "        \"\"\"캐릭터가 버섯괴물을 죽이면 다음 장면인 초원으로 캐릭터 객체를 전달한다.\"\"\"    \n",
    "        다음장면 = 초원(self.캐릭터)\n",
    "        return 다음장면.입장()"
   ]
  },
  {
   "cell_type": "code",
   "execution_count": 44,
   "metadata": {},
   "outputs": [],
   "source": [
    "class 초원(장면):\n",
    "    def __init__(self, 캐릭터):\n",
    "        self.캐릭터 = 캐릭터\n",
    "        self.몬스터 = 멧돼지()\n",
    "    \n",
    "    def 입장(self):\n",
    "        \"\"\"초원에서는 캐릭터와 멧돼지가 대결한다. 캐릭터가 이기면 다음 장면으로 이동하고, 버섯괴물이 이기면 게임을 재시작하거나 종료한다.\"\"\"\"\"\"동굴에서는 캐릭터와 버섯괴물이 대결한다. 캐릭터가 이기면 다음 장면으로 이동하고, 멧돼지가 이기면 게임을 재시작하거나 종료한다.\"\"\"\n",
    "        print(\"\"\"\n",
    "        초원에서 멧돼지를 발견했습니다. 마을의 평화를 위해 멧돼지를 해치워 주세요.\n",
    "        \"\"\")\n",
    "        while self.몬스터.HP > 0 and self.캐릭터.HP > 0:\n",
    "            \n",
    "            액션 = input(\"\"\"행동을 선택하세요.\n",
    "                            1. 일반 공격\n",
    "                            2. 특수 공격: \"\"\")\n",
    "            if (액션 == \"일반 공격\") or (액션 == \"1\"):\n",
    "                self.캐릭터.무기.일반공격(self.몬스터)\n",
    "                \n",
    "            elif (액션 == \"특수 공격\") or (액션 == \"2\"):\n",
    "                self.캐릭터.무기.스킬(self.몬스터)\n",
    "                print(f\"\"\"특수 공격을 합니다. 몬스터의 남은체력 : {self.몬스터.HP}\n",
    "                         캐릭터의 남은 SP : {self.캐릭터.SP}\"\"\")\n",
    "                \n",
    "            self.몬스터.일반공격(self.캐릭터)\n",
    "                \n",
    "            if self.캐릭터.HP <0 :\n",
    "                print(\"영웅이 죽었습니다. 게임을 다시 시작합니다.\")\n",
    "                return 시작.self.입장\n",
    "                    \n",
    "        return self.다음장면()\n",
    "        \n",
    "    def 다음장면(self):\n",
    "        \"\"\"캐릭터가 멧돼지를 죽이면 마을로 돌아와 엔딩을 한다.\"\"\"\n",
    "        다음장면 = 마을(self.캐릭터)\n",
    "        return 다음장면.엔딩()"
   ]
  },
  {
   "cell_type": "code",
   "execution_count": 45,
   "metadata": {
    "scrolled": false
   },
   "outputs": [
    {
     "name": "stdout",
     "output_type": "stream",
     "text": [
      "게임을 시작합니다. \n",
      "전사와 마법사 중 원하는 캐릭터를 선택해주세요.: 전사\n",
      "캐릭터 직업 선택이 완료되었습니다. 마을로 이동합니다.\n",
      "마을에 입장했습니다.\n",
      "무기를 선택합니다.\n",
      "\n",
      "        녹슨칼, 강철검, 사시미, 야구배트 중 무기를 선택하세요.\n",
      "        녹슨칼\n",
      "녹슨칼를(을) 선택하셨습니다.\n",
      "마을에서 무기 선택을 완료했습니다. 동굴로 이동합니다.\n",
      "동굴에서 버섯괴물을 발견했습니다. 마을의 평화를 위해 버섯괴물을 해치워 주세요.\n",
      "행동을 선택하세요.\n",
      "                            1. 일반 공격\n",
      "                            2. 특수 공격1\n",
      "일반공격을 합니다. 몬스터의 남은 HP: 70\n",
      "버섯괴물이 공격을 합니다.<class '__main__.전사'>의 체력 170\n",
      "행동을 선택하세요.\n",
      "                            1. 일반 공격\n",
      "                            2. 특수 공격2\n",
      "특수 공격을 합니다. 몬스터의 남은체력 : 10\n",
      "                         캐릭터의 남은 SP : 50\n",
      "버섯괴물이 공격을 합니다.<class '__main__.전사'>의 체력 140\n",
      "행동을 선택하세요.\n",
      "                            1. 일반 공격\n",
      "                            2. 특수 공격1\n",
      "일반공격을 합니다. 몬스터의 남은 HP: -20\n",
      "버섯괴물이 공격을 합니다.<class '__main__.전사'>의 체력 110\n",
      "\n",
      "        초원에서 멧돼지를 발견했습니다. 마을의 평화를 위해 멧돼지를 해치워 주세요.\n",
      "        \n",
      "행동을 선택하세요.\n",
      "                            1. 일반 공격\n",
      "                            2. 특수 공격: 1\n",
      "일반공격을 합니다. 몬스터의 남은 HP: 120\n",
      "멧돼지가 공격을 합니다.<__main__.전사 object at 0x0000021DA8964CC8>의 체력 60\n",
      "행동을 선택하세요.\n",
      "                            1. 일반 공격\n",
      "                            2. 특수 공격: 1\n",
      "일반공격을 합니다. 몬스터의 남은 HP: 90\n",
      "멧돼지가 공격을 합니다.<__main__.전사 object at 0x0000021DA8964CC8>의 체력 10\n",
      "행동을 선택하세요.\n",
      "                            1. 일반 공격\n",
      "                            2. 특수 공격: 1\n",
      "일반공격을 합니다. 몬스터의 남은 HP: 60\n",
      "멧돼지가 공격을 합니다.<__main__.전사 object at 0x0000021DA8964CC8>의 체력 -40\n",
      "영웅이 죽었습니다. 게임을 다시 시작합니다.\n"
     ]
    },
    {
     "ename": "AttributeError",
     "evalue": "type object '시작' has no attribute 'self'",
     "output_type": "error",
     "traceback": [
      "\u001b[1;31m---------------------------------------------------------------------------\u001b[0m",
      "\u001b[1;31mAttributeError\u001b[0m                            Traceback (most recent call last)",
      "\u001b[1;32m<ipython-input-45-9f1b3bb06c49>\u001b[0m in \u001b[0;36m<module>\u001b[1;34m\u001b[0m\n\u001b[0;32m      1\u001b[0m \u001b[0ma\u001b[0m \u001b[1;33m=\u001b[0m \u001b[0m시작\u001b[0m\u001b[1;33m(\u001b[0m\u001b[1;33m)\u001b[0m\u001b[1;33m\u001b[0m\u001b[1;33m\u001b[0m\u001b[0m\n\u001b[1;32m----> 2\u001b[1;33m \u001b[0ma\u001b[0m\u001b[1;33m.\u001b[0m\u001b[0m입장\u001b[0m\u001b[1;33m(\u001b[0m\u001b[1;33m)\u001b[0m\u001b[1;33m\u001b[0m\u001b[1;33m\u001b[0m\u001b[0m\n\u001b[0m",
      "\u001b[1;32m<ipython-input-41-e2940966869e>\u001b[0m in \u001b[0;36m입장\u001b[1;34m(self)\u001b[0m\n\u001b[0;32m      4\u001b[0m         \u001b[0mprint\u001b[0m\u001b[1;33m(\u001b[0m\u001b[1;34m\"게임을 시작합니다. \"\u001b[0m\u001b[1;33m)\u001b[0m\u001b[1;33m\u001b[0m\u001b[1;33m\u001b[0m\u001b[0m\n\u001b[0;32m      5\u001b[0m         \u001b[0mself\u001b[0m\u001b[1;33m.\u001b[0m\u001b[0m캐릭터\u001b[0m \u001b[1;33m=\u001b[0m \u001b[0mself\u001b[0m\u001b[1;33m.\u001b[0m\u001b[0m캐릭터_선택\u001b[0m\u001b[1;33m(\u001b[0m\u001b[1;33m)\u001b[0m\u001b[1;33m\u001b[0m\u001b[1;33m\u001b[0m\u001b[0m\n\u001b[1;32m----> 6\u001b[1;33m         \u001b[1;32mreturn\u001b[0m \u001b[0mself\u001b[0m\u001b[1;33m.\u001b[0m\u001b[0m다음장면\u001b[0m\u001b[1;33m(\u001b[0m\u001b[1;33m)\u001b[0m\u001b[1;33m\u001b[0m\u001b[1;33m\u001b[0m\u001b[0m\n\u001b[0m\u001b[0;32m      7\u001b[0m \u001b[1;33m\u001b[0m\u001b[0m\n\u001b[0;32m      8\u001b[0m     \u001b[1;32mdef\u001b[0m \u001b[0m캐릭터_선택\u001b[0m\u001b[1;33m(\u001b[0m\u001b[0mself\u001b[0m\u001b[1;33m)\u001b[0m\u001b[1;33m:\u001b[0m\u001b[1;33m\u001b[0m\u001b[1;33m\u001b[0m\u001b[0m\n",
      "\u001b[1;32m<ipython-input-41-e2940966869e>\u001b[0m in \u001b[0;36m다음장면\u001b[1;34m(self)\u001b[0m\n\u001b[0;32m     20\u001b[0m         \u001b[0mprint\u001b[0m\u001b[1;33m(\u001b[0m\u001b[1;34m\"캐릭터 직업 선택이 완료되었습니다. 마을로 이동합니다.\"\u001b[0m\u001b[1;33m)\u001b[0m\u001b[1;33m\u001b[0m\u001b[1;33m\u001b[0m\u001b[0m\n\u001b[0;32m     21\u001b[0m         \u001b[0m다음장면\u001b[0m \u001b[1;33m=\u001b[0m \u001b[0m마을\u001b[0m\u001b[1;33m(\u001b[0m\u001b[0mself\u001b[0m\u001b[1;33m.\u001b[0m\u001b[0m캐릭터\u001b[0m\u001b[1;33m)\u001b[0m \u001b[1;31m# 이걸 받아줄 마을 클래스의 생성자가 필요하다.\u001b[0m\u001b[1;33m\u001b[0m\u001b[1;33m\u001b[0m\u001b[0m\n\u001b[1;32m---> 22\u001b[1;33m         \u001b[1;32mreturn\u001b[0m \u001b[0m다음장면\u001b[0m\u001b[1;33m.\u001b[0m\u001b[0m입장\u001b[0m\u001b[1;33m(\u001b[0m\u001b[1;33m)\u001b[0m \u001b[1;31m# 마을 객체\u001b[0m\u001b[1;33m\u001b[0m\u001b[1;33m\u001b[0m\u001b[0m\n\u001b[0m",
      "\u001b[1;32m<ipython-input-42-936a391e2710>\u001b[0m in \u001b[0;36m입장\u001b[1;34m(self)\u001b[0m\n\u001b[0;32m      7\u001b[0m         \u001b[0mprint\u001b[0m\u001b[1;33m(\u001b[0m\u001b[1;34m\"마을에 입장했습니다.\"\u001b[0m\u001b[1;33m)\u001b[0m\u001b[1;33m\u001b[0m\u001b[1;33m\u001b[0m\u001b[0m\n\u001b[0;32m      8\u001b[0m         \u001b[0mself\u001b[0m\u001b[1;33m.\u001b[0m\u001b[0m캐릭터\u001b[0m\u001b[1;33m.\u001b[0m\u001b[0m무기선택\u001b[0m\u001b[1;33m(\u001b[0m\u001b[1;33m)\u001b[0m\u001b[1;33m\u001b[0m\u001b[1;33m\u001b[0m\u001b[0m\n\u001b[1;32m----> 9\u001b[1;33m         \u001b[1;32mreturn\u001b[0m \u001b[0mself\u001b[0m\u001b[1;33m.\u001b[0m\u001b[0m다음장면\u001b[0m\u001b[1;33m(\u001b[0m\u001b[1;33m)\u001b[0m\u001b[1;33m\u001b[0m\u001b[1;33m\u001b[0m\u001b[0m\n\u001b[0m\u001b[0;32m     10\u001b[0m \u001b[1;33m\u001b[0m\u001b[0m\n\u001b[0;32m     11\u001b[0m     \u001b[1;32mdef\u001b[0m \u001b[0m다음장면\u001b[0m\u001b[1;33m(\u001b[0m\u001b[0mself\u001b[0m\u001b[1;33m)\u001b[0m\u001b[1;33m:\u001b[0m\u001b[1;33m\u001b[0m\u001b[1;33m\u001b[0m\u001b[0m\n",
      "\u001b[1;32m<ipython-input-42-936a391e2710>\u001b[0m in \u001b[0;36m다음장면\u001b[1;34m(self)\u001b[0m\n\u001b[0;32m     13\u001b[0m         \u001b[0mprint\u001b[0m\u001b[1;33m(\u001b[0m\u001b[1;34m\"마을에서 무기 선택을 완료했습니다. 동굴로 이동합니다.\"\u001b[0m\u001b[1;33m)\u001b[0m\u001b[1;33m\u001b[0m\u001b[1;33m\u001b[0m\u001b[0m\n\u001b[0;32m     14\u001b[0m         \u001b[0m다음장면\u001b[0m \u001b[1;33m=\u001b[0m \u001b[0m동굴\u001b[0m\u001b[1;33m(\u001b[0m\u001b[0mself\u001b[0m\u001b[1;33m.\u001b[0m\u001b[0m캐릭터\u001b[0m\u001b[1;33m)\u001b[0m\u001b[1;33m\u001b[0m\u001b[1;33m\u001b[0m\u001b[0m\n\u001b[1;32m---> 15\u001b[1;33m         \u001b[1;32mreturn\u001b[0m \u001b[0m다음장면\u001b[0m\u001b[1;33m.\u001b[0m\u001b[0m입장\u001b[0m\u001b[1;33m(\u001b[0m\u001b[1;33m)\u001b[0m\u001b[1;33m\u001b[0m\u001b[1;33m\u001b[0m\u001b[0m\n\u001b[0m\u001b[0;32m     16\u001b[0m \u001b[1;33m\u001b[0m\u001b[0m\n\u001b[0;32m     17\u001b[0m     \u001b[1;32mdef\u001b[0m \u001b[0m엔딩\u001b[0m\u001b[1;33m(\u001b[0m\u001b[0mself\u001b[0m\u001b[1;33m)\u001b[0m\u001b[1;33m:\u001b[0m\u001b[1;33m\u001b[0m\u001b[1;33m\u001b[0m\u001b[0m\n",
      "\u001b[1;32m<ipython-input-43-8b2828374d64>\u001b[0m in \u001b[0;36m입장\u001b[1;34m(self)\u001b[0m\n\u001b[0;32m     24\u001b[0m \u001b[1;33m\u001b[0m\u001b[0m\n\u001b[0;32m     25\u001b[0m \u001b[1;33m\u001b[0m\u001b[0m\n\u001b[1;32m---> 26\u001b[1;33m         \u001b[1;32mreturn\u001b[0m \u001b[0mself\u001b[0m\u001b[1;33m.\u001b[0m\u001b[0m다음장면\u001b[0m\u001b[1;33m(\u001b[0m\u001b[1;33m)\u001b[0m\u001b[1;33m\u001b[0m\u001b[1;33m\u001b[0m\u001b[0m\n\u001b[0m\u001b[0;32m     27\u001b[0m \u001b[1;33m\u001b[0m\u001b[0m\n\u001b[0;32m     28\u001b[0m     \u001b[1;32mdef\u001b[0m \u001b[0m다음장면\u001b[0m\u001b[1;33m(\u001b[0m\u001b[0mself\u001b[0m\u001b[1;33m)\u001b[0m\u001b[1;33m:\u001b[0m\u001b[1;33m\u001b[0m\u001b[1;33m\u001b[0m\u001b[0m\n",
      "\u001b[1;32m<ipython-input-43-8b2828374d64>\u001b[0m in \u001b[0;36m다음장면\u001b[1;34m(self)\u001b[0m\n\u001b[0;32m     29\u001b[0m         \u001b[1;34m\"\"\"캐릭터가 버섯괴물을 죽이면 다음 장면인 초원으로 캐릭터 객체를 전달한다.\"\"\"\u001b[0m\u001b[1;33m\u001b[0m\u001b[1;33m\u001b[0m\u001b[0m\n\u001b[0;32m     30\u001b[0m         \u001b[0m다음장면\u001b[0m \u001b[1;33m=\u001b[0m \u001b[0m초원\u001b[0m\u001b[1;33m(\u001b[0m\u001b[0mself\u001b[0m\u001b[1;33m.\u001b[0m\u001b[0m캐릭터\u001b[0m\u001b[1;33m)\u001b[0m\u001b[1;33m\u001b[0m\u001b[1;33m\u001b[0m\u001b[0m\n\u001b[1;32m---> 31\u001b[1;33m         \u001b[1;32mreturn\u001b[0m \u001b[0m다음장면\u001b[0m\u001b[1;33m.\u001b[0m\u001b[0m입장\u001b[0m\u001b[1;33m(\u001b[0m\u001b[1;33m)\u001b[0m\u001b[1;33m\u001b[0m\u001b[1;33m\u001b[0m\u001b[0m\n\u001b[0m",
      "\u001b[1;32m<ipython-input-44-315b7b147b99>\u001b[0m in \u001b[0;36m입장\u001b[1;34m(self)\u001b[0m\n\u001b[0;32m     26\u001b[0m             \u001b[1;32mif\u001b[0m \u001b[0mself\u001b[0m\u001b[1;33m.\u001b[0m\u001b[0m캐릭터\u001b[0m\u001b[1;33m.\u001b[0m\u001b[0mHP\u001b[0m \u001b[1;33m<\u001b[0m\u001b[1;36m0\u001b[0m \u001b[1;33m:\u001b[0m\u001b[1;33m\u001b[0m\u001b[1;33m\u001b[0m\u001b[0m\n\u001b[0;32m     27\u001b[0m                 \u001b[0mprint\u001b[0m\u001b[1;33m(\u001b[0m\u001b[1;34m\"영웅이 죽었습니다. 게임을 다시 시작합니다.\"\u001b[0m\u001b[1;33m)\u001b[0m\u001b[1;33m\u001b[0m\u001b[1;33m\u001b[0m\u001b[0m\n\u001b[1;32m---> 28\u001b[1;33m                 \u001b[1;32mreturn\u001b[0m \u001b[0m시작\u001b[0m\u001b[1;33m.\u001b[0m\u001b[0mself\u001b[0m\u001b[1;33m.\u001b[0m\u001b[0m입장\u001b[0m\u001b[1;33m\u001b[0m\u001b[1;33m\u001b[0m\u001b[0m\n\u001b[0m\u001b[0;32m     29\u001b[0m \u001b[1;33m\u001b[0m\u001b[0m\n\u001b[0;32m     30\u001b[0m         \u001b[1;32mreturn\u001b[0m \u001b[0mself\u001b[0m\u001b[1;33m.\u001b[0m\u001b[0m다음장면\u001b[0m\u001b[1;33m(\u001b[0m\u001b[1;33m)\u001b[0m\u001b[1;33m\u001b[0m\u001b[1;33m\u001b[0m\u001b[0m\n",
      "\u001b[1;31mAttributeError\u001b[0m: type object '시작' has no attribute 'self'"
     ]
    }
   ],
   "source": [
    "a = 시작()\n",
    "a.입장()"
   ]
  },
  {
   "cell_type": "code",
   "execution_count": null,
   "metadata": {},
   "outputs": [],
   "source": []
  },
  {
   "cell_type": "code",
   "execution_count": null,
   "metadata": {},
   "outputs": [],
   "source": []
  }
 ],
 "metadata": {
  "kernelspec": {
   "display_name": "Python 3",
   "language": "python",
   "name": "python3"
  },
  "language_info": {
   "codemirror_mode": {
    "name": "ipython",
    "version": 3
   },
   "file_extension": ".py",
   "mimetype": "text/x-python",
   "name": "python",
   "nbconvert_exporter": "python",
   "pygments_lexer": "ipython3",
   "version": "3.7.4"
  }
 },
 "nbformat": 4,
 "nbformat_minor": 2
}
