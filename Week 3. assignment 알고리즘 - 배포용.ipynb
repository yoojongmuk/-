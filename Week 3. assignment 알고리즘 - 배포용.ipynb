{
 "cells": [
  {
   "cell_type": "markdown",
   "metadata": {},
   "source": [
    "<img src = \"https://apply.softsquared.com/custom/img/logo.png\">\n",
    "\n",
    "## 3주차 과제입니다.\n",
    "\n",
    "우리는 이진탐색과 선택정렬 알고리즘에 대해서 배워보았습니다.\n",
    "\n",
    "이에 대한 과제를 제공해 드립니다.\n",
    "\n",
    "과제를 하시는 동안 정보검색은 적극 권장됩니다."
   ]
  },
  {
   "cell_type": "markdown",
   "metadata": {},
   "source": [
    "# Q1.\n",
    "\n",
    "다음 문제를 이진 탐색을 이용해서 구현하세요.\n",
    "\n",
    "자연수 X을 입력받고, X개의 요소를 가진 리스트, list_X를 입력받는다.\n",
    "\n",
    "자연수 Y을 입력받고, Y개의 요소를 가진 리스트, list_Y를 입력 받는다.\n",
    "\n",
    "이때, list_Y의 각각 요소들이, list_X에 몇개 존재하는지 검사한다.\n",
    "\n",
    "\n",
    "```python\n",
    "\n",
    "# 입력 예시\n",
    "10 # X\n",
    "6 3 2 10 10 10 -10 -10 7 3  # list_X, 입력은 공백으로 구분됩니다.\n",
    "8 # Y\n",
    "10 9 -5 2 3 4 5 -10 # list_Y, 입력은 공백으로 구분됩니다.\n",
    "\n",
    "# 결과 예시\n",
    "3 0 0 1 2 0 0 2\n",
    "\n",
    "```"
   ]
  },
  {
   "cell_type": "code",
   "execution_count": 1,
   "metadata": {
    "scrolled": true
   },
   "outputs": [
    {
     "name": "stdout",
     "output_type": "stream",
     "text": [
      "자연수를 입력하시오5\n",
      "자연수를 입력하시오2\n",
      "[-6, 3, 9, 8, 10]\n",
      "[0, -6]\n"
     ]
    }
   ],
   "source": [
    "X = int(input(\"자연수를 입력하시오\"))\n",
    "Y = int(input(\"자연수를 입력하시오\"))\n",
    "import random\n",
    "list_X = [random.randint(-10, +10) for i in range(X)] \n",
    "list_Y = [random.randint(-10, +10) for i in range(Y)] \n",
    "\n",
    "print(list_X)\n",
    "print(list_Y)"
   ]
  },
  {
   "cell_type": "code",
   "execution_count": 2,
   "metadata": {},
   "outputs": [
    {
     "name": "stdout",
     "output_type": "stream",
     "text": [
      "자연수를 입력하시오8\n",
      "자연수를 입력하시오6\n",
      "['10', '20', '20', '27', '44', '66', '66', '80']\n",
      "['10', '20', '44', '50', '55', '66']\n",
      "[1, 2, 1, 0, 0, 2]\n"
     ]
    }
   ],
   "source": [
    "X = int(input(\"자연수를 입력하시오\"))\n",
    "Y = int(input(\"자연수를 입력하시오\"))\n",
    "num_X = \"10 20 20 27 44 66 66 80 90 100\"\n",
    "num_Y = \"10 20 44 50 55 66 70 71 72 73\"\n",
    "result = []\n",
    "list_X = num_X.split(\" \")[0:X]\n",
    "list_Y = num_Y.split(\" \")[0:Y]\n",
    "print(list_X)\n",
    "print(list_Y)\n",
    "for i in list_Y:\n",
    "    a = list_X.count(i)\n",
    "    result.append(a)\n",
    "print(result)"
   ]
  },
  {
   "cell_type": "code",
   "execution_count": 19,
   "metadata": {},
   "outputs": [
    {
     "name": "stdout",
     "output_type": "stream",
     "text": [
      "3\n"
     ]
    }
   ],
   "source": [
    "listdata = [2,2,1,3,8,5,7,6,3,6,2,3,9,4,4]\n",
    "c1 = listdata.count(2)\n",
    "print(c1)"
   ]
  },
  {
   "cell_type": "markdown",
   "metadata": {},
   "source": [
    "# Q2.\n",
    "\n",
    "다음 문제를 이진 탐색을 이용해서 구현하세요.\n",
    "\n",
    "자연수 X을 입력받고, X개의 요소를 가진 리스트, list_X를 입력받는다.\n",
    "\n",
    "자연수 Y을 입력받고, Y개의 요소를 가진 리스트, list_Y를 입력 받는다.\n",
    "\n",
    "이때, list_Y의 각각 요소들이, list_X에 존재하는지 검사한다.\n",
    "존재한다면 1, 아니라면 0을 반환한다.\n",
    "\n",
    "\n",
    "```python\n",
    "\n",
    "# 입력 예시\n",
    "5 # X\n",
    "4 3 7 8 5  # list_X, 입력은 공백으로 구분됩니다.\n",
    "3 # Y\n",
    "1 2 3 # list_Y, 입력은 공백으로 구분됩니다.\n",
    "\n",
    "# 결과 예시\n",
    "0 0 1\n",
    "\n",
    "```"
   ]
  },
  {
   "cell_type": "code",
   "execution_count": 3,
   "metadata": {},
   "outputs": [
    {
     "name": "stdout",
     "output_type": "stream",
     "text": [
      "자연수를 입력하시오8\n",
      "자연수를 입력하시오6\n",
      "['10', '20', '20', '27', '44', '66', '66', '80']\n",
      "['10', '20', '44', '50', '55', '66']\n",
      "[1, 1, 1, 0, 0, 1]\n"
     ]
    }
   ],
   "source": [
    "X = int(input(\"자연수를 입력하시오\"))\n",
    "Y = int(input(\"자연수를 입력하시오\"))\n",
    "num_X = \"10 20 20 27 44 66 66 80 90 100\"\n",
    "num_Y = \"10 20 44 50 55 66 70 71 72 73\"\n",
    "result = []\n",
    "list_X = num_X.split(\" \")[0:X]\n",
    "list_Y = num_Y.split(\" \")[0:Y]\n",
    "print(list_X)\n",
    "print(list_Y)\n",
    "\n",
    "for i in list_Y:\n",
    "    if i in list_X:\n",
    "        result.append(1)\n",
    "    else:\n",
    "        result.append(0)\n",
    "print(result)"
   ]
  },
  {
   "cell_type": "markdown",
   "metadata": {},
   "source": [
    "# Q3\n",
    "\n",
    "다음 문제를 이진탐색을 `활용`해서 구현하세요.\n",
    "\n",
    "계란이는 운동기구를 제작하기 위해 나무 M미터가 필요하다.\n",
    "계란이가 가지고 있는 전기톱은 높이설정이 가능하다.\n",
    "\n",
    "높이 설정을 H미터로 하고 X미터 나무를 벌목하면 (X-H)미터 나무를 가져갈 수 있다. \n",
    "\n",
    "예컨데, 계란이의 집 주변에 있는 나무는 총 4그루로 각각 높이가 20, 15, 10, 17 미터라고 하고, H를 15로 지정하면, 계란이가 가지고 갈 수 있는 나무의 길이는 5+2=7미터이다.\n",
    "\n",
    "계란이는 환경문제에 예민하기 때문에 나무를 필요한 만큼만 가져가고 싶어한다. 이때, M미터의 나무를 가져가기 위해 전기톱에 설정할 수 있는 높이의 최댓값을 구하는 프로그램을 작성하세요.\n",
    "\n",
    "```입력: 나무의 수(N)와 필요한 나무의 길이(M)\n",
    "그리고 N개의 나무의 길이\n",
    "출력: 전기톱에 설정할 수 있는 높이의 최댓값```\n",
    "\n",
    "\n",
    "`단, 높이 H는 양의 정수 또는 0이다.`"
   ]
  },
  {
   "cell_type": "markdown",
   "metadata": {},
   "source": [
    "```python\n",
    "\n",
    "입력 예시\n",
    "첫째 줄에는 N, M이 공백으로 구분되어 입력 받는다.\n",
    "둘째 줄에는 N개 나무의 길이를 공백으로 구분되어 입력 받는다.\n",
    "\n",
    "4 7 # 입력은 공백으로 구분되며 각각 N, M입니다.\n",
    "20 15 10 17 # N개 나무의 길이\n",
    "\n",
    "출력 예시\n",
    "적어도 M미터의 나무를 가져가기 위해 설정할 수 있는 높이의 최댓값\n",
    "\n",
    "15 # 전기톱 높이\n",
    "```"
   ]
  },
  {
   "cell_type": "code",
   "execution_count": 9,
   "metadata": {},
   "outputs": [
    {
     "name": "stdout",
     "output_type": "stream",
     "text": [
      "N, M을 공백으로 구분되어 입력.4 7\n",
      "N개의 나무 길이를 공백으로 구분되어 입력20 15 10 17\n",
      "22\n",
      "7\n",
      "2\n",
      "5\n"
     ]
    },
    {
     "data": {
      "text/plain": [
       "15"
      ]
     },
     "execution_count": 9,
     "metadata": {},
     "output_type": "execute_result"
    }
   ],
   "source": [
    "N, M = map(int, input(\"N, M을 공백으로 구분되어 입력.\").split())\n",
    "trees = list(map(int, input(\"N개의 나무 길이를 공백으로 구분되어 입력\").split()))\n",
    "\n",
    "M = target\n",
    "arr = trees\n",
    "def binar_search(arr, target):\n",
    "    low = 0\n",
    "    high = max(arr)\n",
    "    \n",
    "    while low <= high:\n",
    "        mid = (low + high)//2\n",
    "        get_tree = sum([i - mid for i in trees if i >= mid])\n",
    "        print(get_tree)\n",
    "        if get_tree < target:\n",
    "            high = mid -1\n",
    "        if get_tree >= target:\n",
    "            answer = mid\n",
    "            low = mid+1\n",
    "    return answer\n",
    "binar_search(arr, target)"
   ]
  },
  {
   "cell_type": "code",
   "execution_count": 11,
   "metadata": {},
   "outputs": [
    {
     "data": {
      "text/plain": [
       "16"
      ]
     },
     "execution_count": 11,
     "metadata": {},
     "output_type": "execute_result"
    }
   ],
   "source": [
    "33//2"
   ]
  },
  {
   "cell_type": "code",
   "execution_count": 1,
   "metadata": {},
   "outputs": [],
   "source": [
    "def binar_search(arr, target):\n",
    "    low = 0\n",
    "    high = max(arr)\n",
    "    \n",
    "    while low <= high:\n",
    "        mid = (low + high)//2\n",
    "        get_tree = sum([i - mid for i in trees if i >= mid])\n",
    "        if get_tree < target:\n",
    "            high = mid -1\n",
    "        if get_tree >= target:\n",
    "            answer = mid\n",
    "            low = mid+1\n",
    "    return answer"
   ]
  },
  {
   "cell_type": "code",
   "execution_count": 7,
   "metadata": {},
   "outputs": [
    {
     "name": "stdout",
     "output_type": "stream",
     "text": [
      "N, M을 공백으로 구분되어 입력.4 7\n",
      "N개의 나무 길이를 공백으로 구분되어 입력20 15 10 17\n"
     ]
    },
    {
     "data": {
      "text/plain": [
       "15"
      ]
     },
     "execution_count": 7,
     "metadata": {},
     "output_type": "execute_result"
    }
   ],
   "source": [
    "N, M = map(int, input(\"N, M을 공백으로 구분되어 입력.\").split())\n",
    "trees = list(map(int, input(\"N개의 나무 길이를 공백으로 구분되어 입력\").split()))\n",
    "arr = trees\n",
    "M = target\n",
    "binar_search(arr, target)"
   ]
  },
  {
   "cell_type": "code",
   "execution_count": null,
   "metadata": {},
   "outputs": [],
   "source": []
  },
  {
   "cell_type": "code",
   "execution_count": null,
   "metadata": {},
   "outputs": [],
   "source": []
  },
  {
   "cell_type": "code",
   "execution_count": 1,
   "metadata": {},
   "outputs": [
    {
     "name": "stdout",
     "output_type": "stream",
     "text": [
      "[62, 58, 54, 50, 46, 42, 38, 34, 30, 26, 22, 19, 16, 13, 10, 7, 5, 3, 2, 1]\n",
      "전기톱에 설정할 수 있는 높이의 최댓값은 15 미터 입니다.\n"
     ]
    }
   ],
   "source": [
    "M = 7\n",
    "trees = [20, 15, 10, 17]\n",
    "h = []\n",
    "m = []\n",
    "n = []\n",
    "for i in range(0,max(trees)):\n",
    "    m.append(i)\n",
    "    for j in range(len(trees)):\n",
    "        a= trees[j] - i\n",
    "        h.append(a)\n",
    "k = [0 if i < 0 else i for i in h]\n",
    "\n",
    "#print(k)\n",
    "#print(m)\n",
    "#print(len(m))\n",
    "#print(range(len(m)))\n",
    "for i in range(len(m)):                       #0 ~ 9 까지\n",
    "    d = sum(k[i*4:i*4+4])\n",
    "    #print(d)\n",
    "    n.append(d)\n",
    "print(n)\n",
    "for i in n:\n",
    "    if i == M:\n",
    "        e=n.index(M)\n",
    "        #print(e)\n",
    "        g=m.pop(e)\n",
    "        #print(g)\n",
    "print(\"전기톱에 설정할 수 있는 높이의 최댓값은\",g,\"미터 입니다.\")"
   ]
  },
  {
   "cell_type": "code",
   "execution_count": 28,
   "metadata": {},
   "outputs": [
    {
     "name": "stdout",
     "output_type": "stream",
     "text": [
      "10\n"
     ]
    }
   ],
   "source": [
    "a = [20, 15, 10, 17]\n",
    "m = []\n",
    "for i in range(min(a),max(a)):\n",
    "    m.append(i)\n",
    "m\n",
    "print(len(m))"
   ]
  },
  {
   "cell_type": "code",
   "execution_count": null,
   "metadata": {},
   "outputs": [],
   "source": [
    "if i in range(len(trees)):\n",
    "    print(sum(k[0+4i: 4+4i ]))"
   ]
  },
  {
   "cell_type": "code",
   "execution_count": 4,
   "metadata": {
    "scrolled": false
   },
   "outputs": [
    {
     "name": "stdout",
     "output_type": "stream",
     "text": [
      "N, M을 공백으로 구분되어 입력.4 7\n",
      "N개의 나무 길이를 공백으로 구분되어 입력20 15 10 17\n",
      "[62, 58, 54, 50, 46, 42, 38, 34, 30, 26, 22, 19, 16, 13, 10, 7, 5, 3, 2, 1]\n",
      "전기톱에 설정할 수 있는 높이의 최댓값은 15 미터 입니다.\n"
     ]
    }
   ],
   "source": [
    "# write your code here!!\n",
    "N, M = map(int, input(\"N, M을 공백으로 구분되어 입력.\").split())\n",
    "trees = list(map(int, input(\"N개의 나무 길이를 공백으로 구분되어 입력\").split()))\n",
    "h = []\n",
    "m = []\n",
    "n = []\n",
    "for i in range(0,max(trees)):\n",
    "    m.append(i)\n",
    "    for j in range(len(trees)):\n",
    "        a= trees[j] - i\n",
    "        h.append(a)\n",
    "k = [0 if i < 0 else i for i in h]\n",
    "\n",
    "#print(k)\n",
    "#print(m)\n",
    "#print(len(m))\n",
    "#print(range(len(m)))\n",
    "\n",
    "f = len(trees)\n",
    "for i in range(len(m)):                       #0 ~ 9 까지\n",
    "    d = sum(k[i*f:i*f+f])\n",
    "    n.append(d)\n",
    "print(n)\n",
    "\n",
    "for i in n:\n",
    "    if i == M:\n",
    "        e=n.index(M)\n",
    "        #print(e)\n",
    "        g=m.pop(e)\n",
    "        #print(g)\n",
    "print(\"전기톱에 설정할 수 있는 높이의 최댓값은\",g,\"미터 입니다.\")"
   ]
  },
  {
   "cell_type": "code",
   "execution_count": 253,
   "metadata": {
    "scrolled": true
   },
   "outputs": [
    {
     "ename": "AttributeError",
     "evalue": "'int' object has no attribute 'split'",
     "output_type": "error",
     "traceback": [
      "\u001b[1;31m---------------------------------------------------------------------------\u001b[0m",
      "\u001b[1;31mAttributeError\u001b[0m                            Traceback (most recent call last)",
      "\u001b[1;32m<ipython-input-253-e7fc187277bf>\u001b[0m in \u001b[0;36m<module>\u001b[1;34m\u001b[0m\n\u001b[0;32m      4\u001b[0m \u001b[1;33m\u001b[0m\u001b[0m\n\u001b[0;32m      5\u001b[0m \u001b[1;32mfor\u001b[0m \u001b[0mi\u001b[0m \u001b[1;32min\u001b[0m \u001b[0mrange\u001b[0m\u001b[1;33m(\u001b[0m\u001b[1;36m4\u001b[0m\u001b[1;33m)\u001b[0m\u001b[1;33m:\u001b[0m\u001b[1;33m\u001b[0m\u001b[1;33m\u001b[0m\u001b[0m\n\u001b[1;32m----> 6\u001b[1;33m     \u001b[0mprint\u001b[0m\u001b[1;33m(\u001b[0m\u001b[1;33m(\u001b[0m\u001b[0msum\u001b[0m\u001b[1;33m(\u001b[0m\u001b[0ma\u001b[0m\u001b[1;33m[\u001b[0m\u001b[0mi\u001b[0m\u001b[1;33m]\u001b[0m\u001b[1;33m)\u001b[0m\u001b[1;33m)\u001b[0m\u001b[1;33m.\u001b[0m\u001b[0msplit\u001b[0m\u001b[1;33m(\u001b[0m\u001b[1;34m' '\u001b[0m\u001b[1;33m)\u001b[0m\u001b[1;33m)\u001b[0m\u001b[1;33m\u001b[0m\u001b[1;33m\u001b[0m\u001b[0m\n\u001b[0m",
      "\u001b[1;31mAttributeError\u001b[0m: 'int' object has no attribute 'split'"
     ]
    }
   ],
   "source": [
    "M=7\n",
    "a= [[0, 0, 0, 0], [5, 0, 0, 2], [10, 5, 0, 7], [3, 0, 0, 0]]\n",
    "aa, bb, cc, dd = a[0], a[1], a[2], a[3]\n",
    "\n",
    "for i in range(4):\n",
    "    print((sum(a[i])).split(' '))\n"
   ]
  },
  {
   "cell_type": "code",
   "execution_count": 112,
   "metadata": {},
   "outputs": [
    {
     "name": "stdout",
     "output_type": "stream",
     "text": [
      "[[0, -5, -10, -3], [5, 0, -5, 2], [10, 5, 0, 7], [3, -2, -7, 0]]\n"
     ]
    }
   ],
   "source": [
    "trees = [20, 15, 10, 17]\n",
    "h = []\n",
    "for i in range(len(trees)):\n",
    "    for j in trees:\n",
    "        a=j-trees[i]\n",
    "        h.append(a)\n",
    "        \n",
    "print([h[i:i + len(trees)] for i in range(0, len(h), len(trees))])\n"
   ]
  },
  {
   "cell_type": "markdown",
   "metadata": {},
   "source": [
    "# Q4\n",
    "\n",
    "선택정렬을 이용해서 다음을 구현하세요.\n",
    "\n",
    "배열의 i번째 숫자부터 j번째 숫자까지 자르고 정렬했을때, 자르고 정렬할 때, k번째 있는 수를 구하는 기능을 구현하세요.\n",
    "\n",
    "`arr = [1, 5, 7, 2, 3, 8], i=2, j=6, k=3`이라면\n",
    "\n",
    "1. arr을 2~6까지 자르면 `[5, 7, 2, 3, 8]`입니다.\n",
    "2. 위에서 구한 배열을 정렬합니다. `[2, 3, 5, 7, 8]`\n",
    "3. 위에서 정렬된 배열의 k번째 숫자는 `5`입니다.\n",
    "\n",
    "`주어진 값으로만 풀이하면 됩니다!, 함수화 하지 않아도 됩니다.`"
   ]
  },
  {
   "cell_type": "code",
   "execution_count": 128,
   "metadata": {},
   "outputs": [
    {
     "data": {
      "text/plain": [
       "5"
      ]
     },
     "execution_count": 128,
     "metadata": {},
     "output_type": "execute_result"
    }
   ],
   "source": [
    "# write your code here!!\n",
    "\n",
    "arr = [1, 5, 7, 2, 3, 8]\n",
    "i=2\n",
    "j=6\n",
    "k=3\n",
    "\n",
    "w = arr[i-1:j]\n",
    "sw = sorted(w)\n",
    "sw[k-1]"
   ]
  },
  {
   "cell_type": "markdown",
   "metadata": {},
   "source": [
    "# Q5\n",
    "\n",
    "선택정렬을 활용해서 다음을 구현하세요!\n",
    "\n",
    "수가 주어지면, 각 자리수를 내림차 순으로 정렬하는 solution 함수를 구현하세요.\n",
    "\n",
    "```pyhton\n",
    "\n",
    "#입력 예시\n",
    "soluton(1452)\n",
    "\n",
    "#출력 예시\n",
    "5421\n",
    "```"
   ]
  },
  {
   "cell_type": "code",
   "execution_count": 215,
   "metadata": {
    "scrolled": true
   },
   "outputs": [],
   "source": [
    "def solution(a):\n",
    "    a= sorted(str(a))\n",
    "    n = len(a)\n",
    "    for i in range(0, n - 1):\n",
    "        max_idx = i                                          # 최솟값(min) 대신 최댓값(max)을 찾아야 함\n",
    "        for j in range(i + 1, n):\n",
    "            if a[j] > a[max_idx]:                                 # 부등호 방향 뒤집기\n",
    "                max_idx = j\n",
    "        a[i], a[max_idx] = a[max_idx], a[i]\n",
    "    return int(''.join(a))"
   ]
  },
  {
   "cell_type": "code",
   "execution_count": 216,
   "metadata": {},
   "outputs": [
    {
     "data": {
      "text/plain": [
       "5421"
      ]
     },
     "execution_count": 216,
     "metadata": {},
     "output_type": "execute_result"
    }
   ],
   "source": [
    "solution(1452)"
   ]
  },
  {
   "cell_type": "code",
   "execution_count": 168,
   "metadata": {},
   "outputs": [
    {
     "name": "stdout",
     "output_type": "stream",
     "text": [
      "5421\n"
     ]
    }
   ],
   "source": [
    "c =['5', '4', '2', '1']\n",
    "print(''.join(c))"
   ]
  },
  {
   "cell_type": "code",
   "execution_count": 193,
   "metadata": {},
   "outputs": [
    {
     "name": "stdout",
     "output_type": "stream",
     "text": [
      "['1', '2', '4', '5']\n"
     ]
    }
   ],
   "source": [
    "print(sorted(str(1452)))"
   ]
  },
  {
   "cell_type": "code",
   "execution_count": 30,
   "metadata": {},
   "outputs": [
    {
     "data": {
      "text/plain": [
       "5421"
      ]
     },
     "execution_count": 30,
     "metadata": {},
     "output_type": "execute_result"
    }
   ],
   "source": [
    "def solution(numb):\n",
    "    return int(''.join(sorted(str(numb), reverse=True))) #sorted 함수를 쓰기위해 숫자가 아닌 iterable 문자 필요 >> str 사용 \n",
    "                                                        #sorted를 쓴 결과값은 list로 출력되고, .''join으로 str 문자로 변형\n",
    "                                                         # 다시 int 함수로 정수로 변경ㄷㄷ\n",
    "solution(1452)"
   ]
  },
  {
   "cell_type": "code",
   "execution_count": 207,
   "metadata": {},
   "outputs": [
    {
     "name": "stdout",
     "output_type": "stream",
     "text": [
      "<class 'int'>\n",
      "<class 'str'>\n",
      "['1', '2', '4', '5']\n",
      "<class 'list'>\n",
      "1452\n",
      "<class 'str'>\n",
      "['1', '2', '4', '5']\n",
      "1245\n",
      "<class 'str'>\n",
      "숫자 1245\n",
      "<class 'list'>\n",
      "<class 'list'>\n"
     ]
    }
   ],
   "source": [
    "s = 1452\n",
    "print(type(s))\n",
    "print(type(''.join(sorted(str(s)))))\n",
    "print(sorted(str(s)))\n",
    "print(type(sorted(str(s))))\n",
    "print(str(s))\n",
    "print(type(str(s)))\n",
    "a = sorted(str(s))\n",
    "print(a)\n",
    "b = ''.join(a)\n",
    "print(b)\n",
    "print(type(b))\n",
    "print('숫자',int(b))\n",
    "print(type(sorted(str(s))))\n",
    "print(type([1,4,5,2]))\n",
    "#sorted 함수를 쓰기위해 "
   ]
  }
 ],
 "metadata": {
  "kernelspec": {
   "display_name": "Python 3",
   "language": "python",
   "name": "python3"
  }
 },
 "nbformat": 4,
 "nbformat_minor": 2
}
