{
 "cells": [
  {
   "cell_type": "markdown",
   "metadata": {},
   "source": [
    "# 이진탐색 알고리즘 구현하기.\n",
    "\n",
    "* 입력값(인풋)은 정렬된 리스트(Array), 리스트의 요소의 개수 n, 탐색 대상인 target\n",
    "* 결과값(아웃풋)은 리스트 속 target의 인덱스 값\n",
    "\n",
    "\n",
    "1. low=0이고 high=n-1이라고 합니다.\n",
    "2. guess의 값은 low와 high의 평균값을 정수가 되도록 버림한 값 입니다.\n",
    "3. Array[guess]의 값이 target과 같다면 검색을 멈춥니다. 타겟을 찾았습니다. Guess를 결과값으로 반환합니다.\n",
    "4. 추측값이 더 작다면 즉, array[guess]<targe이라면, low = guess +1 으로 바꿉니다.\n",
    "5. 추측값이 더 크다면. 그럼 high=guess-1로 바꿉니다\n",
    "6. 2단계로 돌아갑니다"
   ]
  },
  {
   "cell_type": "code",
   "execution_count": 1,
   "metadata": {},
   "outputs": [],
   "source": [
    "# 1. low=0이고 high=n-1이라고 합니다.\n",
    "low = 0\n",
    "high = len(arr)-1"
   ]
  },
  {
   "cell_type": "code",
   "execution_count": 2,
   "metadata": {},
   "outputs": [],
   "source": [
    "# 2. guess의 값은 low와 high의 평균값을 정수가 되도록 버림한 값 입니다.\n",
    "guess = (low + high) // 2 "
   ]
  },
  {
   "cell_type": "code",
   "execution_count": 5,
   "metadata": {},
   "outputs": [],
   "source": [
    "# 3. Array[guess]의 값이 target과 같다면 검색을 멈춥니다. 타겟을 찾았습니다. Guess를 결과값으로 반환합니다.\n",
    "if target == Array[guess]:\n",
    "    return guess\n"
   ]
  },
  {
   "cell_type": "code",
   "execution_count": null,
   "metadata": {},
   "outputs": [],
   "source": [
    "# 4. 추측값이 더 작다면 즉, array[guess]<targe이라면, low = guess +1 으로 바꿉니다.\n",
    "elif target < arr[guess]:\n",
    "    high = guess-1"
   ]
  },
  {
   "cell_type": "code",
   "execution_count": null,
   "metadata": {},
   "outputs": [],
   "source": [
    "# 5. 추측값이 더 크다면. 그럼 high=guess-1로 바꿉니다\n",
    "elif target>arr[guess]:\n",
    "    low = guess+1"
   ]
  },
  {
   "cell_type": "code",
   "execution_count": null,
   "metadata": {},
   "outputs": [],
   "source": [
    "# 6. 2단계로 돌아갑니다\n",
    "ㅇㅋ"
   ]
  },
  {
   "cell_type": "code",
   "execution_count": 1,
   "metadata": {},
   "outputs": [],
   "source": [
    "abc = [i for i in range(1,100) if i%2 == 0]\n",
    "def binary_search(arr,target):\n",
    "    low=0\n",
    "    high=len(arr)-1\n",
    "    \n",
    "    while low <= high:\n",
    "        guess = (low+high)//2\n",
    "        \n",
    "        if target == arr[guess]:\n",
    "            return guess\n",
    "        elif target < arr[guess]:\n",
    "            high=guess\n",
    "        elif target>arr[guess]:\n",
    "            low = guess+1\n",
    "    return None"
   ]
  },
  {
   "cell_type": "code",
   "execution_count": null,
   "metadata": {},
   "outputs": [],
   "source": [
    "a = [2,4,5]\n",
    "a[0]"
   ]
  },
  {
   "cell_type": "code",
   "execution_count": 2,
   "metadata": {},
   "outputs": [
    {
     "data": {
      "text/plain": [
       "19"
      ]
     },
     "execution_count": 2,
     "metadata": {},
     "output_type": "execute_result"
    }
   ],
   "source": [
    "binary_search(arr,40)"
   ]
  },
  {
   "cell_type": "code",
   "execution_count": 5,
   "metadata": {},
   "outputs": [
    {
     "data": {
      "text/plain": [
       "1"
      ]
     },
     "execution_count": 5,
     "metadata": {},
     "output_type": "execute_result"
    }
   ],
   "source": [
    "arr.index(4)"
   ]
  },
  {
   "cell_type": "markdown",
   "metadata": {},
   "source": [
    "# 선택정렬 알고리즘 구현하기\n",
    "\n"
   ]
  },
  {
   "cell_type": "markdown",
   "metadata": {},
   "source": [
    "* 입력값(인풋)은 정렬되지 않은 차트\n",
    "* 결과값(아웃풋)은 정렬된 차트\n",
    "\n",
    "\n",
    "1. 정렬된 값을 넣을 비어있는 차트를 생성합니다. new_chart\n",
    "2. 차트에서 key와 value를 각각 새로운 변수, music, play_num, 에 리스트 형태로 저장합니다.\n",
    "3. play_num에 첫번째 요소를 biggest_num으로 지정하고 그의 index값도 biggest_index에 저장합니다.\n",
    "4. 반복문을 통해 play_num에서 가장 큰 요소를 찾아내고, biggest_num과 biggest_index를 갱신합니다.\n",
    "5. biggest_music 변수에 가장 큰 노래의 제목을 저장하고, new_chart에 값을 추가합니다.\n",
    "6. 기존 차트에서 이미 새로운 차트에 추가한 값을 삭제합니다.\n",
    "7. 기존 차트가 비워 질때까지 2~7을 반복합니다.\n"
   ]
  },
  {
   "cell_type": "code",
   "execution_count": 7,
   "metadata": {},
   "outputs": [
    {
     "ename": "SyntaxError",
     "evalue": "invalid syntax (<ipython-input-7-bc3e254c7774>, line 2)",
     "output_type": "error",
     "traceback": [
      "\u001b[1;36m  File \u001b[1;32m\"<ipython-input-7-bc3e254c7774>\"\u001b[1;36m, line \u001b[1;32m2\u001b[0m\n\u001b[1;33m    chart=[\"노래방에서\":512, \"오늘도 빛나는 너에게\":100,\"square\":300,\"블루밍\":256,\"늦은밤\":46]\u001b[0m\n\u001b[1;37m                  ^\u001b[0m\n\u001b[1;31mSyntaxError\u001b[0m\u001b[1;31m:\u001b[0m invalid syntax\n"
     ]
    }
   ],
   "source": [
    "# 1. 정렬된 값을 넣을 비어있는 차트를 생성합니다. new_chart\n",
    "new_chart={}"
   ]
  },
  {
   "cell_type": "code",
   "execution_count": 14,
   "metadata": {},
   "outputs": [
    {
     "ename": "SyntaxError",
     "evalue": "invalid syntax (<ipython-input-14-372f7562088d>, line 2)",
     "output_type": "error",
     "traceback": [
      "\u001b[1;36m  File \u001b[1;32m\"<ipython-input-14-372f7562088d>\"\u001b[1;36m, line \u001b[1;32m2\u001b[0m\n\u001b[1;33m    chart=[\"노래방에서\":512, \"오늘도 빛나는 너에게\":100,\"square\":300,\"블루밍\":256,\"늦은밤\":46]\u001b[0m\n\u001b[1;37m                  ^\u001b[0m\n\u001b[1;31mSyntaxError\u001b[0m\u001b[1;31m:\u001b[0m invalid syntax\n"
     ]
    }
   ],
   "source": [
    "# 2. 차트에서 key와 value를 각각 새로운 변수, music, play_num, 에 리스트 형태로 저장합니다.\n",
    "chart=[\"노래방에서\":512, \"오늘도 빛나는 너에게\":100,\"square\":300,\"블루밍\":256,\"늦은밤\":46]\n",
    "music=list(chart.keys())\n",
    "play_num=list(chart.values())"
   ]
  },
  {
   "cell_type": "code",
   "execution_count": null,
   "metadata": {},
   "outputs": [],
   "source": [
    "# 3. play_num에 첫번째 요소를 biggest_num으로 지정하고 그의 index값도 biggest_index에 저장합니다.\n",
    "biggest_num = play_num[0]\n",
    "biggest_index = 0"
   ]
  },
  {
   "cell_type": "code",
   "execution_count": null,
   "metadata": {},
   "outputs": [],
   "source": [
    "# 4. 반복문을 통해 play_num에서 가장 큰 요소를 찾아내고, biggest_num과 biggest_index를 갱신합니다.\n",
    "for i in range(1,len(play_num)):\n",
    "    if play_num[i]>biggest_num:\n",
    "        biggest_num=play_num[i]\n",
    "        biggest_index=1"
   ]
  },
  {
   "cell_type": "code",
   "execution_count": null,
   "metadata": {},
   "outputs": [],
   "source": [
    "# 5. biggest_music 변수에 가장 큰 노래의 제목을 저장하고, new_chart에 값을 추가합니다.\n",
    "biggest_music=music[biggest_index]\n",
    "\n",
    "new_chart[biggest_music]=biggest_num\n"
   ]
  },
  {
   "cell_type": "code",
   "execution_count": null,
   "metadata": {},
   "outputs": [],
   "source": [
    "# 6. 기존 차트에서 이미 새로운 차트에 추가한 값을 삭제합니다.\n",
    "del chart[biggest_music]"
   ]
  },
  {
   "cell_type": "code",
   "execution_count": null,
   "metadata": {},
   "outputs": [],
   "source": [
    "# 7. 기존 차트가 비워 질때까지 2~7을 반복합니다.\n",
    "while chart:"
   ]
  },
  {
   "cell_type": "code",
   "execution_count": 13,
   "metadata": {},
   "outputs": [],
   "source": [
    "def selection_sort(chart):\n",
    "    new_chart={}\n",
    "    \n",
    "    while chart:\n",
    "        music=list(chart.keys())\n",
    "        play_num=list(chart.values())\n",
    "        biggest_num = play_num[0]\n",
    "        print(play_num[0])\n",
    "        biggest_index = 0  \n",
    "        \n",
    "        for i in range(1,len(play_num)):\n",
    "            if play_num[i]>biggest_num:\n",
    "                biggest_num=play_num[i]\n",
    "                biggest_index=i\n",
    "        biggest_music=music[biggest_index]\n",
    "\n",
    "        new_chart[biggest_music]=biggest_num\n",
    "        \n",
    "        del chart[biggest_music]\n",
    "        \n",
    "    return new_chart\n",
    "    "
   ]
  },
  {
   "cell_type": "code",
   "execution_count": 14,
   "metadata": {},
   "outputs": [
    {
     "name": "stdout",
     "output_type": "stream",
     "text": [
      "512\n",
      "100\n",
      "100\n",
      "100\n",
      "46\n"
     ]
    },
    {
     "data": {
      "text/plain": [
       "{'노래방에서': 512, 'square': 300, '블루밍': 256, '오늘도 빛나는 너에게': 100, '늦은밤': 46}"
      ]
     },
     "execution_count": 14,
     "metadata": {},
     "output_type": "execute_result"
    }
   ],
   "source": [
    "selection_sort({\"노래방에서\":512, \"오늘도 빛나는 너에게\":100,\"square\":300,\"블루밍\":256,\"늦은밤\":46})"
   ]
  },
  {
   "cell_type": "code",
   "execution_count": null,
   "metadata": {},
   "outputs": [],
   "source": []
  }
 ],
 "metadata": {
  "kernelspec": {
   "display_name": "Python 3",
   "language": "python",
   "name": "python3"
  },
  "language_info": {
   "codemirror_mode": {
    "name": "ipython",
    "version": 3
   },
   "file_extension": ".py",
   "mimetype": "text/x-python",
   "name": "python",
   "nbconvert_exporter": "python",
   "pygments_lexer": "ipython3",
   "version": "3.7.4"
  }
 },
 "nbformat": 4,
 "nbformat_minor": 2
}
