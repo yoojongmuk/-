{
 "cells": [
  {
   "cell_type": "markdown",
   "metadata": {},
   "source": [
    "# 객체지향 프로그래밍\n",
    "\n",
    "객체지향이란 것은 초보 프로그래머들을 고생시키는 개념입니다. 이들은 굉장히 추상적인 개념이기도 해서 잘 이해가 되지 않는다면, 최대한 관련 자료를 찾아보고 자신만에 정리를 하는 것을 추천합니다.\n",
    "\n",
    "절차지향 vs 객체지향\n",
    "\n",
    "* 절차지향: 물 흐르듯, 코드가 위에서 아래로 순차적으로 실행되는 것이 특징이며 지금까지 우리가 대부분 코딩해온 방식이다.\n",
    "* 절차지향 방식은 함수에서 시작하여 그 안의 내용을 차례대로 실행하면서 데이터를 사용하여 작업을 수행하는 프로그래밍 방식을 사용한다.\n",
    "* 이들은 복잡한 논리관계를 가지고 있어서 유지보수가 어렵고, 데이터 관리가 어렵다는 단점이 있다.\n",
    "\n",
    "\n",
    "* 객체지향: 객체지향 방식은 절차지향이 가진 단점을 보완하기 위해 탄생한 방식이다.\n",
    "* 이 방식은 절차지향에서 단위가 단위가 되었던 함수를 모아서 일종의 설계도를 만든다"
   ]
  },
  {
   "cell_type": "markdown",
   "metadata": {},
   "source": [
    "# 클래스와 객체를 만들어보자.\n",
    "\n",
    "클래스를 생성하는 기본적인 문법은 다음과 같습니다.\n",
    "\n",
    "tip) 파이썬 클래스명은 CamelCase 네이밍컨벤션입니다.\n",
    "\n",
    "```python\n",
    "\n",
    "class 클래스(object):\n",
    "    def 메서드명(self, arg1, ~):\n",
    "       소스코드\n",
    "    \n",
    "또는\n",
    "\n",
    "class 클래스명():\n",
    "    def 메서드명(self, arg1, ~):\n",
    "       소스코드\n",
    "    \n",
    "또는\n",
    "\n",
    "class 클래스명:\n",
    "    def 메서드명(self, arg1, ~):\n",
    "       소스코드\n",
    "```\n",
    "\n",
    "비행기를 클래스로 표현하려면 어떤 것이 필요할까요?\n",
    "이미 우리가 생각해본 것 입니다.\n",
    "\n",
    "비행기는 `연료, 출발지, 도착지 등의 데이터`가 필요합니다. 그리고 비행기라면 `비행 할 수 있고, 착륙할 수 있는 기능`이 있어야 합니다.\n",
    "\n",
    "여기서 연료, 출발지, 도착지 등 데이터를 `클래스의 속성(attribute)`이라고 하고, 비행, 착륙 등의 기능을 `메서드(method)`라고 합니다."
   ]
  },
  {
   "cell_type": "code",
   "execution_count": 7,
   "metadata": {},
   "outputs": [],
   "source": [
    "# 비행기 클래스와 메서드를 만듭니다.\n",
    "\n",
    "class 비행기:\n",
    "    def 비행(self):\n",
    "        print(\"비행 기능입니다.\")\n",
    "    def 착륙(self):\n",
    "        print (\"착륙 기능입니다.\")"
   ]
  },
  {
   "cell_type": "code",
   "execution_count": 26,
   "metadata": {
    "scrolled": true
   },
   "outputs": [
    {
     "name": "stdout",
     "output_type": "stream",
     "text": [
      "비행 기능입니다.\n"
     ]
    }
   ],
   "source": [
    "b=비행기()\n",
    "b.비행()"
   ]
  },
  {
   "cell_type": "code",
   "execution_count": 27,
   "metadata": {},
   "outputs": [
    {
     "name": "stdout",
     "output_type": "stream",
     "text": [
      "비행 기능입니다.\n"
     ]
    }
   ],
   "source": [
    "비행기().비행()"
   ]
  },
  {
   "cell_type": "markdown",
   "metadata": {},
   "source": [
    "#### 객체 생성하기\n",
    "\n",
    "```python\n",
    "\n",
    "객체명(변수) = 클래스명()``` "
   ]
  },
  {
   "cell_type": "code",
   "execution_count": null,
   "metadata": {},
   "outputs": [],
   "source": []
  },
  {
   "cell_type": "markdown",
   "metadata": {},
   "source": [
    "#### 메서드 호출하기\n",
    "\n",
    "```python\n",
    "객체명.메서드명()```"
   ]
  },
  {
   "cell_type": "code",
   "execution_count": null,
   "metadata": {},
   "outputs": [],
   "source": []
  },
  {
   "cell_type": "markdown",
   "metadata": {},
   "source": [
    "이런식으로 클래스와 객체를 기반으로 프로그래밍 하는 방법을 객체지향 프로그래밍(OOP)이라고 합니다.\n",
    "\n",
    "이렇게 되면 수많은 객체를 만들 수 있고. 기능을 수정하거나 디벨롭 할 경우, 해당 클래스만 수정하면 되기 때문에 유지 보수에도 상당히 효율적입니다."
   ]
  },
  {
   "cell_type": "markdown",
   "metadata": {},
   "source": [
    "##### 잠깐만요!!\n",
    "사실.. 파이썬의 모든건 클래스와 객체였어."
   ]
  },
  {
   "cell_type": "code",
   "execution_count": null,
   "metadata": {},
   "outputs": [],
   "source": [
    "a = 10\n",
    "print(type(10))\n",
    "\n",
    "print(type(my_plane))\n",
    "\n",
    "def wow():\n",
    "    return \"wow\"\n",
    "\n",
    "b = wow()\n",
    "print(type(wow))\n",
    "print(type(b))"
   ]
  },
  {
   "cell_type": "markdown",
   "metadata": {},
   "source": [
    "### 클래스의 속성\n",
    "\n",
    "메서드는 기능을 담당하고 속성은 데이터를 담당합니다.\n",
    "\n",
    "비행기의 데이터라고하면, 연료, 출발지, 도착지 등이 있겠네요.\n",
    "\n",
    "속성은 생성자(Constructor)를 통해 부여합니다.\n",
    "\n",
    "생성자는 객체마다 다르게 가져야할 필수적인 요건을 설정하는데 사용합니다.\n",
    "\n",
    "파이썬에서는 생성자를 다음과 같은 메서드를 통해 구현합니다.\n",
    "\n",
    "```python\n",
    "\n",
    "def __init__(self, attr1, attr2 ~~):\n",
    "    self.attr1 = attr1\n",
    "    self.attr2 = attr2\n",
    "```"
   ]
  },
  {
   "cell_type": "code",
   "execution_count": 13,
   "metadata": {},
   "outputs": [],
   "source": [
    "class 비행기:\n",
    "    def __init__(self, 연료, 출발지, 도착지):\n",
    "        self.연료 = 연료\n",
    "        self.출발지 = 출발지\n",
    "        self.도착지 = 도착지\n",
    "    \n",
    "    def 비행(self):\n",
    "        print(\"비행 기능입니다.\")\n",
    "    def 착륙(self):\n",
    "        print (\"착륙 기능입니다.\")"
   ]
  },
  {
   "cell_type": "code",
   "execution_count": 14,
   "metadata": {},
   "outputs": [
    {
     "ename": "TypeError",
     "evalue": "__init__() missing 3 required positional arguments: '연료', '출발지', and '도착지'",
     "output_type": "error",
     "traceback": [
      "\u001b[1;31m---------------------------------------------------------------------------\u001b[0m",
      "\u001b[1;31mTypeError\u001b[0m                                 Traceback (most recent call last)",
      "\u001b[1;32m<ipython-input-14-574ca459beaa>\u001b[0m in \u001b[0;36m<module>\u001b[1;34m\u001b[0m\n\u001b[0;32m      1\u001b[0m \u001b[1;31m# 생성자에 있는 값을 대입하지 않는다면 에러를 발생시킨다.\u001b[0m\u001b[1;33m\u001b[0m\u001b[1;33m\u001b[0m\u001b[1;33m\u001b[0m\u001b[0m\n\u001b[0;32m      2\u001b[0m \u001b[1;33m\u001b[0m\u001b[0m\n\u001b[1;32m----> 3\u001b[1;33m \u001b[0mmy_plane\u001b[0m \u001b[1;33m=\u001b[0m \u001b[0m비행기\u001b[0m\u001b[1;33m(\u001b[0m\u001b[1;33m)\u001b[0m\u001b[1;33m\u001b[0m\u001b[1;33m\u001b[0m\u001b[0m\n\u001b[0m\u001b[0;32m      4\u001b[0m \u001b[0myour_plane\u001b[0m \u001b[1;33m=\u001b[0m \u001b[0m비행기\u001b[0m\u001b[1;33m(\u001b[0m\u001b[1;33m)\u001b[0m\u001b[1;33m\u001b[0m\u001b[1;33m\u001b[0m\u001b[0m\n",
      "\u001b[1;31mTypeError\u001b[0m: __init__() missing 3 required positional arguments: '연료', '출발지', and '도착지'"
     ]
    }
   ],
   "source": [
    "# 생성자에 있는 값을 대입하지 않는다면 에러를 발생시킨다.\n",
    "\n",
    "my_plane = 비행기()\n",
    "your_plane = 비행기()"
   ]
  },
  {
   "cell_type": "code",
   "execution_count": 15,
   "metadata": {},
   "outputs": [
    {
     "name": "stdout",
     "output_type": "stream",
     "text": [
      "50 100\n",
      "서울 시드니\n",
      "뉴욕 런던\n"
     ]
    }
   ],
   "source": [
    "my_plane = 비행기(50, \"서울\", \"뉴욕\")\n",
    "your_plane = 비행기(100, \"시드니\", \"런던\")\n",
    "\n",
    "print(my_plane.연료, your_plane.연료)\n",
    "print(my_plane.출발지, your_plane.출발지)\n",
    "print(my_plane.도착지, your_plane.도착지)"
   ]
  },
  {
   "cell_type": "code",
   "execution_count": 16,
   "metadata": {},
   "outputs": [],
   "source": [
    "class 비행기:\n",
    "    def __init__(self):\n",
    "        self.연료 = int(input(\"연료량을 입력\"))\n",
    "        self.출발지 = input(\"출발지를 입력\")\n",
    "        self.도착지 = input(\"도착지를 입력\")\n",
    "    \n",
    "    def 비행(self):\n",
    "        print(\"비행 기능입니다.\")\n",
    "    def 착륙(self):\n",
    "        print (\"착륙 기능입니다.\")"
   ]
  },
  {
   "cell_type": "markdown",
   "metadata": {},
   "source": [
    "##### 잠깐만요!! 자꾸 등장하는 self는 무엇인가요??\n",
    "\n",
    "self는 '스스로'라는 의미이죠. self는 만들어진 객체의 이름을 가리킵니다.\n",
    "\n",
    "그렇게 되면, 위 비행기 클래스의 <b>연료</b>가 인스턴스의 연료 속성을 의미했는지,\n",
    "메서드 내의 지역변수 연료를 가리키는지 명확하지 않습니다.\n",
    "\n",
    "하지만, self.연료 = 연료 이라고 하면 self.연료 는 인스턴스 속성을 가리키고, 등호 뒤에 연료는 메서드의 지역변수라는 것이 명확해 집니다.\n",
    "\n",
    "참고) Java, C++에서 this와 동일합니다."
   ]
  },
  {
   "cell_type": "markdown",
   "metadata": {},
   "source": [
    "### 비공개 속성\n",
    "\n",
    "지금까지 우리는 연료, 출발지, 도착지를 확인하고 싶으면\n",
    "\n",
    "인스턴스.속성\n",
    "\n",
    "으로 바로 확인했습니다.\n",
    "\n",
    "하지만, VIP탑승여부 같은 것은 비공개로 하는게 보안상 바람직하겠죠?\n",
    "\n",
    "이렇게 속성을 비공개로 하는 것은 다음과 같이 선언합니다.\n",
    "\n",
    "```python\n",
    "\n",
    "__속성 # __(언더바) 두개를 붙여서 선언한다.\n",
    "```\n"
   ]
  },
  {
   "cell_type": "code",
   "execution_count": 17,
   "metadata": {},
   "outputs": [],
   "source": [
    "class 비행기:\n",
    "    def __init__(self):\n",
    "        self.연료 = 100\n",
    "        self.출발지 = \"뉴욕\"\n",
    "        self.도착지 = \"런던\"\n",
    "        self.__VIP = True\n",
    "    \n",
    "    def 비행(self):\n",
    "        print(\"비행 기능입니다.\")\n",
    "    def 착륙(self):\n",
    "        print (\"착륙 기능입니다.\")"
   ]
  },
  {
   "cell_type": "code",
   "execution_count": 18,
   "metadata": {
    "scrolled": true
   },
   "outputs": [
    {
     "ename": "AttributeError",
     "evalue": "'비행기' object has no attribute '__VIP'",
     "output_type": "error",
     "traceback": [
      "\u001b[1;31m---------------------------------------------------------------------------\u001b[0m",
      "\u001b[1;31mAttributeError\u001b[0m                            Traceback (most recent call last)",
      "\u001b[1;32m<ipython-input-18-cf1f51d2afe9>\u001b[0m in \u001b[0;36m<module>\u001b[1;34m\u001b[0m\n\u001b[0;32m      1\u001b[0m \u001b[0ma\u001b[0m \u001b[1;33m=\u001b[0m \u001b[0m비행기\u001b[0m\u001b[1;33m(\u001b[0m\u001b[1;33m)\u001b[0m\u001b[1;33m\u001b[0m\u001b[1;33m\u001b[0m\u001b[0m\n\u001b[1;32m----> 2\u001b[1;33m \u001b[0ma\u001b[0m\u001b[1;33m.\u001b[0m\u001b[0m__VIP\u001b[0m\u001b[1;33m\u001b[0m\u001b[1;33m\u001b[0m\u001b[0m\n\u001b[0m",
      "\u001b[1;31mAttributeError\u001b[0m: '비행기' object has no attribute '__VIP'"
     ]
    }
   ],
   "source": [
    "a = 비행기()\n",
    "a.__VIP"
   ]
  },
  {
   "cell_type": "markdown",
   "metadata": {},
   "source": [
    "비공개 속성은 인스턴스에서 바로 호출할 수 없습니다.\n",
    "\n",
    "확인하고 싶다면, 확인할 수 있는 메서드를 만들어야합니다.\n",
    "\n",
    "즉, 비공개 속성은 메서드를 통해 접근 가능합니다."
   ]
  },
  {
   "cell_type": "code",
   "execution_count": 23,
   "metadata": {},
   "outputs": [],
   "source": [
    "class 비행기:\n",
    "    def __init__(self):\n",
    "        self.연료 = \"연료\"\n",
    "        self.출발지 = \"출발지\"\n",
    "        self.도착지 = \"도착지\"\n",
    "        self.__VIP = True\n",
    "    \n",
    "    def 비행(self):\n",
    "        print(\"비행 기능입니다.\")\n",
    "    def 착륙(self):\n",
    "        print (\"착륙 기능입니다.\")\n",
    "    def VIP확인(self):\n",
    "        print(self.__VIP)"
   ]
  },
  {
   "cell_type": "code",
   "execution_count": 24,
   "metadata": {},
   "outputs": [
    {
     "ename": "AttributeError",
     "evalue": "'비행기' object has no attribute '__VIP'",
     "output_type": "error",
     "traceback": [
      "\u001b[1;31m---------------------------------------------------------------------------\u001b[0m",
      "\u001b[1;31mAttributeError\u001b[0m                            Traceback (most recent call last)",
      "\u001b[1;32m<ipython-input-24-cf1f51d2afe9>\u001b[0m in \u001b[0;36m<module>\u001b[1;34m\u001b[0m\n\u001b[0;32m      1\u001b[0m \u001b[0ma\u001b[0m \u001b[1;33m=\u001b[0m \u001b[0m비행기\u001b[0m\u001b[1;33m(\u001b[0m\u001b[1;33m)\u001b[0m\u001b[1;33m\u001b[0m\u001b[1;33m\u001b[0m\u001b[0m\n\u001b[1;32m----> 2\u001b[1;33m \u001b[0ma\u001b[0m\u001b[1;33m.\u001b[0m\u001b[0m__VIP\u001b[0m\u001b[1;33m\u001b[0m\u001b[1;33m\u001b[0m\u001b[0m\n\u001b[0m",
      "\u001b[1;31mAttributeError\u001b[0m: '비행기' object has no attribute '__VIP'"
     ]
    }
   ],
   "source": [
    "a = 비행기()\n",
    "a.__VIP"
   ]
  },
  {
   "cell_type": "code",
   "execution_count": 25,
   "metadata": {
    "scrolled": false
   },
   "outputs": [
    {
     "name": "stdout",
     "output_type": "stream",
     "text": [
      "True\n"
     ]
    }
   ],
   "source": [
    "a.VIP확인()"
   ]
  },
  {
   "cell_type": "markdown",
   "metadata": {},
   "source": [
    "##### 잠깐만요!!\n",
    "객체? 인스턴스?\n",
    "이들은 영어에서 home, house와 같은 어감 차이 쯤 되는 것 같습니다.\n",
    "\n",
    "```python\n",
    "a = 비행기()\n",
    "```\n",
    "\n",
    "* a은 비행기 클래스의 인스턴스라고 표현하고, a 자체는 객체라고 표현합니다.\n",
    "* 사실상 같은 말이라고 이해해도 무방합니다."
   ]
  },
  {
   "cell_type": "markdown",
   "metadata": {},
   "source": [
    "## 연습문제, 게임 캐릭터 클래스 만들기\n",
    "\n",
    "클래스를 활용하여 저격수 캐릭터의 능력치와 \"발사\"가 출력되게 만드세요.\n",
    "\n",
    "```python\n",
    "\n",
    "# 저격수 클래스의 인스턴스 생성\n",
    "x = 저격수(체력 = 100, 총알 = 10)\n",
    "print(x.체력, x.총알)\n",
    "x.발사()\n",
    "x.발사()\n",
    "```\n",
    "\n",
    "실행결과\n",
    "\n",
    "100 10<br>\n",
    "빵야!!! 남은 총알은 9개입니다.<br>\n",
    "빵야!!! 남은 총알은 8개입니다."
   ]
  },
  {
   "cell_type": "code",
   "execution_count": null,
   "metadata": {},
   "outputs": [],
   "source": [
    "# write your code here!        "
   ]
  },
  {
   "cell_type": "markdown",
   "metadata": {},
   "source": [
    "# 클래스 속성과 인스턴스 속성\n",
    "\n",
    "생성자 메서드에서 만들었던 속성은 인스턴스 속성입니다.\n",
    "\n",
    "사실 속성에는 클래스 속성이라는 것도 있습니다.\n",
    "\n",
    "클래스 속성이라는 이름에 걸맞게 클래스 내에서 공유되는 속성이죠."
   ]
  },
  {
   "cell_type": "code",
   "execution_count": 28,
   "metadata": {},
   "outputs": [],
   "source": [
    "class 연필:\n",
    "    사용자 = []\n",
    "    제조사 = \"abc연필\"\n",
    "    \n",
    "    def 연필사용(self, 이름):\n",
    "        연필.사용자.append(이름)"
   ]
  },
  {
   "cell_type": "code",
   "execution_count": 29,
   "metadata": {},
   "outputs": [
    {
     "name": "stdout",
     "output_type": "stream",
     "text": [
      "[]\n",
      "[]\n",
      "['신짱구']\n",
      "['신짱구']\n",
      "['신짱구', '김철수']\n",
      "['신짱구', '김철수']\n"
     ]
    }
   ],
   "source": [
    "짱구 = 연필()\n",
    "철수 = 연필()\n",
    "\n",
    "print(짱구.사용자)\n",
    "print(철수.사용자)\n",
    "\n",
    "짱구.연필사용(\"신짱구\")\n",
    "\n",
    "print(짱구.사용자)\n",
    "print(철수.사용자)\n",
    "\n",
    "철수.연필사용(\"김철수\")\n",
    "\n",
    "print(짱구.사용자)\n",
    "print(철수.사용자)"
   ]
  },
  {
   "cell_type": "markdown",
   "metadata": {},
   "source": [
    "연필 사용자를 기록하는 간단한 동작을 만들었습니다. 근데 앞에서 본 인스턴스 속성과 뭔가 다른 것 같죠?\n",
    "\n",
    "`짱구.연필사용`<br>\n",
    "`철수.연필사용`<br>\n",
    "이렇게 서로 다른 인스턴스에 메서드를 사용했는데,\n",
    "\n",
    "결과는 신짱구, 김철수가 기록 되어있습니다.\n",
    "\n",
    "즉, 클래스 속성은 모든 인스턴스가 공유하는 속성입니다."
   ]
  },
  {
   "cell_type": "code",
   "execution_count": 30,
   "metadata": {
    "scrolled": false
   },
   "outputs": [
    {
     "name": "stdout",
     "output_type": "stream",
     "text": [
      "abc연필\n",
      "abc연필\n",
      "모나미\n",
      "모나미\n",
      "모닝글로리\n",
      "모닝글로리\n"
     ]
    }
   ],
   "source": [
    "print(짱구.제조사)\n",
    "print(철수.제조사)\n",
    "\n",
    "연필.제조사 = \"모나미\"\n",
    "\n",
    "print(짱구.제조사)\n",
    "print(철수.제조사)\n",
    "\n",
    "연필.제조사 = '모닝글로리'\n",
    "\n",
    "print(짱구.제조사)\n",
    "print(철수.제조사)"
   ]
  },
  {
   "cell_type": "markdown",
   "metadata": {},
   "source": [
    "### 비공개 클래스 속성\n",
    "\n",
    "앞서 비공개 인스턴스 속성을 알아보았습니다.\n",
    "비공개 클래스 속성도 같습니다.\n",
    "\n",
    "만드는 방법 역시 위치만 다를 뿐 동일합니다.\n",
    "\n",
    "```python\n",
    "\n",
    "class 클래스명:\n",
    "    __속성 = 데이터 # 비공개 클래스 속성\n",
    "    ```\n",
    "    \n",
    "비공개 클래스는 어떤 경우 사용할 수 있을까요?\n",
    "\n",
    "클래스에서 공개하고 싶지 않은 속성이겠죠. 즉, 인스턴스에서는 건들일 수 없는 속성입니다.\n",
    "\n",
    "예를 들어 저격수는 총을 최대 2개까지만 보유할 수 있다고 합시다. 저격수 플레이어가 마음대로 보유한도를 늘릴 수 없게 만들어야 합니다."
   ]
  },
  {
   "cell_type": "code",
   "execution_count": null,
   "metadata": {},
   "outputs": [],
   "source": [
    "class 저격수():\n",
    "    __최대무기 = 2 # 비공개 클래스 속성\n",
    "    \n",
    "    def __init__(self, 체력, 총알):\n",
    "        self.체력 = 체력\n",
    "        self.총알 = 총알\n",
    "        \n",
    "    def 발사(self):\n",
    "        self.총알 -= 1\n",
    "        print(f\"빵야!!! 남은 총알은 {self.총알}개 입니다.\")\n",
    "        \n",
    "    def 최대무기(self):\n",
    "        print(\"보유 가능한 총의 갯수\",저격수.__최대무기)"
   ]
  },
  {
   "cell_type": "code",
   "execution_count": null,
   "metadata": {},
   "outputs": [],
   "source": [
    "x = 저격수(100, 10)"
   ]
  },
  {
   "cell_type": "code",
   "execution_count": null,
   "metadata": {},
   "outputs": [],
   "source": [
    "저격수.__최대무기"
   ]
  },
  {
   "cell_type": "code",
   "execution_count": null,
   "metadata": {
    "scrolled": true
   },
   "outputs": [],
   "source": [
    "x.__최대무기"
   ]
  },
  {
   "cell_type": "markdown",
   "metadata": {},
   "source": [
    "이렇게, 인스턴스나 클래스 바깥에서는 비공개 클래스 속성에 접근할 수 없습니다.\n",
    "\n",
    "오로지 클래스 안에서만 접근이 가능합니다."
   ]
  },
  {
   "cell_type": "code",
   "execution_count": null,
   "metadata": {},
   "outputs": [],
   "source": [
    "x.최대무기()"
   ]
  },
  {
   "cell_type": "markdown",
   "metadata": {},
   "source": [
    "# 정적 메서드, 클래스 메서드\n",
    "\n",
    "우리는 지금까지 항상 메서드를 만들때 self라는 인자를 필수적으로 포함시켰습니다. 하지만 이 인자가 없고, 인스턴스 없이도 클래스에서 바로 호출할 수 있는 정적 메서드와 클래스 메서드를 알아봅시다."
   ]
  },
  {
   "cell_type": "markdown",
   "metadata": {},
   "source": [
    "### 정적 메서드\n",
    "\n",
    "```python\n",
    "\n",
    "class 클래스명:\n",
    "    @staticmethod # 데코레이터\n",
    "    def 메서드명:\n",
    "        코드\n",
    "```\n",
    "\n",
    "`@staticmethod` 이 부분은 `데코레이터`라고 부릅니다.\n",
    "\n",
    "말 그대로 꾸며주는 역할을 하는 녀석인데, 우선은 그냥 정적메서드를 만들때 붙여주는 것이구나라는 정도로 넘어가겠습니다."
   ]
  },
  {
   "cell_type": "code",
   "execution_count": 35,
   "metadata": {},
   "outputs": [],
   "source": [
    "class Test():\n",
    "    @staticmethod\n",
    "    def a():\n",
    "        print(\"정적 메서드입니다.\")\n",
    "    \n",
    "    def b():\n",
    "        print(\"인스턴스 메서드입니다.\")"
   ]
  },
  {
   "cell_type": "code",
   "execution_count": 32,
   "metadata": {},
   "outputs": [
    {
     "name": "stdout",
     "output_type": "stream",
     "text": [
      "정적 메서드입니다.\n"
     ]
    }
   ],
   "source": [
    "Test.a()"
   ]
  },
  {
   "cell_type": "code",
   "execution_count": 36,
   "metadata": {},
   "outputs": [
    {
     "name": "stdout",
     "output_type": "stream",
     "text": [
      "인스턴스 메서드입니다.\n"
     ]
    }
   ],
   "source": [
    "# 인스턴스 메서드는 인스턴스를 통해서만 접근이 가능합니다.\n",
    "Test.b()"
   ]
  },
  {
   "cell_type": "markdown",
   "metadata": {},
   "source": [
    "##### 잠깐만요!!!\n",
    "\n",
    "정적메서드는 언제 사용하나요?\n",
    "정적메서드는 인스턴스에 영향을 끼치지 않습니다. 그냥 단순히 '함수'를 만든다고 표현해도 큰 무리가 아니겠네요.\n",
    "\n",
    "즉, 어느 인스턴스에서 사용하든 입력값만 같다면 항상 같은 결과값을 리턴해야하는 경우 정적 메서드를 사용합니다."
   ]
  },
  {
   "cell_type": "code",
   "execution_count": null,
   "metadata": {},
   "outputs": [],
   "source": [
    "class 계산기():\n",
    "    @staticmethod\n",
    "    def 더하기(a, b):\n",
    "        return a + b\n",
    "    \n",
    "    @staticmethod\n",
    "    def 빼기(a, b):\n",
    "        return a - b\n",
    "    \n",
    "    @staticmethod\n",
    "    def 곱하기(a, b):\n",
    "        return a * b\n",
    "    \n",
    "    @staticmethod\n",
    "    def 나누기(a, b):\n",
    "        return a / b"
   ]
  },
  {
   "cell_type": "code",
   "execution_count": null,
   "metadata": {},
   "outputs": [],
   "source": [
    "계산기.더하기(1, 1)\n",
    "계산기.곱하기(10, 10)"
   ]
  },
  {
   "cell_type": "markdown",
   "metadata": {},
   "source": [
    "### 클래스 메서드\n",
    "\n",
    "```python\n",
    "\n",
    "class 클래스명:\n",
    "    @classmethod    # 클래스메서드 데코레이터\n",
    "    def 메서드명(cls):\n",
    "        코드\n",
    "```\n",
    "\n",
    "클래스 메서드를 사용해서, 보잉_147 항공기 클래스가 몇개의 인스턴스를 가졌는지 만들어봅시다."
   ]
  },
  {
   "cell_type": "code",
   "execution_count": 1,
   "metadata": {},
   "outputs": [],
   "source": [
    "class 보잉_147:\n",
    "    count = 0\n",
    "    \n",
    "    def __init__(self):\n",
    "        보잉_147.count += 1\n",
    "        \n",
    "    @classmethod\n",
    "    def print_count(cls):\n",
    "        print(f\"{cls.count}대 생산되었습니다.\")"
   ]
  },
  {
   "cell_type": "code",
   "execution_count": 2,
   "metadata": {},
   "outputs": [
    {
     "name": "stdout",
     "output_type": "stream",
     "text": [
      "3대 생산되었습니다.\n",
      "5대 생산되었습니다.\n"
     ]
    }
   ],
   "source": [
    "p1 = 보잉_147()\n",
    "p2 = 보잉_147()\n",
    "p3 = 보잉_147()\n",
    "\n",
    "보잉_147.print_count()\n",
    "\n",
    "p4 = 보잉_147()\n",
    "p5 = 보잉_147()\n",
    "\n",
    "보잉_147.print_count()"
   ]
  },
  {
   "cell_type": "markdown",
   "metadata": {},
   "source": [
    "```python\n",
    "\n",
    "@classmethod\n",
    "    def print_count(cls):\n",
    "        print(f\"{cls.count}대 생산되었습니다.\")\n",
    "        \n",
    "보잉_147.print_count()\n",
    "```\n",
    "\n",
    "인스턴스 메서드에서는 self로 인스턴스를 전달하듯,\n",
    "\n",
    "클래스 메서드에서는 cls로 클래스를 전달합니다."
   ]
  },
  {
   "cell_type": "markdown",
   "metadata": {},
   "source": [
    "정적 메서드와 클래스 메서드는 모두 인스터스 없이 호출 가능하다는 점은 동일합니다. 하지만 클래스 메서드는 메서드 안에서 클래스 속성, 클래스 메서드에 접근할 때 사용합니다."
   ]
  },
  {
   "cell_type": "markdown",
   "metadata": {},
   "source": [
    "# 연습문제\n",
    "표준 입력으로 시:분:초 형식의 시간이 입력됩니다. 다음 소스 코드에서 Time 클래스를 완성하여 시, 분, 초가 출력되게 만드세요.\n",
    "\n",
    "`from_string은 문자열로 인스턴스를 만드는 메서드이며 (클래스 메서드)`,\n",
    "\n",
    "`is_time_valid는 문자열이 올바른 시간인지 검사하는 메서드 (정적 메서드)`입니다.\n",
    "\n",
    "시간은 24시까지, 분은 59분까지, 초는 60초까지 있어야 합니다.\n",
    "\n",
    "\n",
    "```python\n",
    "\n",
    "class Time:\n",
    "    def __init__(self, hour, minute, second):\n",
    "        self.hour = hour\n",
    "        self.minute = minute\n",
    "        self.second = second\n",
    "        \n",
    "        \n",
    "        \n",
    "time_string = input()\n",
    " \n",
    "if Time.is_time_valid(time_string):\n",
    "    t = Time.from_string(time_string)\n",
    "    print(t.hour, t.minute, t.second)\n",
    "else:\n",
    "    print('잘못된 시간 형식입니다.')     \n",
    "    \n",
    "```\n",
    "입력\n",
    "23:35:59\n",
    "결과\n",
    "23 35 59"
   ]
  },
  {
   "cell_type": "code",
   "execution_count": null,
   "metadata": {},
   "outputs": [],
   "source": [
    "# write your code here!!\n",
    "\n",
    "class Time:\n",
    "    def __init__(self, hour, minute, second):\n",
    "        self.hour = hour\n",
    "        self.minute = minute\n",
    "        self.second = second"
   ]
  },
  {
   "cell_type": "code",
   "execution_count": null,
   "metadata": {},
   "outputs": [],
   "source": [
    "time_string = input()\n",
    "\n",
    "if Time.is_time_valid(time_string):\n",
    "    t = Time.from_string(time_string)\n",
    "    print(t.hour, t.minute, t.second)\n",
    "else:\n",
    "    print('잘못된 시간 형식입니다.')"
   ]
  },
  {
   "cell_type": "markdown",
   "metadata": {},
   "source": [
    "## 진도 확인"
   ]
  },
  {
   "cell_type": "markdown",
   "metadata": {},
   "source": [
    "# 클래스의 상속 (Is-a)\n",
    "\n",
    "지금까지 우리는 클래스의 기본적인 멤버를 배워보았습니다.\n",
    "\n",
    "`인스턴스 속성, 인스턴스 메서드, 클래스 속성, 클래스 메서드, 정적 메서드`가 이에 해당하죠.\n",
    "\n",
    "이번에는 클래스 상속(inheritance)를 배워봅시다.\n",
    "\n",
    "상속은 물려받는다는 뜻이죠? 상속을 받은 클래스는 물려받은 기능을 그대로 유지하고, 다른 기능을 추가할 때 사용됩니다.\n",
    "\n",
    "여기서 기능을 물려주는 클래스를 `부모 클래스` 또는 `기반 클래스`, `슈퍼 클래스`라고 부릅니다. 반대로 기능을 물려 받는 클래스를 `자식 클래스` 또는 `파생 클래스`, `서브 클래스`라고 부릅니다.\n",
    "\n",
    "\n",
    "```python\n",
    "\n",
    "class 부모():\n",
    "    def 부모메서드(self):\n",
    "        print(\"부모 메서드입니다.\")\n",
    "        \n",
    "class 자식(부모):  # 클래스 생성을 할 때 괄호 안에 들어가는 인자는 상속하는 클래스\n",
    "    pass\n",
    "```"
   ]
  },
  {
   "cell_type": "markdown",
   "metadata": {},
   "source": [
    "# 비행기를 상속하는 전투기\n",
    "\n",
    "전투기도 비행기가 맞긴 하지만, 좀 다른 비행기라는 생각이 듭니다.\n",
    "\n",
    "전투기는 위에서 우리가 정의한 비행기의 속성과 메서드를 모두 가지고 있지만, 일반적인 비행기와 다르게 공격할 수 있는 기능이 있습니다."
   ]
  },
  {
   "cell_type": "code",
   "execution_count": 3,
   "metadata": {},
   "outputs": [],
   "source": [
    "class 비행기:\n",
    "    def __init__(self):\n",
    "        self.연료 = \"연료\"\n",
    "        self.출발지 = \"출발지\"\n",
    "        self.도착지 = \"도착지\"\n",
    "    \n",
    "    def 비행(self):\n",
    "        print(\"비행 기능입니다.\")\n",
    "    def 착륙(self):\n",
    "        print (\"착륙 기능입니다.\")"
   ]
  },
  {
   "cell_type": "code",
   "execution_count": 4,
   "metadata": {},
   "outputs": [],
   "source": [
    "class 전투기(비행기):\n",
    "    pass # pass 는 아무것도 하지 않고 그냥 패스하는 코드임"
   ]
  },
  {
   "cell_type": "code",
   "execution_count": 5,
   "metadata": {},
   "outputs": [
    {
     "name": "stdout",
     "output_type": "stream",
     "text": [
      "연료\n",
      "비행 기능입니다.\n"
     ]
    }
   ],
   "source": [
    "x = 전투기()\n",
    "\n",
    "print(x.연료)\n",
    "x.비행()"
   ]
  },
  {
   "cell_type": "markdown",
   "metadata": {},
   "source": [
    "이렇게 전투기 클래스에는 아무것도 추가하지 않았지만, 전투기를 상속하는 비행기 클래스의 모든 기능을 사용할 수 있습니다.\n",
    "\n",
    "이번엔, 전투기만의 특징인 미사일발사 메서드를 추가해봅시다."
   ]
  },
  {
   "cell_type": "code",
   "execution_count": null,
   "metadata": {},
   "outputs": [],
   "source": [
    "class 전투기(비행기):\n",
    "    def 미사일발사(self):\n",
    "        print(\"미사일 발사!!\")"
   ]
  },
  {
   "cell_type": "markdown",
   "metadata": {},
   "source": [
    "비행기와 전투기의 인스턴스를 각각 생성하고 미사일발사 메서드를 사용해 봅니다."
   ]
  },
  {
   "cell_type": "markdown",
   "metadata": {},
   "source": [
    "##### 잠깐만요!!!\n",
    "\n",
    "`1. isinstance(인스턴스, 클래스)`\n",
    "\n",
    "위에 있는 isinstance 함수는 어떠한 객체가 클래스의 인스턴스인지 검사하는 함수입니다. 맞다면 True를 반환합니다.\n",
    "\n",
    "`2. issubclass(자식 클래스, 부모 클래스)`\n",
    "\n",
    "위에 있는 issubclass 함수느 상속관계를 검사하는 함수입니다.\n",
    "첫번째 인자가 두번째 인자를 상속한다면 True를 반환합니다."
   ]
  },
  {
   "cell_type": "markdown",
   "metadata": {},
   "source": [
    "# 클래스의 합성 (Has-a)\n",
    "\n",
    "클래스 합성은, 다른 클래스의 인스턴스를 속성으로 갖게 하는 것입니다.\n",
    "\n",
    "예컨데, 다음과 같은 문장을 표현해봅시다.\n",
    "\n",
    "`\"경찰이 총을 가지고 있다.\"`"
   ]
  },
  {
   "cell_type": "markdown",
   "metadata": {},
   "source": [
    "```python\n",
    "class 총():\n",
    "    pass\n",
    "\n",
    "class 경찰():\n",
    "    pass\n",
    "```\n",
    "\n",
    "이럴 경우 경찰이 총을 상속하는게 뭔가 어색합니다.\n",
    "\n",
    "경칠이 총의 기능을 물려받는다? 뭔가 이상하죠?\n",
    "\n",
    "이런 경우 합성을 사용합니다."
   ]
  },
  {
   "cell_type": "code",
   "execution_count": 42,
   "metadata": {},
   "outputs": [],
   "source": [
    "class 총():\n",
    "    def __init__(self, gun):\n",
    "        self.gun = gun\n",
    "    \n",
    "    def 발사(self):\n",
    "        print(\"빵야!\")\n",
    "        \n",
    "class 경찰():\n",
    "    def __init__(self, gun=None):\n",
    "        if gun:\n",
    "            self.gun = 총(gun) # 총 클래스의 인스턴스를 경찰 클래스의 속성으로 사용\n",
    "        else:\n",
    "            self.gun = gun\n",
    "    \n",
    "            \n",
    "    def 총쏘기(self):\n",
    "        if self.gun:\n",
    "            self.gun.발사() # 이는 총 클래스에 발사 메서드가 호출 되는 것과 동일\n",
    "        else:\n",
    "            print(\"총이 없습니다.\")"
   ]
  },
  {
   "cell_type": "code",
   "execution_count": 43,
   "metadata": {},
   "outputs": [
    {
     "name": "stdout",
     "output_type": "stream",
     "text": [
      "총이 없습니다.\n",
      "빵야!\n"
     ]
    }
   ],
   "source": [
    "no_gun_police = 경찰()\n",
    "gun_police = 경찰(True)\n",
    "\n",
    "no_gun_police.총쏘기()\n",
    "gun_police.총쏘기()"
   ]
  },
  {
   "cell_type": "markdown",
   "metadata": {},
   "source": [
    "# 상속(Is- a) vs 합성(Has - a)\n",
    "\n",
    "상속은 같은 종류에 동등한 관계일 때 사용합니다.\n",
    "\n",
    "비행기 - 전투기 관계처럼 말이죠. 전투기는 비행기의 한 종류입니다. 그래서 (Is- a)관계가 성립하죠.\n",
    "\n",
    "그 외에\n",
    "\n",
    "\"경찰이 총을 가지고 있다.\" 관계 같은 경우엔 속성에 다른 클래스의 인스턴스를 넣는 방식을 사용하면 됩니다. (Has-a)"
   ]
  },
  {
   "cell_type": "markdown",
   "metadata": {},
   "source": [
    "##### 상속과 합성.. 무엇을 사용할까?\n",
    "\n",
    "상속의 효용을 합성으로도 똑같이 가져올 수 있다는 것을 알았습니다. 즉, 코드의 재사용 문제를 둘다 해결하죠.\n",
    "상속은 부모 클래스의 기능을 묵시적으로 쓸 수 있는 체계를 제공해 이 문제를 해결합니다.\n",
    "합성은 다른 클래스의 함수를 호출할 수 있는 기능으로 해결합니다.\n",
    "\n",
    "1. `다중 상속은 최대한 피해야합니다.` 이런 상황에서는 코드에서 클래스의 구조도를 잘 살피고 서로 어떤 연관이 있는지 꼼꼼히 파악해야합니다.\n",
    "2. 코드가 서로 관련없는 위치나 상황에서 쓰이는 경우에는 합성을 이용합니다.\n",
    "3. 상속은 하나의 공통 개념에 들어맞으면서 명확하게 연관된 재사용 가능한 코드가 있거나, 다른 코드 때문에 꼭 써야할 때만 사용하세요.\n",
    "\n",
    "단, 이 규칙에 얽메이진 마세요"
   ]
  },
  {
   "cell_type": "markdown",
   "metadata": {},
   "source": [
    "# 메서드 오버라이딩 (method overriding)\n",
    "\n",
    "오버라이딩은 한마디로 `'덮어쓰기'`입니다.\n",
    "\n",
    "부모 클래스의 메서드를 자식 클래스의 메서드가 덮어쓰기를 해버리는 것이죠.\n",
    "\n",
    "이런 예시를 들어볼게요.\n",
    "\n",
    "전투기도 같은 비행 기능이지만, \"초고속 비행 가능입니다.\"라고 표현하고 싶습니다.\n",
    "\n",
    "즉, 같은 비행 메서드를 호출하더라도, `비행기 클래스에서는 \"비행 가능입니다.\"`\n",
    "\n",
    "`전투기 클래스에서는 \"초고속 비행 가능입니다.\"라고 출력하고 싶은 경우 오버라이딩을 사용합니다.`"
   ]
  },
  {
   "cell_type": "code",
   "execution_count": null,
   "metadata": {},
   "outputs": [],
   "source": [
    "class 비행기:\n",
    "    def __init__(self):\n",
    "        self.연료 = \"연료\"\n",
    "        self.출발지 = \"출발지\"\n",
    "        self.도착지 = \"도착지\"\n",
    "    \n",
    "    def 비행(self):\n",
    "        print(\"비행 기능입니다.\")\n",
    "    def 착륙(self):\n",
    "        print (\"착륙 기능입니다.\")"
   ]
  },
  {
   "cell_type": "code",
   "execution_count": null,
   "metadata": {},
   "outputs": [],
   "source": [
    "class 전투기(비행기):\n",
    "    def 비행(self): # 부모 클래스와 같은 이름의 메서드를 정의함으로써 오버라이딩 할 수 있습니다.\n",
    "        print(\"초고속 비행 가능입니다.\")\n",
    "        \n",
    "    def 미사일발사(self):\n",
    "        print(\"미사일 발사!!\")"
   ]
  },
  {
   "cell_type": "code",
   "execution_count": null,
   "metadata": {},
   "outputs": [],
   "source": [
    "비행기 = 비행기()\n",
    "전투기 = 전투기()\n",
    "\n",
    "비행기.비행()\n",
    "전투기.비행()"
   ]
  },
  {
   "cell_type": "markdown",
   "metadata": {},
   "source": [
    "# 부모 클래스의 메서드와 속성 사용하기, super()\n",
    "\n",
    "앞서 배운 오버라이딩은 원래 기능을 유지하면서 새로운 기능을 덧붙일 때 사용합니다.\n",
    "\n",
    "super()를 사용하면 오버라이딩 된 메서드라도 다시 부모 클래스의 메서드 기능을 호출할 수 있습니다.\n",
    "\n",
    "```python\n",
    "\n",
    "super().메서드()\n",
    "\n",
    "```"
   ]
  },
  {
   "cell_type": "code",
   "execution_count": null,
   "metadata": {},
   "outputs": [],
   "source": [
    "class 비행기(object):\n",
    "    def __init__(self):\n",
    "        self.연료 = 100\n",
    "        self.출발지 = \"출발지\"\n",
    "        self.도착지 = \"도착지\"\n",
    "    \n",
    "    def 비행(self):\n",
    "        print(\"비행 기능입니다.\")\n",
    "    def 착륙(self):\n",
    "        print (\"착륙 기능입니다.\")"
   ]
  },
  {
   "cell_type": "code",
   "execution_count": null,
   "metadata": {},
   "outputs": [],
   "source": [
    "class 전투기(비행기):\n",
    "    #오버라이딩\n",
    "    def 비행(self):\n",
    "        print(\"초고속 비행 가능입니다.\")\n",
    "        super().비행() # 비행기 클래스의 비행 메서드를 호출\n",
    "        \n",
    "    def 미사일발사(self):\n",
    "        print(\"미사일 발사!!\")"
   ]
  },
  {
   "cell_type": "code",
   "execution_count": null,
   "metadata": {
    "scrolled": true
   },
   "outputs": [],
   "source": [
    "비행기 = A()\n",
    "전투기 = B()\n",
    "\n",
    "비행기.비행()\n",
    "전투기.비행()"
   ]
  },
  {
   "cell_type": "markdown",
   "metadata": {},
   "source": [
    "### 직접 해보기 !!\n",
    "\n",
    "전투기 클래스의 생성자에 미사일 갯수 속성을 추가해봅시다.\n",
    "전투기가 미사일을 발사할 때마다 갯수가 하나씩 줄어들고, 연료가 1만큼 줄어드는 기능을 구현해봅니다."
   ]
  },
  {
   "cell_type": "code",
   "execution_count": null,
   "metadata": {},
   "outputs": [],
   "source": [
    "# write your code here !!"
   ]
  },
  {
   "cell_type": "markdown",
   "metadata": {},
   "source": [
    "##### 잠깐만요!!\n",
    "\n",
    "1. super에 들어가는 인자에 대해서 대해 좀 더 자세히 알아보죠.\n",
    "\n",
    "```python\n",
    "# 사실 이런 구조이지만, 파이썬3부터는 super().메서드()로 대체가능\n",
    "super(자식클래스, self).메서드()\n",
    "```\n",
    "\n",
    "super() 형식으로 만들면, 혹시라도 클래스명이 변경될 경우에도 super의 인자를 수정하지 않아도 되는 이점이 있습니다.\n",
    "\n",
    "2. ```__init__```에서 super()쓰기\n",
    "\n",
    "super()는 기본 클래스에 있는 ```__init__``` 함수에서 가장 흔하게 쓰입니다. 흔히 자식에서 다른 동작이 필요한 유일한 부분이 ```__init__``` 입니다.\n",
    "\n",
    "자식만의 다른 동작을 마친 다음의 부모마저도 초기화 합니다."
   ]
  },
  {
   "cell_type": "markdown",
   "metadata": {},
   "source": [
    "# 다중상속과 다이아몬드 문제에서 super()의 효용"
   ]
  },
  {
   "cell_type": "markdown",
   "metadata": {},
   "source": [
    "## 다중상속"
   ]
  },
  {
   "cell_type": "markdown",
   "metadata": {},
   "source": [
    "이런 경우를 생각해보죠.\n",
    "\n",
    "\"하늘을 나는 자동차\" 이하 \"하늘차\"라고 하겠습니다.\n",
    "\n",
    "하늘차는 비행기(Is-a)이면서도 자동차(Is-a)입니다.\n",
    "\n",
    "이런 경우를 다중상속이라고 합니다.\n",
    "\n",
    "```python\n",
    "\n",
    "class 비행기:\n",
    "    pass\n",
    "\n",
    "class 자동차:\n",
    "    pass\n",
    "\n",
    "class 하늘차(비행기, 자동차):\n",
    "    pass\n",
    "```\n",
    "\n",
    "이렇게 자식 클래스의 괄호안에 ,(콤마)를 기준으로 여러개의 부모 클래스를 상속할 수 있습니다."
   ]
  },
  {
   "cell_type": "code",
   "execution_count": null,
   "metadata": {},
   "outputs": [],
   "source": [
    "class 비행기:\n",
    "    def fly(self):\n",
    "        print(\"비행 기능입니다.\")\n",
    "\n",
    "class 자동차:\n",
    "    def drive(self):\n",
    "        print(\"주행 기능입니다.\")\n",
    "\n",
    "class 하늘차(비행기, 자동차):\n",
    "    pass"
   ]
  },
  {
   "cell_type": "code",
   "execution_count": null,
   "metadata": {},
   "outputs": [],
   "source": [
    "x = 하늘차()\n",
    "\n",
    "x.fly()\n",
    "x.drive()"
   ]
  },
  {
   "cell_type": "markdown",
   "metadata": {},
   "source": [
    "## 다이아몬드 상속\n",
    "\n",
    "<img src=\"https://upload.wikimedia.org/wikipedia/commons/thumb/8/8e/Diamond_inheritance.svg/150px-Diamond_inheritance.svg.png\">\n",
    "\n",
    "D는 B, C를 상속 받고, B,C는 A를 상속 받는다."
   ]
  },
  {
   "cell_type": "markdown",
   "metadata": {},
   "source": [
    "아래의 결과를 예상해봅시다."
   ]
  },
  {
   "cell_type": "code",
   "execution_count": null,
   "metadata": {},
   "outputs": [],
   "source": [
    "class A:\n",
    "    def __init__(self):\n",
    "        print(\"Class A\")\n",
    "        \n",
    "class B(A):\n",
    "    def __init__(self):\n",
    "        print(\"Class B\")\n",
    "        A.__init__(self)\n",
    "        \n",
    "class C(A):\n",
    "    def __init__(self):\n",
    "        print(\"Class C\")\n",
    "        A.__init__(self)\n",
    "        \n",
    "class D(B,C):\n",
    "    def __init__(self):\n",
    "        print(\"Class D\")\n",
    "        B.__init__(self)\n",
    "        C.__init__(self)\n",
    "        \n",
    "d = D()        "
   ]
  },
  {
   "cell_type": "markdown",
   "metadata": {},
   "source": [
    "부모 클래스의 생성자가 두번 호출 된다. 비효율적이다.\n",
    "이때, super() 함수가 효용이 있다."
   ]
  },
  {
   "cell_type": "code",
   "execution_count": null,
   "metadata": {},
   "outputs": [],
   "source": [
    "class A:\n",
    "    def __init__(self):\n",
    "        print(\"Class A\")\n",
    "        \n",
    "class B(A):\n",
    "    def __init__(self):\n",
    "        print(\"Class B\")\n",
    "        super().__init__()\n",
    "        \n",
    "class C(A):\n",
    "    def __init__(self):\n",
    "        print(\"Class C\")\n",
    "        super().__init__()\n",
    "        \n",
    "class D(B,C):\n",
    "    def __init__(self):\n",
    "        print(\"Class D\")\n",
    "        super().__init__()\n",
    "        \n",
    "d = D()        "
   ]
  },
  {
   "cell_type": "markdown",
   "metadata": {},
   "source": [
    "### super() 함수의 효용과 MRO\n",
    "\n",
    "`super()`를 사용하면 최상단 부모 클래스는 한번 호출됩니다.\n",
    "\n",
    "즉, 사용자입장에서 전체 상속구조를 이해하지 못했어도, 불필요한 반복을 줄이고 상속을 사용할 수 있습니다.\n",
    "\n",
    "`super()` 함수는 슈퍼클래스의 메서드를 호출하라는 의미인데, 다중 상속의 경우, 슈퍼클래스 호출 순서 결정은 `MRO`를 통해 결정됩니다.\n",
    "\n",
    "## 메서드 탐색 순서, Method Resolution Order, MRO\n",
    "\n",
    "```python\n",
    "\n",
    "클래스.mro\n",
    "```"
   ]
  },
  {
   "cell_type": "code",
   "execution_count": null,
   "metadata": {},
   "outputs": [],
   "source": [
    "class A:\n",
    "    def __init__(self):\n",
    "        print(\"Class A\")\n",
    "        \n",
    "class B(A):\n",
    "    def __init__(self):\n",
    "        print(\"Class B\")\n",
    "        super().__init__()\n",
    "        \n",
    "class C(A):\n",
    "    def __init__(self):\n",
    "        print(\"Class C\")\n",
    "        super().__init__()\n",
    "        \n",
    "class D(B,C):\n",
    "    def __init__(self):\n",
    "        print(\"Class D\")\n",
    "        super().__init__()"
   ]
  },
  {
   "cell_type": "code",
   "execution_count": null,
   "metadata": {},
   "outputs": [],
   "source": [
    "D.mro()"
   ]
  },
  {
   "cell_type": "markdown",
   "metadata": {},
   "source": [
    "# 추상 클래스\n",
    "\n",
    "추상클래스는 메서드의 목록만 가진 클래스입니다. 상속 받는 클래스에서는 추상클래스에 있는 메서드를 구현해야만 합니다.\n",
    "\n",
    "즉, 추상클래스는 상속받을 클래스들의 인터페이스, 가이드라인의 개념이라고 할 수 있습니다.\n",
    "\n",
    "```python\n",
    "\n",
    "from abc import *\n",
    "\n",
    "class 추상클래스명(metaclass = ABCMeta):\n",
    "    @abstractmethod\n",
    "    def 메서드명(self):\n",
    "        코드\n",
    "        \n",
    "# 또는        \n",
    "        \n",
    "import abc\n",
    "\n",
    "class 추상클래스명(metaclass = abc.ABCMeta):\n",
    "    @abc.abstractmethod\n",
    "    def 메서드명(self):\n",
    "        코드   \n",
    "        \n",
    "```"
   ]
  },
  {
   "cell_type": "code",
   "execution_count": null,
   "metadata": {},
   "outputs": [],
   "source": [
    "from abc import *\n",
    "\n",
    "class 학생_추상클래스(metaclass = ABCMeta):\n",
    "    @abstractmethod\n",
    "    def 공부(self):\n",
    "        pass\n",
    "    \n",
    "    @abstractmethod\n",
    "    def 학교(self):\n",
    "        pass"
   ]
  },
  {
   "cell_type": "markdown",
   "metadata": {},
   "source": [
    "#### 추상클래스를 상속받는 클래스는 모든 메서드를 오버라이딩 해야한다."
   ]
  },
  {
   "cell_type": "code",
   "execution_count": null,
   "metadata": {},
   "outputs": [],
   "source": [
    "class 학생(학생_추상클래스):\n",
    "    def 공부(self):\n",
    "        print(\"열심히 공부를 합니다.\")"
   ]
  },
  {
   "cell_type": "code",
   "execution_count": null,
   "metadata": {},
   "outputs": [],
   "source": [
    "철수 = 학생()\n",
    "철수.공부()"
   ]
  },
  {
   "cell_type": "code",
   "execution_count": null,
   "metadata": {},
   "outputs": [],
   "source": [
    "class 학생(학생_추상클래스):\n",
    "    def 공부(self):\n",
    "        print(\"열심히 공부를 합니다.\")\n",
    "    \n",
    "    def 학교(self):\n",
    "        print(\"매일 아침 학교에 갑니다.\")"
   ]
  },
  {
   "cell_type": "code",
   "execution_count": null,
   "metadata": {
    "scrolled": true
   },
   "outputs": [],
   "source": [
    "철수 = 학생()\n",
    "철수.공부()\n",
    "철수.학교()"
   ]
  },
  {
   "cell_type": "markdown",
   "metadata": {},
   "source": [
    "##### 추상 클래스는 인스턴스화 할 수 없다."
   ]
  },
  {
   "cell_type": "code",
   "execution_count": null,
   "metadata": {
    "scrolled": true
   },
   "outputs": [],
   "source": [
    "철수 = 학생_추상클래스()"
   ]
  },
  {
   "cell_type": "markdown",
   "metadata": {},
   "source": [
    "추상 클래스는 오로지 상속에만 사용한다. 그리고 파생 클래스에서 반드시 구현해야만 하는 메서드를 정할 때 사용한다."
   ]
  }
 ],
 "metadata": {
  "kernelspec": {
   "display_name": "Python 3",
   "language": "python",
   "name": "python3"
  },
  "language_info": {
   "codemirror_mode": {
    "name": "ipython",
    "version": 3
   },
   "file_extension": ".py",
   "mimetype": "text/x-python",
   "name": "python",
   "nbconvert_exporter": "python",
   "pygments_lexer": "ipython3",
   "version": "3.7.4"
  }
 },
 "nbformat": 4,
 "nbformat_minor": 2
}
