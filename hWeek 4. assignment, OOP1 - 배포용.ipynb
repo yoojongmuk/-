{
 "cells": [
  {
   "cell_type": "markdown",
   "metadata": {},
   "source": [
    "<img src = \"https://apply.softsquared.com/custom/img/logo.png\">\n",
    "\n",
    "## 4주차 과제입니다.\n",
    "\n",
    "우리는 객체지향 프로그래밍과 클래스와 객체에 대해서 배워보았습니다.\n",
    "\n",
    "이에 대한 과제를 제공해 드립니다.\n",
    "\n",
    "과제를 하시는 동안 정보검색은 적극 권장됩니다."
   ]
  },
  {
   "cell_type": "markdown",
   "metadata": {},
   "source": [
    "# Q1.\n",
    "\n",
    "다음의 조건에 맞는 코드를 완성하세요.\n",
    "\n",
    "1. 클래스명: `User`\n",
    "2. 인스턴스 속성: `name, phone_number, age`\n",
    "3. 인스턴스 메서드명: `basic_info`\n",
    "\n",
    "```python\n",
    "\n",
    "# 실행 예시\n",
    "\n",
    "김계란 = User()\n",
    "김계란.basic_info()\n",
    "    \n",
    "    이름을 입력하세요: 김계란\n",
    "    휴대폰 번호를 입력하세요: 010-1234-1234\n",
    "    나이를 입력하세요: 3\n",
    "    \n",
    "    이름: 김계란\n",
    "    연락처: 010-1234-1234\n",
    "    나이: 3세\n",
    "```"
   ]
  },
  {
   "cell_type": "code",
   "execution_count": 1,
   "metadata": {},
   "outputs": [],
   "source": [
    "class User():\n",
    "    def __init__(self):\n",
    "        self.name = input(\"이름을 입력하세요: \")\n",
    "        self.phone_number = input(\"휴대폰 번호를 입력하세요: \")\n",
    "        self.age = input(\"나이를 입력하세요: \")\n",
    "    def basic_info(self):\n",
    "        print(f\"\"\"\n",
    "        이름: {self.name}\n",
    "        연락처: {self.phone_number}\n",
    "        나이: {self.age}\n",
    "        \"\"\")"
   ]
  },
  {
   "cell_type": "code",
   "execution_count": null,
   "metadata": {
    "scrolled": true
   },
   "outputs": [],
   "source": [
    "김계란 = User()"
   ]
  },
  {
   "cell_type": "code",
   "execution_count": null,
   "metadata": {},
   "outputs": [],
   "source": [
    "김계란.basic_info()"
   ]
  },
  {
   "cell_type": "markdown",
   "metadata": {},
   "source": [
    "# Q2.\n",
    "\n",
    "다음의 조건에 맞는 회원가입 코드를 완성하세요.\n",
    "\n",
    "1. 클래스명: `Register`\n",
    "2. 인스턴스 변수: `input_id, input_pwd`\n",
    "3. 클래스 변수: `user_id`\n",
    "4. 인스턴스 메서드: `check_id, check_pwd, is_valid`\n",
    "\n",
    "`인스턴스 메서드 check_id, check_pwd, is_valid 각각 회원의 아이디, 비밀번호를 확인, 중복검사을 하는 메서드입니다.`\n",
    "\n",
    "```python\n",
    "\n",
    "#실행예시\n",
    "\n",
    "짱구 = Register(input_id = \"a123\", input_pwd = \"wow1234\")\n",
    "짱구.check_id()\n",
    "짱구.check_pwd()\n",
    "철수 = Register(input_id = \"a123\", input_pwd = \"hahaha\")\n",
    "    'a123`\n",
    "    'wow1234'\n",
    "    '이미 존재하는 아이디입니다.'\n",
    "    \n",
    "```"
   ]
  },
  {
   "cell_type": "code",
   "execution_count": null,
   "metadata": {},
   "outputs": [],
   "source": [
    "class Register:\n",
    "    user_id = []\n",
    "    \n",
    "    def __init__(self, input_id, input_pwd):\n",
    "        self.input_id = input_id\n",
    "        self.input_pwd = input_pwd\n",
    "        # 생성자 = 객체가 만들어질 때, 동시에 실행 = 중복검사가 가능하다.\n",
    "        self.is_valid()\n",
    "        \n",
    "    def check_id(self):\n",
    "        return print(self.input_id)\n",
    "    \n",
    "    def check_pwd(self):\n",
    "        return print(self.input_pwd)\n",
    "    \n",
    "    def is_valid(self):\n",
    "        if self.input_id in Register.user_id:\n",
    "            return print(\"존재하는 아이디\")\n",
    "        else:\n",
    "            Register.user_id.append(self.input_id)\n",
    "            "
   ]
  },
  {
   "cell_type": "code",
   "execution_count": null,
   "metadata": {},
   "outputs": [],
   "source": [
    "짱구 = Register(input_id = \"a123\", input_pwd = \"wow1234\")\n",
    "Register.user_id"
   ]
  },
  {
   "cell_type": "code",
   "execution_count": null,
   "metadata": {},
   "outputs": [],
   "source": [
    "짱구.check_id()\n",
    "짱구.check_pwd()"
   ]
  },
  {
   "cell_type": "code",
   "execution_count": null,
   "metadata": {},
   "outputs": [],
   "source": [
    "철수 = Register(input_id = \"a123\", input_pwd = \"hahaha\")"
   ]
  },
  {
   "cell_type": "markdown",
   "metadata": {},
   "source": [
    "# Q3.\n",
    "\n",
    "```python\n",
    "\n",
    "\"what i really want to say\"\n",
    "\n",
    "```\n",
    "\n",
    "아래의 코드를 실행시켰을 때 위와 같은 결과를 얻고 싶습니다.\n",
    "\n",
    "잘못된 부분을 고쳐주세요."
   ]
  },
  {
   "cell_type": "code",
   "execution_count": null,
   "metadata": {},
   "outputs": [],
   "source": [
    "a = \"this is global variable\"\n",
    "\n",
    "class A:\n",
    "    global a\n",
    "    a= \"what i really want to say\"\n",
    "    def modify(self, a):\n",
    "        self.a = a\n",
    "    \n",
    "    def say(self):\n",
    "        print(a)\n",
    "        \n",
    "instance_a = A()\n",
    "instance_a.modify(a)\n",
    "instance_a.say()"
   ]
  },
  {
   "cell_type": "code",
   "execution_count": 1,
   "metadata": {
    "scrolled": true
   },
   "outputs": [
    {
     "name": "stdout",
     "output_type": "stream",
     "text": [
      "dddd\n"
     ]
    }
   ],
   "source": [
    "a = \"this is global variable\"\n",
    "\n",
    "class A:\n",
    "    a = \"dddd\"\n",
    "    \n",
    "    def modify(self, a):\n",
    "        self.a = a\n",
    "    \n",
    "    def say(self):\n",
    "        print(A.a)\n",
    "        \n",
    "instance_a = A()\n",
    "instance_a.modify(\"what i really want to say\")\n",
    "instance_a.say()"
   ]
  },
  {
   "cell_type": "code",
   "execution_count": null,
   "metadata": {},
   "outputs": [],
   "source": [
    "class Member: \n",
    "    name = \"\" \n",
    "    def showMsg(self): \n",
    "        print(\"Hello,\" + self.name + \".How are you?\") \n",
    "taro = Member() \n",
    "taro.name = \"Taro\" \n",
    "taro.showMsg()"
   ]
  },
  {
   "cell_type": "code",
   "execution_count": null,
   "metadata": {},
   "outputs": [],
   "source": [
    "class Member: \n",
    "    name = \"\" \n",
    "    def __init__(self, str): \n",
    "        self.name = str \n",
    "    def showMsg(self): \n",
    "        print(\"Hello,\" + self.name + \".How are you?\") \n",
    "           \n",
    "taro = Member(\"Taro\") \n",
    "taro.showMsg()"
   ]
  },
  {
   "cell_type": "markdown",
   "metadata": {},
   "source": [
    "# Q4\n",
    "\n",
    "아래 공식을 참고해서, 정육면체의 부피와 겉넓이가 반환되는 코드를 작성하세요.\n",
    "\n",
    "필요한 메서드와 속성은 나름대로 추가하시길 바랍니다.\n",
    "\n",
    "`부피 = 한변의 길이 * 한변의 길이 * 한변의 길이`\n",
    "\n",
    "`겉넓이 = 6 * 한변의 길이 * 한변의 길이`\n",
    "\n",
    "\n",
    "```python\n",
    "\n",
    "# 실행 예시\n",
    "\n",
    "a = Cube(3)\n",
    "b = Cube(5)\n",
    "\n",
    "\n",
    "# 출력 예시\n",
    "\n",
    "한변의 길이가 3인 정육면체의 부피: 27, 겉넓이: 54\n",
    "한변의 길이가 5인 정육면체의 부피: 125, 겉넓이: 150\n",
    "```     "
   ]
  },
  {
   "cell_type": "code",
   "execution_count": null,
   "metadata": {
    "scrolled": true
   },
   "outputs": [],
   "source": [
    "class Cube():\n",
    "    def __init__(self,변):\n",
    "        self.변 = 변\n",
    "        self.말하기()\n",
    "        \n",
    "    def 부피(self):\n",
    "        self.부피 = pow(self.변, 3)\n",
    "        return self.부피\n",
    "        \n",
    "    def 겉넓이(self):\n",
    "        self.겉넓이 = 6*pow(self.변, 2)\n",
    "        return self.겉넓이\n",
    "    \n",
    "    def 말하기(self):\n",
    "        print(f\"한변의 길이가 {self.변}인 정육면체의 부피: {self.부피()}, 겉넓이: {self.겉넓이()}\")\n",
    "    \n",
    "a = Cube(3)"
   ]
  },
  {
   "cell_type": "code",
   "execution_count": null,
   "metadata": {},
   "outputs": [],
   "source": [
    "b = Cube(5)"
   ]
  },
  {
   "cell_type": "markdown",
   "metadata": {},
   "source": [
    "# Q5\n",
    "\n",
    "복합 클래스 문제\n",
    "\n",
    "배달음식 메뉴의 총합과 주문목록을 구하려고 합니다.\n",
    "\n",
    "다음의 조건에 맞는 코드를 완성하세요.\n",
    "\n",
    "`클래스명: Order`<br>\n",
    "`인스턴스 속성: order_num, menu_list`<br>\n",
    "`인스턴스 메서드: total_price, total_menu`<br>\n",
    "\n",
    "`클래스명: Menu`<br>\n",
    "`인스턴스 속성: name, price`"
   ]
  },
  {
   "cell_type": "markdown",
   "metadata": {},
   "source": [
    "```python     \n",
    "\n",
    "# 메뉴 객체 생성        \n",
    "치킨 = Menu(name = \"치킨\", price = 18000)\n",
    "짜장면 = Menu(name = \"짜장면\", price = 10000)\n",
    "피자 = Menu(name = \"피자\", price = 21000)\n",
    "\n",
    "# 메뉴를 합쳐서 전달\n",
    "menu_list = [치킨, 짜장면, 피자]\n",
    "\n",
    "new_order = Order(order_num = 555, menu_list=menu_list)\n",
    "\n",
    "# 주문 결과 출력\n",
    "\n",
    "print(f\"주문합계 {new_order.total_price()}원입니다.\")\n",
    "print(f\"주문목록은 {new_order.total_menu()}입니다.\")\n",
    "```"
   ]
  },
  {
   "cell_type": "code",
   "execution_count": null,
   "metadata": {},
   "outputs": [],
   "source": [
    "\n",
    "class Order():\n",
    "\n",
    "    def __init__(self, order_num, menu_list):\n",
    "        self.order_num = order_num\n",
    "        self.menu_list = new_order\n",
    "        self.말하기()\n",
    "        \n",
    "    def total_price(self):\n",
    "        self.total_price = self.price * self.menu_list\n",
    "    \n",
    "    def total_menu(self):\n",
    "        self.total_menu = self.menu_list\n",
    "\n",
    "class Menu:\n",
    "    def __init__(self, name, price):\n",
    "        self.name = name\n",
    "        self.price = price\n",
    "        \n",
    "    def 말하기(self):\n",
    "        print(f\"주문합계 {new_order.total_price()}원입니다.\")\n",
    "        print(f\"주문목록은 {new_order.total_menu()}입니다.\")\n"
   ]
  },
  {
   "cell_type": "code",
   "execution_count": 89,
   "metadata": {},
   "outputs": [
    {
     "name": "stdout",
     "output_type": "stream",
     "text": [
      "주문합계 49000원입니다.\n",
      "주문목록은 ['치킨', '짜장면', '피자']입니다.\n"
     ]
    }
   ],
   "source": [
    "class Order:\n",
    "    def __init__(self, order_num, menu_list):\n",
    "        self.order_num = order_num\n",
    "        self.menu_list = menu_list\n",
    "    def total_price(self):\n",
    "        # 주문 목록에 있는 모든 메뉴의 가격 합계를 반환하세요.\n",
    "        self.total_price = 0\n",
    "        for menu in menu_list:\n",
    "            self.total_price += menu.price\n",
    "        return self.total_price\n",
    "    def total_menu(self):\n",
    "        # 주문 목록에 있는 모든 메뉴의 이름을 반환하세요.\n",
    "        menu_name = []\n",
    "        for menu in menu_list:\n",
    "            menu_name.append(menu.name)\n",
    "        return menu_name\n",
    "class Menu:\n",
    "    def __init__(self, name, price):\n",
    "        self.name = name\n",
    "        self.price = price\n",
    "# 메뉴 객체 생성\n",
    "치킨 = Menu(name = \"치킨\", price = 18000)\n",
    "짜장면 = Menu(name = \"짜장면\", price = 10000)\n",
    "피자 = Menu(name = \"피자\", price = 21000)\n",
    "# 메뉴를 합쳐서 전달\n",
    "menu_list = [치킨, 짜장면, 피자]\n",
    "new_order = Order(order_num = 555, menu_list=menu_list)\n",
    "# 주문 결과 출력\n",
    "print(f\"주문합계 {new_order.total_price()}원입니다.\")\n",
    "print(f\"주문목록은 {new_order.total_menu()}입니다.\")"
   ]
  },
  {
   "cell_type": "markdown",
   "metadata": {},
   "source": [
    "# Q6\n",
    "\n",
    "김계란씨는 최근에 어느 광산에 취직했습니다.\n",
    "\n",
    "그 광산엔 금, 은, 다이아몬드가 있다고 합니다.\n",
    "\n",
    "김계란씨의 목표는 금, 은, 다이아몬드를 각각 1개씩 채굴하는 것이고\n",
    "\n",
    "김계란씨를 광부 클래스의 객체로 생성하고 위의 문제를 해결하세요.\n",
    "\n",
    "\n",
    "```python\n",
    "\n",
    "# 실행예시\n",
    "\n",
    "# 목표=[금,은,다이아몬드] 순서로 대입합니다. 즉, 아래 목표는 금, 은, 다이아를 각각 1개씩으로 하는 것을 목표로 한 것입니다.\n",
    "\n",
    "김계란 = 광부(이름='김계란', 목표=[1,1,1])\n",
    "\n",
    "김계란.채굴()\n",
    "    무슨 광물을 채굴할까? 금\n",
    "    뚝딱뚝뚝....(3초)\n",
    "    금을 채굴했습니다.\n",
    "김계란.광물확인()\n",
    "    김계란씨는 현재 금 1개, 은 0개, 다이아몬드 0개를 가지고 있습니다.\n",
    "    목표까지 금 0개, 은 1개, 다이아몬드 1개가 필요합니다.\n",
    "김계란.채굴()\n",
    "    무슨 광물을 채굴할까? 은\n",
    "    뚝딱뚝뚝....(3초)\n",
    "    은을 채굴했습니다.\n",
    "김계란.채굴()\n",
    "    무슨 광물을 채굴할까? 다이아몬드\n",
    "    뚝딱뚝뚝....(3초)\n",
    "    다이아몬드를 채굴했습니다.\n",
    "김계란.광물확인()\n",
    "    김계란씨는 현재 금 1개, 은 1개, 다이아몬드 1개를 가지고 있습니다.\n",
    "    축하합니다. 목표를 달성했습니다!\n",
    "    \n",
    "```"
   ]
  },
  {
   "cell_type": "code",
   "execution_count": 60,
   "metadata": {},
   "outputs": [],
   "source": [
    "class 광부:\n",
    "    needs = [ '금', '은', '다이아몬드']\n",
    "    \n",
    "    def __init__(self, 이름, 목표):\n",
    "        self.이름 = 이름\n",
    "        self.목표 = 목표\n",
    "        global aim                      #{'금': 1, '은': 1, '다이아몬드': 1}\n",
    "        aim = { name:value for name, value in zip(광부.needs, self.목표) }\n",
    "        return print(aim)\n",
    "        \n",
    "    def 채굴(self):\n",
    "        for i in 광부.needs:\n",
    "            print(f'''무슨 광물을 채굴할까? {i}\\n뚝딱뚝뚝....(3초)\\n{i}을 채굴했습니다.''')\n",
    "      \n",
    "        \n",
    "class 보석:\n",
    "    def __init__(self, 금, 은, 다이아몬드):\n",
    "        self.금 = 0\n",
    "        self.은 = 0\n",
    "        self.다이아몬드 = 0\n",
    "        "
   ]
  },
  {
   "cell_type": "code",
   "execution_count": 61,
   "metadata": {
    "scrolled": true
   },
   "outputs": [
    {
     "name": "stdout",
     "output_type": "stream",
     "text": [
      "{'금': 1, '은': 1, '다이아몬드': 1}\n"
     ]
    }
   ],
   "source": [
    "김계란 = 광부(이름='김계란', 목표=[1,1,1])"
   ]
  },
  {
   "cell_type": "code",
   "execution_count": 62,
   "metadata": {
    "scrolled": true
   },
   "outputs": [
    {
     "name": "stdout",
     "output_type": "stream",
     "text": [
      "무슨 광물을 채굴할까? 금\n",
      "뚝딱뚝뚝....(3초)\n",
      "금을 채굴했습니다.\n",
      "무슨 광물을 채굴할까? 은\n",
      "뚝딱뚝뚝....(3초)\n",
      "은을 채굴했습니다.\n",
      "무슨 광물을 채굴할까? 다이아몬드\n",
      "뚝딱뚝뚝....(3초)\n",
      "다이아몬드을 채굴했습니다.\n"
     ]
    }
   ],
   "source": [
    "김계란.채굴()"
   ]
  },
  {
   "cell_type": "code",
   "execution_count": 6,
   "metadata": {},
   "outputs": [],
   "source": [
    "from time import sleep\n",
    "class 광부:\n",
    "    def __init__(self, 이름, 목표):\n",
    "        self.이름 = 이름\n",
    "        self.목표 = 목표\n",
    "        self.금 = 0\n",
    "        self.은 = 0\n",
    "        self.다이아몬드 = 0\n",
    "    def 채굴(self):\n",
    "        mineral_type = input(\"무슨 광물을 채굴할까? \")\n",
    "        print(\"뚝딱뚝딱쓰....(3초)\")\n",
    "        sleep(3)\n",
    "        if mineral_type == \"금\":\n",
    "            self.금 += 1\n",
    "        elif mineral_type == \"은\":\n",
    "            self.은 += 1\n",
    "        elif mineral_type == \"다이아몬드\":\n",
    "            self.다이아몬드 += 1\n",
    "        print(f\"{mineral_type}을(를) 채굴했습니다.\")\n",
    "    def 광물확인(self):\n",
    "        print(f\"{self.이름}씨는 현재 금을 {self.금}개, 은을 {self.은}개, 다이아몬드를 {self.다이아몬드}개 가지고 있습니다.\")\n",
    "        condition = (self.금 >= self.목표[0]) and (self.은 >= self.목표[1]) and (self.다이아몬드 >= self.목표[2])\n",
    "        if condition:\n",
    "            print(\"축하합니다! 목표를 달성했습니다!\")\n",
    "        else:\n",
    "            print(f\"\")"
   ]
  },
  {
   "cell_type": "code",
   "execution_count": 7,
   "metadata": {},
   "outputs": [
    {
     "name": "stdout",
     "output_type": "stream",
     "text": [
      "무슨 광물을 채굴할까? 은\n",
      "뚝딱뚝딱쓰....(3초)\n",
      "은을(를) 채굴했습니다.\n",
      "무슨 광물을 채굴할까? 다이아몬드\n",
      "뚝딱뚝딱쓰....(3초)\n",
      "다이아몬드을(를) 채굴했습니다.\n",
      "무슨 광물을 채굴할까? 금\n",
      "뚝딱뚝딱쓰....(3초)\n",
      "금을(를) 채굴했습니다.\n",
      "김계란씨는 현재 금을 1개, 은을 1개, 다이아몬드를 1개 가지고 있습니다.\n",
      "축하합니다! 목표를 달성했습니다!\n"
     ]
    }
   ],
   "source": [
    "김계란 = 광부(\"김계란\", [1,1,1])\n",
    "김계란.채굴()\n",
    "김계란.채굴()\n",
    "김계란.채굴()\n",
    "김계란.광물확인()"
   ]
  },
  {
   "cell_type": "markdown",
   "metadata": {},
   "source": [
    "# Q7\n",
    "\n",
    "다음의 조건에 맞는 코드를 완성하세요. 기능에 필요한 부분을 나름대로 추가하시길 바랍니다.\n",
    "\n",
    "\n",
    "`클래스명: ATM`<br>\n",
    "`인스턴스 속성: money`<br>\n",
    "`인스턴스 메서드: save, withdraw, check_balance, exit`<br>\n",
    "단, 잔액이 부족하다면 출금이 불가능합니다.<br>\n",
    "save, withdraw, check_balance는 각각 입금, 출금, 잔액 확인을 하는 메서드임\n",
    "\n",
    "```python\n",
    "\n",
    "#실행 예시\n",
    "\n",
    "김철수 = ATM(money = 10000)\n",
    "\n",
    "#출력 예시\n",
    "\n",
    "\n",
    "1. 입금\n",
    "2. 출금\n",
    "3. 잔액확인\n",
    "4. 거래종료\n",
    "선택(1~4): 3\n",
    "잔액: 10000\n",
    "\n",
    "1. 입금\n",
    "2. 출금\n",
    "3. 잔액확인\n",
    "4. 거래종료\n",
    "선택(1~4): 2\n",
    "출금액: 500000\n",
    "잔액이 부족합니다.\n",
    "\n",
    "1. 입금\n",
    "2. 출금\n",
    "3. 잔액확인\n",
    "4. 거래종료\n",
    "선택(1~4): 2\n",
    "출금액: 1000\n",
    "출금 후 잔액: 9000.\n",
    "    \n",
    "    \n",
    "    \n",
    "# 거래종료를 입력할때까지 반복되어야 합니다.\n",
    "\n",
    "\n",
    "```"
   ]
  },
  {
   "cell_type": "code",
   "execution_count": null,
   "metadata": {},
   "outputs": [],
   "source": [
    "class Atm:\n",
    "    def __init__(self, money):\n",
    "        self.money = money\n",
    "        self.choice()\n",
    "        \n",
    "    def save(self):\n",
    "        self.save = int(input(\"입금할 금액을 넣어주세요: \"))\n",
    "        self.money += self.save\n",
    "        return print(self.money)\n",
    "        \n",
    "    def withdraw(self):\n",
    "        self.withdraw = int(input(\"출금할 금액을 입력해주세요: \"))\n",
    "        self.money -= self.withdraw\n",
    "        if self.money <0:\n",
    "            return print (\"잔액이 부족합니다.\")\n",
    "        if self.money >0:\n",
    "            return print(f\"출금 후 잔액: {self.money}.\")\n",
    "        \n",
    "    def check_balance(self):\n",
    "        return print(f\"잔액: {self.money}.\")\n",
    "        \n",
    "    def exit(self):\n",
    "        return print(f\"안녕히 가십시오. 소지품을 잘 챙겨주시기 바랍니다.\")\n",
    "    \n",
    "    def choice(self):\n",
    "        self.choice = int(input(\"1. 입금 \\n2. 출금 \\n3. 잔액확인 \\n4. 거래종료 \\n원하시는 메뉴의 번호를 눌러주세요: \"))\n",
    "        button_choice = {1 : self.save , 2 : self.withdraw , 3 : self.check_balance , 4 : self.exit}\n",
    "        return button_choice[self.choice]()\n",
    "#         if self.choice == 1:\n",
    "#             return self.save()\n",
    "        \n",
    "#         if self.choice == 2:\n",
    "#             return self.withdraw()\n",
    "        \n",
    "#         if self.choice == 3:\n",
    "#             return self.check_balance()\n",
    "        \n",
    "#         if self.choice == 4:\n",
    "#             return self.exit()"
   ]
  },
  {
   "cell_type": "code",
   "execution_count": null,
   "metadata": {
    "scrolled": true
   },
   "outputs": [],
   "source": [
    "김철수 = Atm(money = 10000)"
   ]
  },
  {
   "cell_type": "markdown",
   "metadata": {},
   "source": [
    "# Q8\n",
    "\n",
    "계좌 이체를 자유롭게 구현하세요.\n",
    "\n",
    "```python\n",
    "\n",
    "#실행 예시\n",
    "\n",
    "철수 = Bank(name = '철수', balance = 10000)\n",
    "짱구 = Bank(name = '짱구', balance = 20000)\n",
    "\n",
    "철수.transfer(target = 짱구, money = 2000)\n",
    "짱구.check_balance()\n",
    "\n",
    "철수.transfer(target = 짱구, money = 50000)\n",
    "\n",
    "# 출력 예시\n",
    "\n",
    "철수가 짱구에게 2000원을 송금했습니다. 철수의 잔액은 8000원입니다.\n",
    "짱구의 잔액은 22000원입니다.\n",
    "\n",
    "잔액이 부족하여 송금이 불가능합니다.\n",
    "\n",
    "```"
   ]
  },
  {
   "cell_type": "code",
   "execution_count": 5,
   "metadata": {},
   "outputs": [],
   "source": [
    "class Bank:\n",
    "#     Id = []\n",
    "#     mon = []\n",
    "    def __init__(self, name, deposit):\n",
    "        self.name = name\n",
    "        self.deposit = deposit\n",
    "#         Bank.Id.append(self.name)\n",
    "#         Bank.mon.append(self.deposit)\n",
    "#         global user_info\n",
    "#         user_info = { name:value for name, value in zip(Bank.Id, Bank.mon) }\n",
    "#         return print(user_info)\n",
    "    \n",
    "    def transfer(self, target, money):\n",
    "        self.target = target\n",
    "        self.money = money\n",
    "        self.target.deposit -= self.money \n",
    "        target.deposit += self.money        # target 이체 대상(짱구)의 예금에 self.money(철수의 돈)를 송금\n",
    "        \n",
    "        if self.target.deposit >0:\n",
    "            return print(f\"\"\"{self.name}가 {target.name}에게 {self.money}원을 송금했습니다. \n",
    "{self.name}의 잔액은 {user_info.get(self.name)}원입니다.\"\"\")\n",
    "        \n",
    "        if self.target.deposit <0:\n",
    "            return print(f'잔액이 부족하여 송금이 불가능합니다.')\n",
    "    \n",
    "    def check_balance(self):\n",
    "        return print(f\"{self.name}의 잔액은 {self.deposit}원입니다.\")"
   ]
  },
  {
   "cell_type": "code",
   "execution_count": 6,
   "metadata": {
    "scrolled": false
   },
   "outputs": [
    {
     "name": "stdout",
     "output_type": "stream",
     "text": [
      "철수가 짱구에게 2000원을 송금했습니다. \n",
      "철수의 잔액은 8000원입니다.\n",
      "짱구의 잔액은 20000원입니다.\n"
     ]
    }
   ],
   "source": [
    "철수 = Bank(name = '철수', deposit = 10000)\n",
    "짱구 = Bank(name = '짱구', deposit = 20000)\n",
    "철수.transfer(target = 짱구, money = 2000)\n",
    "짱구.check_balance()"
   ]
  },
  {
   "cell_type": "code",
   "execution_count": 152,
   "metadata": {},
   "outputs": [
    {
     "name": "stdout",
     "output_type": "stream",
     "text": [
      "잔액이 부족하여 송금이 불가능합니다.\n"
     ]
    }
   ],
   "source": [
    "철수.transfer(target = 짱구, money = 50000)"
   ]
  },
  {
   "cell_type": "markdown",
   "metadata": {},
   "source": [
    "# Q9\n",
    "\n",
    "어느 게임에서 초보자는 마법사로 전직할 수 있다고 합니다.\n",
    "\n",
    "마법사는 초보자의 모든 속성을 중복하여 가지고 있다고 합니다.\n",
    "\n",
    "`상속을 이용해서 중복된 코드를 제거해주세요.`"
   ]
  },
  {
   "cell_type": "code",
   "execution_count": 171,
   "metadata": {},
   "outputs": [
    {
     "name": "stdout",
     "output_type": "stream",
     "text": [
      "이름: 닥터스트레인지 HP:100 SP: 100\n"
     ]
    }
   ],
   "source": [
    "# After\n",
    "\n",
    "class 초보자:\n",
    "    def __init__(self, name, hp):\n",
    "        self.name = name\n",
    "        self.hp = hp\n",
    "        \n",
    "    def print_info(self):\n",
    "        return print(f\"이름: {self.name} HP:{self.hp}\" ,end=' ')\n",
    "    \n",
    "    \n",
    "class 마법사(초보자):\n",
    "    def __init__(self, name, hp, sp):\n",
    "        super().__init__( name, hp)\n",
    "        self.sp = sp\n",
    "        \n",
    "    def print_info(self):\n",
    "        super().print_info() \n",
    "        return print(f\"SP: {self.sp}\")\n",
    "        \n",
    "        \n",
    "        #return print(f\"이름: {self.name} HP: {self.hp}, SP: {self.sp}\")\n",
    "    \n",
    "wizard_obj = 마법사(\"닥터스트레인지\", 100, 100)\n",
    "wizard_obj.print_info()"
   ]
  },
  {
   "cell_type": "code",
   "execution_count": 161,
   "metadata": {},
   "outputs": [
    {
     "name": "stdout",
     "output_type": "stream",
     "text": [
      "이름: 닥터스트레인지 HP: 100, SP: 100\n"
     ]
    }
   ],
   "source": [
    "# Before\n",
    "\n",
    "class 초보자:\n",
    "    def __init__(self, name, hp):\n",
    "        self.name = name\n",
    "        self.hp = hp\n",
    "        \n",
    "    def print_info(self):\n",
    "        return print(f\"이름: {self.name} HP: {self.hp}\")\n",
    "    \n",
    "    \n",
    "class 마법사:\n",
    "    def __init__(self, name, hp, sp):\n",
    "        self.name = name\n",
    "        self.hp = hp\n",
    "        self.sp = sp\n",
    "        \n",
    "    def print_info(self):\n",
    "        return print(f\"이름: {self.name} HP: {self.hp}, SP: {self.sp}\")\n",
    "    \n",
    "    \n",
    "wizard_obj = 마법사(\"닥터스트레인지\", 100, 100)\n",
    "wizard_obj.print_info()"
   ]
  },
  {
   "cell_type": "code",
   "execution_count": 172,
   "metadata": {},
   "outputs": [
    {
     "name": "stdout",
     "output_type": "stream",
     "text": [
      "Cure people!\n"
     ]
    }
   ],
   "source": [
    "class Person: \n",
    "  def __init__(self, name, age): \n",
    "    self.name = name \n",
    "    self.age = age \n",
    "\n",
    "  def job(self): \n",
    "    print(\"Can do anything!\") \n",
    "\n",
    "class Doctor(Person): \n",
    "  def job(self): \n",
    "    print(\"Cure people!\") \n",
    "         \n",
    "my_doctor = Doctor(\"Jane\", \"28\") \n",
    "my_doctor.job() "
   ]
  },
  {
   "cell_type": "markdown",
   "metadata": {},
   "source": [
    "# Q10\n",
    "\n",
    "다음의 조건에 맞는 코드를 완성하세요\n",
    "\n",
    "```\n",
    "클래스명: Human\n",
    "인스턴스 변수: name, phone\n",
    "인스턴스 메서드: 생성자, print_info\n",
    "\n",
    "클래스명: Student\n",
    "상속: Human\n",
    "인스턴스 변수: college, student_id\n",
    "인스턴스 메서드: 생성자, print_info\n",
    "```\n",
    "\n",
    "```python\n",
    "\n",
    "#실행예시\n",
    "\n",
    "철수 = Student(name = \"철수\", phone= \"010-1234-1234\", college = \"Harvard\", student_id = 1234)\n",
    "철수.print_info()```\n",
    "\n",
    "```\n",
    "# 결과\n",
    "\n",
    "이름: 철수\n",
    "번호: 010-1234-1234\n",
    "학교: Harvard 대학교\n",
    "학번: 1234\n",
    "```"
   ]
  },
  {
   "cell_type": "code",
   "execution_count": 178,
   "metadata": {},
   "outputs": [
    {
     "name": "stdout",
     "output_type": "stream",
     "text": [
      "이름: 철수 \n",
      "번호: 010-1234-1234\n",
      "학교: Harvard대학교 \n",
      "학번: 1234 \n"
     ]
    }
   ],
   "source": [
    "class Human:\n",
    "    def __init__(self, name, phone):\n",
    "        self.name = name\n",
    "        self.phone = phone\n",
    "    \n",
    "    def print_info(self):\n",
    "        return print(f\"이름: {self.name} \\n번호: {self.phone}\")\n",
    "    \n",
    "class Student(Human):\n",
    "    def __init__(self,name, phone, college, student_id):\n",
    "        super().__init__(name, phone)\n",
    "        self.college = college\n",
    "        self.student_id = student_id\n",
    "        \n",
    "    def print_info(self):\n",
    "        super().print_info()\n",
    "        return print(f\"학교: {self.college}대학교 \\n학번: {self.student_id} \")\n",
    "    \n",
    "    \n",
    "철수 = Student(name = \"철수\", phone= \"010-1234-1234\", college = \"Harvard\", student_id = 1234)\n",
    "철수.print_info()    "
   ]
  }
 ],
 "metadata": {
  "kernelspec": {
   "display_name": "Python 3",
   "language": "python",
   "name": "python3"
  },
  "language_info": {
   "codemirror_mode": {
    "name": "ipython",
    "version": 3
   },
   "file_extension": ".py",
   "mimetype": "text/x-python",
   "name": "python",
   "nbconvert_exporter": "python",
   "pygments_lexer": "ipython3",
   "version": "3.7.4"
  }
 },
 "nbformat": 4,
 "nbformat_minor": 2
}
