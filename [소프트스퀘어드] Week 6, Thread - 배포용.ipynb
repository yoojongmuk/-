{
 "cells": [
  {
   "cell_type": "markdown",
   "metadata": {},
   "source": [
    "# 스레드\n",
    "\n",
    "스레드를 사용하면, 하나의 프로세스에 여러개의 흐름을 만들어서 병렬적으로 실행할 수 있게 한다.\n",
    "\n",
    "1. CPU 사용률 향상\n",
    "2. 효율적인 자원 활용 및 응답성 향상\n",
    "3. 코드 간결 및 유지보수성 향상\n",
    "\n",
    "하나의 process는 여러개의 thread를 가질 수 있다."
   ]
  },
  {
   "cell_type": "markdown",
   "metadata": {},
   "source": [
    "# 스레드를 만드는 방법\n",
    "\n",
    "1. 함수 전달\n",
    "\n",
    "2. 상속"
   ]
  },
  {
   "cell_type": "markdown",
   "metadata": {},
   "source": [
    "### thread 객체에 함수를 전달해서 만드는 방법\n",
    "\n",
    "```python\n",
    "import threading\n",
    "\n",
    "threading.Thread(name=, target=, args=)\n",
    "\n",
    "```\n",
    "\n",
    "\n",
    "\n",
    "\n",
    "```name : 스레드의 이름을 정한다. 주지 않아도 된다.\n",
    "target: 스레드에서 실행할 함수\n",
    "args: target 함수에 넘겨질 매개변수, 튜플형태로 전달한다.\n",
    "```"
   ]
  },
  {
   "cell_type": "markdown",
   "metadata": {},
   "source": [
    "### 스레드 관련 속성, 메서드\n",
    "\n",
    "```start(): 스레드 실행\n",
    "join(): 해당 스레드에서 실행되는 함수가 종료될 때까지 기다린다.\n",
    "```"
   ]
  },
  {
   "cell_type": "code",
   "execution_count": 1,
   "metadata": {},
   "outputs": [],
   "source": [
    "import threading\n",
    "from time import sleep, ctime"
   ]
  },
  {
   "cell_type": "code",
   "execution_count": 2,
   "metadata": {
    "scrolled": true
   },
   "outputs": [],
   "source": [
    "# thread 객체에 함수를 전달해서 만드는 방법.\n",
    "\n",
    "def hands():\n",
    "    sleep(3)\n",
    "    print(ctime())\n",
    "    return print(\"손을 흔든다.\")\n",
    "\n",
    "def legs():\n",
    "    sleep(2)\n",
    "    print(ctime())\n",
    "    return print(\"발을 흔든다.\")\n",
    "\n",
    "def head():\n",
    "    sleep(1)\n",
    "    print(ctime())\n",
    "    return print(\"머리를 휘젓는다.\")"
   ]
  },
  {
   "cell_type": "code",
   "execution_count": 4,
   "metadata": {},
   "outputs": [
    {
     "name": "stdout",
     "output_type": "stream",
     "text": [
      "싱글 스레드 시작\n",
      "Mon Feb 10 15:22:12 2020\n",
      "손을 흔든다.\n",
      "Mon Feb 10 15:22:14 2020\n",
      "발을 흔든다.\n",
      "Mon Feb 10 15:22:15 2020\n",
      "머리를 휘젓는다.\n",
      "싱글 스레드 종료\n"
     ]
    }
   ],
   "source": [
    "# 싱글 스레드로 함수 호출하기\n",
    "\n",
    "print(\"싱글 스레드 시작\")\n",
    "\n",
    "hands()\n",
    "legs()\n",
    "head()\n",
    "\n",
    "print(\"싱글 스레드 종료\")"
   ]
  },
  {
   "cell_type": "code",
   "execution_count": 5,
   "metadata": {},
   "outputs": [
    {
     "name": "stdout",
     "output_type": "stream",
     "text": [
      "멀티 쓰레드 시작\n",
      "Mon Feb 10 15:22:54 2020\n",
      "머리를 휘젓는다.\n",
      "Mon Feb 10 15:22:55 2020\n",
      "발을 흔든다.\n",
      "Mon Feb 10 15:22:56 2020\n",
      "손을 흔든다.\n",
      "멀티 쓰레드 끝\n"
     ]
    }
   ],
   "source": [
    "t1 = threading.Thread(target=hands)\n",
    "t2 = threading.Thread(target=legs)\n",
    "t3 = threading.Thread(target=head)\n",
    "\n",
    "threads = [t1, t2, t3]\n",
    "\n",
    "print(\"멀티 쓰레드 시작\")\n",
    "\n",
    "for t in threads:\n",
    "    t.start()\n",
    "#     t.join()\n",
    "\n",
    "for t in threads:\n",
    "    t.join()\n",
    "    \n",
    "print(\"멀티 쓰레드 끝\")"
   ]
  },
  {
   "cell_type": "code",
   "execution_count": 6,
   "metadata": {
    "scrolled": true
   },
   "outputs": [
    {
     "name": "stdout",
     "output_type": "stream",
     "text": [
      "멀티 쓰레드 시작\n",
      "Mon Feb 10 15:23:05 2020\n",
      "손을 흔든다.\n",
      "Mon Feb 10 15:23:07 2020\n",
      "발을 흔든다.\n",
      "Mon Feb 10 15:23:08 2020\n",
      "머리를 휘젓는다.\n",
      "멀티 쓰레드 끝\n"
     ]
    },
    {
     "data": {
      "text/plain": [
       "'첫번째 스레드를 시작과 동시에 join해버리면,\\n두번째 스레드가 실행되지 못하기 때문에\\n실질적으로 병렬처리의 의미가 없다.'"
      ]
     },
     "execution_count": 6,
     "metadata": {},
     "output_type": "execute_result"
    }
   ],
   "source": [
    "t1 = threading.Thread(target=hands)\n",
    "t2 = threading.Thread(target=legs)\n",
    "t3 = threading.Thread(target=head)\n",
    "\n",
    "threads = [t1, t2, t3]\n",
    "\n",
    "print(\"멀티 쓰레드 시작\")\n",
    "\n",
    "for t in threads:\n",
    "    t.start()\n",
    "    t.join()\n",
    "\n",
    "print(\"멀티 쓰레드 끝\")\n",
    "\n",
    "'''첫번째 스레드를 시작과 동시에 join해버리면,\n",
    "두번째 스레드가 실행되지 못하기 때문에\n",
    "실질적으로 병렬처리의 의미가 없다.'''"
   ]
  },
  {
   "cell_type": "code",
   "execution_count": 7,
   "metadata": {},
   "outputs": [
    {
     "name": "stdout",
     "output_type": "stream",
     "text": [
      "멀티 쓰레드 시작\n",
      "Mon Feb 10 15:29:22 2020\n",
      "머리를 휘젓는다.\n",
      "Mon Feb 10 15:29:23 2020\n",
      "발을 흔든다.\n",
      "Mon Feb 10 15:29:24 2020\n",
      "손을 흔든다.\n",
      "멀티 쓰레드 끝\n"
     ]
    }
   ],
   "source": [
    "t1 = threading.Thread(target=hands)\n",
    "t2 = threading.Thread(target=legs)\n",
    "t3 = threading.Thread(target=head)\n",
    "\n",
    "threads = [t1, t2, t3]\n",
    "\n",
    "print(\"멀티 쓰레드 시작\")\n",
    "\n",
    "for t in threads:\n",
    "    t.start()\n",
    "\n",
    "for t in threads:\n",
    "    t.join()\n",
    "\n",
    "print(\"멀티 쓰레드 끝\")"
   ]
  },
  {
   "cell_type": "markdown",
   "metadata": {},
   "source": [
    "스레드객체.join()은 해당 스레드가 종료될 때 까지 다른 스레드를 실행하지 않겠다는 의미이다.\n",
    "\n",
    "```pyhton\n",
    "\n",
    "# 1번\n",
    "for t in threads:\n",
    "    t.start()\n",
    "    t.join\n",
    "    \n",
    "    \n",
    "# 2번\n",
    "for t in threads:\n",
    "    t.start()\n",
    "    \n",
    "for t in threads:\n",
    "    t.join()\n",
    "    \n",
    "```\n",
    "\n",
    "1번에서는 첫번째 스레드가 시작되고, 그 스레드가 종료 될때까지 모든 스레드는 사용할 수 없다.\n",
    "반면에 2번에서는 모든 스레드가 동시에 시작되고, 그 후에 모든 서브 스레드를 join()으로 동기화하기 때문에 메인스레드만 남는듯"
   ]
  },
  {
   "cell_type": "markdown",
   "metadata": {},
   "source": [
    "### 클래스 상속을 통해서 스레드를 만드는 방법"
   ]
  },
  {
   "cell_type": "code",
   "execution_count": 8,
   "metadata": {},
   "outputs": [
    {
     "name": "stdout",
     "output_type": "stream",
     "text": [
      "Sun Jan 26 03:29:47 2020\n",
      "Sun Jan 26 03:29:48 2020\n",
      "머리를 쉐킷쉐킷\n",
      "Sun Jan 26 03:29:49 2020\n",
      "다리를 흔들흔들\n",
      "Sun Jan 26 03:29:50 2020\n",
      "손을 흔들흔들\n"
     ]
    }
   ],
   "source": [
    "import threading\n",
    "from time import sleep, ctime\n",
    "\n",
    "print(\"시작시간: \", ctime())\n",
    "\n",
    "class Hands(threading.Thread):\n",
    "    def run(self):\n",
    "        sleep(3)\n",
    "        print(ctime())\n",
    "        print(\"손을 흔들흔들\")\n",
    "        \n",
    "class Legs(threading.Thread):\n",
    "    def run(self):\n",
    "        sleep(2)\n",
    "        print(ctime())\n",
    "        print(\"다리를 흔들흔들\")\n",
    "    \n",
    "class Head(threading.Thread):\n",
    "    def run(self):\n",
    "        sleep(1)\n",
    "        print(ctime())\n",
    "        print(\"머리를 쉐킷쉐킷\")\n",
    "        \n",
    "hand = Hands()\n",
    "leg = Legs()\n",
    "head = Head()\n",
    "\n",
    "hand.start()\n",
    "leg.start()\n",
    "head.start()"
   ]
  },
  {
   "cell_type": "code",
   "execution_count": 8,
   "metadata": {},
   "outputs": [],
   "source": [
    "# 상속을 통해서 만드는 방법\n",
    "\n",
    "import threading\n",
    "from time import sleep, ctime\n",
    "\n",
    "class Test(threading.Thread):\n",
    "    \n",
    "    def __init__(self, func): # 생성자를 오버라이드 할 경우에는 반드시 부모 클래스의 생성자 호출\n",
    "        threading.Thread.__init__(self)\n",
    "        self.func = func\n",
    "        \n",
    "    # Thread를 상속받은 클래스는 반드시 run 메서드를 오버라이드 해야한다.\n",
    "    def run(self):\n",
    "        self.func()\n",
    "        \n",
    "def hands():\n",
    "    sleep(3)\n",
    "    print(ctime())\n",
    "    return print(\"손을 흔든다.\")\n",
    "\n",
    "def legs():\n",
    "    sleep(2)\n",
    "    print(ctime())\n",
    "    return print(\"발을 흔든다.\")\n",
    "\n",
    "def head():\n",
    "    sleep(1)\n",
    "    print(ctime())\n",
    "    return print(\"머리를 휘젓는다.\")"
   ]
  },
  {
   "cell_type": "code",
   "execution_count": 9,
   "metadata": {
    "scrolled": false
   },
   "outputs": [
    {
     "name": "stdout",
     "output_type": "stream",
     "text": [
      "Wed Jan  8 20:25:50 2020\n",
      "머리를 휘젓는다.\n",
      "Wed Jan  8 20:25:51 2020\n",
      "발을 흔든다.\n",
      "Wed Jan  8 20:25:52 2020\n",
      "손을 흔든다.\n"
     ]
    }
   ],
   "source": [
    "a = Test(hands)\n",
    "b = Test(legs)\n",
    "c = Test(head)\n",
    "\n",
    "threads = [a, b, c]\n",
    "\n",
    "for t in threads:\n",
    "    t.start()"
   ]
  },
  {
   "cell_type": "markdown",
   "metadata": {},
   "source": [
    "상속을 통한 스레드도 결국 스레드 객체를 생성해서, 실행시키는 것은 동일하다.\n",
    "\n",
    "단, threading.Thread를 상속 받은 클래스에 run 메서드를 오버라이드 해서 스레드 시작시에 실행할 코드를 작성하는 것이다."
   ]
  },
  {
   "cell_type": "markdown",
   "metadata": {},
   "source": [
    "# 동기화\n",
    "\n",
    "스레드를 사용하면 한 프로세스 내에 점유한 스레드끼리 메모리가 공유되기 때문에 데이터 교환 측면에서는 유리하지만, 모든 전역 변수들이 같은 객체를 참조하기 때문에 발생하는 문제가 발생할 수 있다. 이를 방지하기 위한 수단이 동기화!"
   ]
  },
  {
   "cell_type": "markdown",
   "metadata": {},
   "source": [
    "## threading 모듈의 대표적인 동기화 수단\n",
    "\n",
    "* Lock: 한번에 하나의 스레드만 사용할 수 있는 자원의 접근 구간에 락을 설치하면, 락을 획득한 1개의 스레드만 실행 되고, 나머지는 기다리게 된다."
   ]
  },
  {
   "cell_type": "markdown",
   "metadata": {},
   "source": [
    "#### 락, Lock\n",
    "\n",
    "칸이 하나밖에 없는 화장실이다.\n",
    "\n",
    "누군가(스레드)가 락을 획득하면, 나머지(다른 스레드)는 락이 풀릴 때까지 잠긴다.\n",
    "\n",
    "Lock을 사용하기 위해서는 스레드 외부에서 Lock 인스턴스를 생성한다. \n",
    "그리고 한정된 자원을(화장실)을 엑세스 하려는 시점에서 `Lock.acquire()` 메서드를 호출한다.\n",
    "\n",
    "만약 락을 획득하면 자신의 상태를 변경하며 즉시 리턴한다.(화장실에 들어가면 바로 자물쇠를 채움)<br>\n",
    "하지만 다른 스레드가 선점하여 Lock이 된 상태라면, 기다린다.\n",
    "\n",
    "리소스 사용을 마치면(화장실 사용이 끝나면) `Lock.release()`를 호출해서 자물쇠를 해제한다. 그러면 또 다음 스레드가 이런 과정을 반복한다."
   ]
  },
  {
   "cell_type": "markdown",
   "metadata": {},
   "source": [
    "간단한 자원 경쟁의 예시를 보자.\n",
    "\n",
    "두개의 스레드가 하나의 값을 읽은 후 거기에 1을 더한다.\n",
    "\n",
    "하지만 아무런 보호가 없기 때문에 변경한 후 값을 보면 1이 아닌 2씩 더해지는 것을 확인할 수 있다."
   ]
  },
  {
   "cell_type": "code",
   "execution_count": 20,
   "metadata": {},
   "outputs": [],
   "source": [
    "names = ['철수', '민수']"
   ]
  },
  {
   "cell_type": "code",
   "execution_count": 21,
   "metadata": {},
   "outputs": [
    {
     "name": "stdout",
     "output_type": "stream",
     "text": [
      "철수이 화장실에 들어갑니다.\n",
      "민수이 화장실에 들어갑니다.\n",
      "철수이 화장실에서 나옵니다.\n",
      "민수이 화장실에서 나옵니다.\n"
     ]
    }
   ],
   "source": [
    "# 동기화를 하지 않은 경우, 동시에 들어간다 ㅋㅋ;\n",
    "\n",
    "def toilet(name):\n",
    "    print(f\"{name}이(가) 화장실에 들어갑니다.\\n\")\n",
    "    sleep(1)\n",
    "    print(f\"{name}이(가) 화장실에서 나옵니다.\\n\")\n",
    "\n",
    "threads = [threading.Thread(target=toilet, args=(n,)) for n in names]\n",
    "\n",
    "for t in threads:\n",
    "    t.start()"
   ]
  },
  {
   "cell_type": "code",
   "execution_count": 23,
   "metadata": {},
   "outputs": [
    {
     "name": "stdout",
     "output_type": "stream",
     "text": [
      "철수이(가) 화장실에 들어갑니다.\n",
      "철수이(가) 화장실에서 나옵니다.\n",
      "민수이(가) 화장실에 들어갑니다.\n",
      "민수이(가) 화장실에서 나옵니다.\n"
     ]
    }
   ],
   "source": [
    "# 동기화를 해본다. \n",
    "# 이 경우엔 철수 스레드가 끝난 후에 민수 스레드가 시작되는 것을 확인 할 수 있다.\n",
    "\n",
    "lock = threading.Lock() # lock 객체를 만들어주고\n",
    "\n",
    "def toilet(name):\n",
    "    lock.acquire() # 스레드가 락을 획득하고\n",
    "    print(f\"{name}이(가) 화장실에 들어갑니다.\\n\")\n",
    "    sleep(1)\n",
    "    print(f\"{name}이(가) 화장실에서 나옵니다.\\n\")\n",
    "    lock.release() # 락을 해제한다.\n",
    "\n",
    "threads = [threading.Thread(target=toilet, args=(n,)) for n in names]\n",
    "\n",
    "for t in threads:\n",
    "    t.start()\n",
    "    \n",
    "# with 구문 활용하면 acquire, release가 필요 없다.\n",
    "\"\"\"\n",
    "def toilet(name):\n",
    "    with lock:\n",
    "        print(f\"{name}이(가) 화장실에 들어갑니다.\")\n",
    "        sleep(1)\n",
    "        print(f\"{name}이(가) 화장실에서 나옵니다.\")\n",
    "\"\"\""
   ]
  }
 ],
 "metadata": {
  "kernelspec": {
   "display_name": "Python 3",
   "language": "python",
   "name": "python3"
  },
  "language_info": {
   "codemirror_mode": {
    "name": "ipython",
    "version": 3
   },
   "file_extension": ".py",
   "mimetype": "text/x-python",
   "name": "python",
   "nbconvert_exporter": "python",
   "pygments_lexer": "ipython3",
   "version": "3.7.4"
  }
 },
 "nbformat": 4,
 "nbformat_minor": 2
}
