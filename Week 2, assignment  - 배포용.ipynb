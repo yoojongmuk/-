{
 "cells": [
  {
   "cell_type": "markdown",
   "metadata": {},
   "source": [
    "<img src = \"https://apply.softsquared.com/custom/img/logo.png\">\n",
    "\n",
    "## 두번째 과제입니다.\n",
    "\n",
    "우리는 파이썬 문법 2 파트에서 컨테이너 자료, 반복문, 함수 등에 대해서 배웠습니다.\n",
    "\n",
    "이에 대한 과제를 제공해 드립니다.\n",
    "\n",
    "과제를 하시는 동안 정보검색은 적극 권장됩니다."
   ]
  },
  {
   "cell_type": "markdown",
   "metadata": {},
   "source": [
    "## 컨테이너 자료"
   ]
  },
  {
   "cell_type": "markdown",
   "metadata": {},
   "source": [
    "# Q1\n",
    "\n",
    "num_list 라는 변수에 1~10까지의 숫자를 입력합니다.\n",
    "\n",
    "짝수만 있는 리스트, 홀수만 있는 리스트를 각각 새로운 변수에 할당하고 호출해보세요."
   ]
  },
  {
   "cell_type": "code",
   "execution_count": 26,
   "metadata": {},
   "outputs": [
    {
     "name": "stdout",
     "output_type": "stream",
     "text": [
      "(1, 3, 5, 7, 9)\n",
      "(2, 4, 6, 8, 10)\n"
     ]
    }
   ],
   "source": [
    "num_list=(1,2,3,4,5,6,7,8,9,10)\n",
    "oddlist=num_list[0::2]\n",
    "print(oddlist)\n",
    "evenlist=num_list[1::2]\n",
    "print(evenlist)"
   ]
  },
  {
   "cell_type": "code",
   "execution_count": 2,
   "metadata": {
    "scrolled": true
   },
   "outputs": [
    {
     "name": "stdout",
     "output_type": "stream",
     "text": [
      "[2]\n",
      "[2, 4]\n",
      "[2, 4, 6]\n",
      "[2, 4, 6, 8]\n",
      "[2, 4, 6, 8, 10]\n",
      "[2, 4, 6, 8, 10]\n"
     ]
    }
   ],
   "source": [
    "a = []\n",
    "x = 1\n",
    "while x < 11:\n",
    "    if x % 2 == 0:\n",
    "        a.append(x)\n",
    "        print(a)\n",
    "    else:\n",
    "        pass\n",
    "    x = x+1\n",
    "\n",
    "print(a)"
   ]
  },
  {
   "cell_type": "code",
   "execution_count": 20,
   "metadata": {
    "scrolled": true
   },
   "outputs": [
    {
     "name": "stdout",
     "output_type": "stream",
     "text": [
      "[1, 2, 3, 4, 5, 6, 7, 8, 9, 10]\n"
     ]
    }
   ],
   "source": [
    "a=[]\n",
    "b=[]\n",
    "for i in range(1,11):\n",
    "    a.append(i)\n",
    "print(a)\n"
   ]
  },
  {
   "cell_type": "code",
   "execution_count": 12,
   "metadata": {},
   "outputs": [
    {
     "name": "stdout",
     "output_type": "stream",
     "text": [
      "[1, 2, 3, 4, 5, 6, 7, 8, 9, 10] [2, 4, 6, 8, 10] [1, 3, 5, 7, 9]\n"
     ]
    }
   ],
   "source": [
    "a=[]\n",
    "b=[]\n",
    "c=[]\n",
    "for i in range(1, 11):\n",
    "          a.append(i)\n",
    "          if i % 2 == 0:\n",
    "                     b.append(i)\n",
    "          if i % 2 == 1:\n",
    "                    c.append(i)\n",
    "print(a, b, c)"
   ]
  },
  {
   "cell_type": "markdown",
   "metadata": {},
   "source": [
    "# Q2\n",
    "\n",
    "주어진 두 리스트와 리스트의 연산, 추가, 삭제 등의 함수를 활용해서 다음과 같은 결과를 만들어봅시다.\n",
    "\n",
    "```python\n",
    "\n",
    "name1 = [\"짱구\", \"철수\", \"유리\", \"맹구\", \"훈이\"]\n",
    "name2 = [\"미선\", \"형만\", \"흰둥이\", \"퉁퉁이\", \"도라에몽\"]\n",
    "\n",
    "```\n",
    "\n",
    "결과 : `[\"진구\", \"짱구\", \"철수\", \"맹구\", \"미선\", \"핑핑이\", \"흰둥이\", \"퉁퉁이\", \"도라에몽\", \"비실이\"]`"
   ]
  },
  {
   "cell_type": "code",
   "execution_count": 31,
   "metadata": {},
   "outputs": [
    {
     "name": "stdout",
     "output_type": "stream",
     "text": [
      "['짱구', '철수', '유리', '맹구', '훈이', '미선', '형만', '흰둥이', '퉁퉁이', '도라에몽']\n"
     ]
    },
    {
     "data": {
      "text/plain": [
       "['짱구', '철수', '맹구', '미선', '흰둥이', '퉁퉁이', '도라에몽']"
      ]
     },
     "execution_count": 31,
     "metadata": {},
     "output_type": "execute_result"
    }
   ],
   "source": [
    "name1 = [\"짱구\", \"철수\", \"유리\", \"맹구\", \"훈이\"]\n",
    "name2 = [\"미선\", \"형만\", \"흰둥이\", \"퉁퉁이\", \"도라에몽\"]\n",
    "total=name1+name2\n",
    "print(total)               #추가 : 진구, 핑핑이, 비실이, \n",
    "                           #삭제: 유리, 훈이, 형만, \n"
   ]
  },
  {
   "cell_type": "code",
   "execution_count": 46,
   "metadata": {},
   "outputs": [
    {
     "name": "stdout",
     "output_type": "stream",
     "text": [
      "['진구', '짱구', '철수', '맹구']\n",
      "['미선', '핑핑이', '흰둥이', '퉁퉁이', '도라에몽', '비실이']\n",
      "['진구', '짱구', '철수', '맹구', '미선', '핑핑이', '흰둥이', '퉁퉁이', '도라에몽', '비실이']\n"
     ]
    }
   ],
   "source": [
    "name1 = [\"짱구\", \"철수\", \"유리\", \"맹구\", \"훈이\"]\n",
    "name2 = [\"미선\", \"형만\", \"흰둥이\", \"퉁퉁이\", \"도라에몽\"]\n",
    "name1.remove(\"유리\")\n",
    "name1.remove(\"훈이\")\n",
    "name1.insert(0, \"진구\")\n",
    "print(name1)\n",
    "\n",
    "name2.remove(\"형만\")\n",
    "name2.insert(1,\"핑핑이\")\n",
    "name2.insert(5, \"비실이\")\n",
    "print(name2)\n",
    "print(name1+name2)"
   ]
  },
  {
   "cell_type": "markdown",
   "metadata": {},
   "source": [
    "# Q3\n",
    "\n",
    "아래 문제를 해결하세요.\n",
    "\n",
    "1. 리스트의 합을 출력하세요.\n",
    "2. 리스트의 평균을 출력하세요\n",
    "3. 리스트에 저장된 데이터 개수를 출력하세요,\n",
    "\n",
    "```python\n",
    "\n",
    "num = [3, 4, 10, 2, 1]\n",
    "```"
   ]
  },
  {
   "cell_type": "code",
   "execution_count": 172,
   "metadata": {},
   "outputs": [
    {
     "data": {
      "text/plain": [
       "20"
      ]
     },
     "execution_count": 172,
     "metadata": {},
     "output_type": "execute_result"
    }
   ],
   "source": [
    "num = [3, 4, 10, 2, 1]\n",
    "sum(num)\n",
    "def "
   ]
  },
  {
   "cell_type": "markdown",
   "metadata": {},
   "source": [
    "# Q4\n",
    "\n",
    "아래의 리스트를 주어진 결과로 출력해주세요.\n",
    "\n",
    "```python\n",
    "characters = [\"짱구\", \"철수\", \"유리\", \"맹구\", \"훈이\"]\n",
    "```\n",
    "\n",
    "결과 : `짱구&철수&유리&맹구&훈이`\n",
    "\n",
    "<a href=\"https://ourcstory.tistory.com/46\"> 참고자료 </a>"
   ]
  },
  {
   "cell_type": "code",
   "execution_count": 47,
   "metadata": {},
   "outputs": [
    {
     "name": "stdout",
     "output_type": "stream",
     "text": [
      "짱구&철수&유리&맹구&훈이\n"
     ]
    }
   ],
   "source": [
    "characters = [\"짱구\", \"철수\", \"유리\", \"맹구\", \"훈이\"]\n",
    "new = \"&\".join(characters)\n",
    "print(new)"
   ]
  },
  {
   "cell_type": "markdown",
   "metadata": {},
   "source": [
    "# Q5.\n",
    "\n",
    "아래의 문자열을 주어진 결과로 출력해주세요.\n",
    "\n",
    "```python\n",
    "name = \"짱구, 철수, 유리, 맹구, 훈이\"\n",
    "```\n",
    "\n",
    "결과1 : `[\"짱구\", \"철수\", \"유리\", \"맹구\", \"훈이\"]`\n",
    "\n",
    "결과2 : `짱구&철수&유리&맹구&훈이`"
   ]
  },
  {
   "cell_type": "code",
   "execution_count": 79,
   "metadata": {},
   "outputs": [
    {
     "name": "stdout",
     "output_type": "stream",
     "text": [
      "['짱구,', '철수,', '유리,', '맹구,', '훈이']\n"
     ]
    }
   ],
   "source": [
    "name = \"짱구, 철수, 유리, 맹구, 훈이\"   # write your code here!!\n",
    "list_name = name.split( )               #결과1\n",
    "print(list_name)\n",
    "                                          #결과2\n",
    "\n"
   ]
  },
  {
   "cell_type": "code",
   "execution_count": null,
   "metadata": {},
   "outputs": [],
   "source": []
  },
  {
   "cell_type": "markdown",
   "metadata": {},
   "source": [
    "# Q6.\n",
    "\n",
    "다음 코드의 결과를 예측해봅니다. 그리고 그 이유를 생각해봅시다.\n",
    "\n",
    "```python\n",
    "characters = [\"짱구\", \"철수\", \"유리\", \"맹구\", \"훈이\"]\n",
    "characters_copy = characters\n",
    "characters_copy[0] = \"도라에몽\"\n",
    "print(characters)\n",
    "```"
   ]
  },
  {
   "cell_type": "code",
   "execution_count": 67,
   "metadata": {},
   "outputs": [
    {
     "name": "stdout",
     "output_type": "stream",
     "text": [
      "['도라에몽', '철수', '유리', '맹구', '훈이']\n"
     ]
    }
   ],
   "source": [
    "characters = [\"짱구\", \"철수\", \"유리\", \"맹구\", \"훈이\"]\n",
    "characters_copy = characters\n",
    "characters_copy[0] = \"도라에몽\"\n",
    "print(characters)\n",
    "#짱구가 도라에몽으로 바뀐다"
   ]
  },
  {
   "cell_type": "markdown",
   "metadata": {},
   "source": [
    "# Q7.\n",
    "\n",
    "로그인 어플 개발하기 문제\n",
    "\n",
    "user_id = ['red', 'blue', 'green', 'pink']\n",
    "\n",
    "user_pwd = ['123', 'qwe', '456', '789']\n",
    "\n",
    "유저 아이디와 비밀번호는 각각 다음과 같이 주어져 있습니다.\n",
    "\n",
    "사용자에게 아이디와 비밀번호를 input함수로 입력 받고,\n",
    "\n",
    "입력받은 아이디와 비밀번호가 일치하면 '안녕하세요 ~님'을 출력하고\n",
    "\n",
    "아이디는 일치하지만, 비밀번호는 일치하지 않는다면 '비밀번호가 틀렸습니다.'를 출력하고\n",
    "\n",
    "아이디가 일치하지 않는다면 '존재하지 않는 아이디입니다.'를 출력하는 함수를 만들어보고, 정상작동하는지 확인해봅시다.\n",
    "\n",
    "help)\n",
    "\n",
    "인덱스를 찾는 내장함수, 리스트.index(\"요소\")\n",
    "\n",
    "어떤 요소의 존재 여부를 확인하는 방법, in, not in"
   ]
  },
  {
   "cell_type": "code",
   "execution_count": 3,
   "metadata": {},
   "outputs": [],
   "source": [
    "user_id = ['red', 'blue', 'green', 'pink']\n",
    "\n",
    "user_pwd = ['123', 'qwe', '456', '789']"
   ]
  },
  {
   "cell_type": "code",
   "execution_count": 95,
   "metadata": {},
   "outputs": [
    {
     "name": "stdout",
     "output_type": "stream",
     "text": [
      "ID입력red\n",
      "PW입력55\n",
      "Wrong Password\n"
     ]
    }
   ],
   "source": [
    "user_id = ['red', 'blue', 'green', 'pink']\n",
    "user_pwd = ['123', 'qwe', '456', '789']\n",
    "\n",
    "input_id = input(\"ID입력\")\n",
    "\n",
    "if input_id in user_id:\n",
    "    input_pw = input(\"PW입력\")\n",
    "if input_pw in user_pwd and user_pwd.index(input_pw) == user_id.index(input_id):\n",
    "    print(\"로그인 성공\")\n",
    "else:\n",
    "    print(\"Wrong Password\")\n"
   ]
  },
  {
   "cell_type": "markdown",
   "metadata": {},
   "source": [
    "# Q8.\n",
    "\n",
    "다음의 아이디와 비밀번호 데이터를 딕셔너리로 구성하세요.\n",
    "\n",
    "`아이디: ['red', 'blue', 'green', 'pink']`\n",
    "\n",
    "`비밀번호: ['123', 'qwe', '456', '789']`"
   ]
  },
  {
   "cell_type": "code",
   "execution_count": 1,
   "metadata": {},
   "outputs": [],
   "source": [
    "basic_info = {\"red\":\"123\", \"blue\":\"qwe\",\"green\":\"456\",\"pink\":\"789\"}"
   ]
  },
  {
   "cell_type": "code",
   "execution_count": 2,
   "metadata": {},
   "outputs": [
    {
     "data": {
      "text/plain": [
       "{'red': '123', 'blue': 'qwe', 'green': '456', 'pink': '789'}"
      ]
     },
     "execution_count": 2,
     "metadata": {},
     "output_type": "execute_result"
    }
   ],
   "source": [
    "user_id = ['red', 'blue', 'green', 'pink']\n",
    "\n",
    "user_pwd = ['123', 'qwe', '456', '789']\n",
    "\n",
    "user_info = {}\n",
    "\n",
    "for i in range(len(user_id)):\n",
    "    user_info[user_id[i]] = user_pwd[i]\n",
    "    \n",
    "user_info"
   ]
  },
  {
   "cell_type": "code",
   "execution_count": 4,
   "metadata": {},
   "outputs": [
    {
     "data": {
      "text/plain": [
       "{'red': '123', 'blue': 'qwe', 'green': '456', 'pink': '789'}"
      ]
     },
     "execution_count": 4,
     "metadata": {},
     "output_type": "execute_result"
    }
   ],
   "source": [
    "def listToDict(ID,PW):\n",
    "    zipA = zip(ID,PW)\n",
    "    result = dict(zipA)\n",
    "    return result\n",
    "\n",
    "ID = ['red', 'blue', 'green', 'pink']\n",
    "\n",
    "PW = ['123', 'qwe', '456', '789']\n",
    "\n",
    "listToDict(ID,PW)"
   ]
  },
  {
   "cell_type": "markdown",
   "metadata": {},
   "source": [
    "# Q9.\n",
    "\n",
    "Q8.문제에서 만든 딕셔너리에 다음의 데이터를 추가하세요.\n",
    "\n",
    "`아이디: \"black\"`\n",
    "\n",
    "`비밀번호: \"sohot\"`"
   ]
  },
  {
   "cell_type": "code",
   "execution_count": 74,
   "metadata": {},
   "outputs": [
    {
     "data": {
      "text/plain": [
       "{'red': '123', 'blue': 'qwe', 'green': '456', 'pink': '789', 'black': 'sohot'}"
      ]
     },
     "execution_count": 74,
     "metadata": {},
     "output_type": "execute_result"
    }
   ],
   "source": [
    "basic_info['black']='sohot'\n",
    "basic_info"
   ]
  },
  {
   "cell_type": "markdown",
   "metadata": {},
   "source": [
    "# Q10.\n",
    "\n",
    "Q8, Q9에서 만든 딕셔너리를 바탕으로 아래를 푸세요.\n",
    "\n",
    "1. blue의 비밀번호를 \"blue123\"으로 변경해주세요.\n",
    "2. black의 정보를 삭제해주세요."
   ]
  },
  {
   "cell_type": "code",
   "execution_count": 76,
   "metadata": {},
   "outputs": [
    {
     "name": "stdout",
     "output_type": "stream",
     "text": [
      "{'red': '123', 'blue': 'blue123', 'green': '456', 'pink': '789', 'black': 'sohot'}\n",
      "{'red': '123', 'blue': 'blue123', 'green': '456', 'pink': '789'}\n"
     ]
    }
   ],
   "source": [
    "basic_info={'red': '123', 'blue': 'qwe', 'green': '456', 'pink': '789', 'black': 'sohot'}\n",
    "basic_info['blue']='blue123'\n",
    "print(basic_info)\n",
    "del basic_info[\"black\"]\n",
    "print(basic_info)"
   ]
  },
  {
   "cell_type": "markdown",
   "metadata": {},
   "source": [
    "# Q11.\n",
    "\n",
    "딕셔너리를 사용한 로그인 어플 개발하기 문제\n",
    "\n",
    "user_info = {'red': '123', 'blue': 'blue123', 'green': '456', 'pink': '789'}\n",
    "\n",
    "사용자 정보가 위와 같이 주어질때, 로그인 문제를 풀어보세요. 문제는 위의 `Q7.` 문제와 같습니다."
   ]
  },
  {
   "cell_type": "code",
   "execution_count": null,
   "metadata": {
    "scrolled": true
   },
   "outputs": [],
   "source": [
    "user_info = {'red': '123', 'blue': 'blue123', 'green': '456', 'pink': '789'}\n",
    "\n",
    "input_id = input(\"ID입력\")\n",
    "input_pw = input(\"PW입력\")\n",
    "\n",
    "if input_id in user_info:\n",
    "    if user_info[input_id] == input_pw:\n",
    "        print(\"로그인 성공\")\n",
    "    if user_info[input_id] != input_pw:\n",
    "        print(\"비밀번호가 틀렸습니다.\")\n",
    "elif input_id not in user_info:\n",
    "    print(\"존재하지 않는 아이디입니다.\")"
   ]
  },
  {
   "cell_type": "markdown",
   "metadata": {},
   "source": [
    "## 반복문(while, for)"
   ]
  },
  {
   "cell_type": "markdown",
   "metadata": {},
   "source": [
    "# Q12.\n",
    "\n",
    "1~10까지의 숫자를 입력받고, 입력 받은 숫자가 홀수인지 짝수인지 판별하는 코드를 작성해보세요.\n",
    "\n",
    "단, 1~10까지의 숫자가 아니라면 다시 입력을 받아야합니다."
   ]
  },
  {
   "cell_type": "code",
   "execution_count": 2,
   "metadata": {},
   "outputs": [
    {
     "name": "stdout",
     "output_type": "stream",
     "text": [
      "숫자를 입력하세요.11\n",
      "숫자를 재입력하세요.4\n",
      "짝수입니다.\n"
     ]
    }
   ],
   "source": [
    "number = int(input(\"숫자를 입력하세요.\"))\n",
    "while True :\n",
    "    if 1 <= number <= 10:\n",
    "        if number%2 == 1:\n",
    "            print(\"홀수입니다.\")\n",
    "            break\n",
    "        if number%2 == 0:\n",
    "            print(\"짝수입니다.\")\n",
    "            break\n",
    "    else :\n",
    "        number = int(input(\"숫자를 재입력하세요.\"))\n",
    "        continue"
   ]
  },
  {
   "cell_type": "markdown",
   "metadata": {},
   "source": [
    "# Q13.\n",
    "\n",
    "다음과 같은 리스트가 주어졌을 때, 캐릭터의 이름과 캐릭터 글자수를 출력하세요.\n",
    "\n",
    "```python\n",
    "\n",
    "characters = [\"섹시도발 짱구\", \"시크한 철수\", \"화난유리\", \"코맹맹이 맹구\", \"쫄보 훈이\"]\n",
    "\n",
    "```\n",
    "\n",
    "결과예시\n",
    "\n",
    "`섹시도발 짱구 7`\n",
    "\n",
    "`시크한 철수 6`\n",
    "\n",
    "~~"
   ]
  },
  {
   "cell_type": "code",
   "execution_count": 60,
   "metadata": {},
   "outputs": [
    {
     "name": "stdout",
     "output_type": "stream",
     "text": [
      "섹시도발 짱구 7\n",
      "시크한 철수 6\n",
      "화난유리 4\n",
      "코맹맹이 맹구 7\n",
      "쫄보 훈이 5\n"
     ]
    }
   ],
   "source": [
    "characters = [\"섹시도발 짱구\", \"시크한 철수\", \"화난유리\", \"코맹맹이 맹구\", \"쫄보 훈이\"]\n",
    "for i in characters:\n",
    "     print(i,len(i))"
   ]
  },
  {
   "cell_type": "markdown",
   "metadata": {},
   "source": [
    "# Q14.\n",
    "\n",
    "반복문을 사용해서, num에서 홀수만 출력하는 코드를 만드세요.\n",
    "\n",
    "```pyhon\n",
    "num = [1,2,3,4,5,6,7,8,9,10]\n",
    "```"
   ]
  },
  {
   "cell_type": "code",
   "execution_count": 64,
   "metadata": {},
   "outputs": [
    {
     "data": {
      "text/plain": [
       "[1, 3, 5, 7, 9]"
      ]
     },
     "execution_count": 64,
     "metadata": {},
     "output_type": "execute_result"
    }
   ],
   "source": [
    "num = [1,2,3,4,5,6,7,8,9,10]\n",
    "odd = []\n",
    "for i in num:\n",
    "    if i%2 == 1:\n",
    "        odd.append(i)\n",
    "odd"
   ]
  },
  {
   "cell_type": "code",
   "execution_count": 27,
   "metadata": {},
   "outputs": [
    {
     "data": {
      "text/plain": [
       "[True, False, True, False, True, False, True, False, True, False]"
      ]
     },
     "execution_count": 27,
     "metadata": {},
     "output_type": "execute_result"
    }
   ],
   "source": [
    "odd = [ i%2 == 1 for i in [1,2,3,4,5,6,7,8,9,10]]\n",
    "odd"
   ]
  },
  {
   "cell_type": "code",
   "execution_count": 69,
   "metadata": {},
   "outputs": [
    {
     "data": {
      "text/plain": [
       "[1, 3, 5, 7, 9]"
      ]
     },
     "execution_count": 69,
     "metadata": {},
     "output_type": "execute_result"
    }
   ],
   "source": [
    "odd = [i for i in range(1,11) if i%2==1 ]\n",
    "odd"
   ]
  },
  {
   "cell_type": "markdown",
   "metadata": {},
   "source": [
    "# Q15.\n",
    "\n",
    "반복문을 사용해서, Q14.의 num에서 `1, 2, 3을 제외하고` 출력해주세요."
   ]
  },
  {
   "cell_type": "code",
   "execution_count": 68,
   "metadata": {},
   "outputs": [
    {
     "data": {
      "text/plain": [
       "[4, 5, 6, 7, 8, 9, 10]"
      ]
     },
     "execution_count": 68,
     "metadata": {},
     "output_type": "execute_result"
    }
   ],
   "source": [
    "num = [1,2,3,4,5,6,7,8,9,10]\n",
    "a = []\n",
    "for i in num:\n",
    "    if i>3:\n",
    "        a.append(i)\n",
    "a"
   ]
  },
  {
   "cell_type": "code",
   "execution_count": 70,
   "metadata": {},
   "outputs": [
    {
     "data": {
      "text/plain": [
       "[4, 5, 6, 7, 8, 9, 10]"
      ]
     },
     "execution_count": 70,
     "metadata": {},
     "output_type": "execute_result"
    }
   ],
   "source": [
    "odd = [i for i in range(1,11) if i>3]\n",
    "odd"
   ]
  },
  {
   "cell_type": "markdown",
   "metadata": {},
   "source": [
    "# Q16\n",
    "아래의 num 리스트를 결과와 같이 바꿔주세요.\n",
    "\n",
    "```python\n",
    "num = [12.5, 33.03, 20.78, 35.12]```\n",
    "\n",
    "결과: `[12, 33, 20, 35]`"
   ]
  },
  {
   "cell_type": "code",
   "execution_count": 98,
   "metadata": {
    "scrolled": true
   },
   "outputs": [
    {
     "data": {
      "text/plain": [
       "[12, 33, 20, 35]"
      ]
     },
     "execution_count": 98,
     "metadata": {},
     "output_type": "execute_result"
    }
   ],
   "source": [
    "num = [12.5, 33.03, 20.78, 35.12]\n",
    "결과 = []\n",
    "for i in num:\n",
    "    결과.append(int(i))\n",
    "결과        "
   ]
  },
  {
   "cell_type": "code",
   "execution_count": 81,
   "metadata": {
    "scrolled": true
   },
   "outputs": [
    {
     "data": {
      "text/plain": [
       "13"
      ]
     },
     "execution_count": 81,
     "metadata": {},
     "output_type": "execute_result"
    }
   ],
   "source": [
    "round(13.4)"
   ]
  },
  {
   "cell_type": "code",
   "execution_count": 89,
   "metadata": {
    "scrolled": true
   },
   "outputs": [
    {
     "data": {
      "text/plain": [
       "13"
      ]
     },
     "execution_count": 89,
     "metadata": {},
     "output_type": "execute_result"
    }
   ],
   "source": [
    "int(13.4)"
   ]
  },
  {
   "cell_type": "code",
   "execution_count": 94,
   "metadata": {},
   "outputs": [
    {
     "data": {
      "text/plain": [
       "[12, 33, 20, 35]"
      ]
     },
     "execution_count": 94,
     "metadata": {},
     "output_type": "execute_result"
    }
   ],
   "source": [
    "num = [12.5, 33.03, 20.78, 35.12]\n",
    "결과 = [ int(i) for i in num]\n",
    "결과"
   ]
  },
  {
   "cell_type": "markdown",
   "metadata": {},
   "source": [
    "# Q17.\n",
    "\n",
    "김계란씨는 회사에서 문서분류 직무를 맡고 있다. 김계란씨는 일일이 문서 확장자를 확인하며 같은 확장자끼리 분류했다. 문서분류량이 엄청난 날에는 야근하기가 일쑤였다.\n",
    "\n",
    "이대로는 안돼겠다고 생각한 김계란씨는 최근에 소프트스퀘어드에서 프로그래밍을 배우기 시작했다.\n",
    "\n",
    "프로그래밍을 배우고 난 뒤로부터는 매일 칼퇴근을 하고 취미생활까지 할 여유가 생겼다고 한다.\n",
    "\n",
    "김계란씨가 평소 하는 일은 다음과 같다.\n",
    "\n",
    "1. 김계란씨의 회사엔 `txt, py, java`  이렇게 3가지의 파일이 존재한다.\n",
    "2. 김계란씨는 확장자가 같은 파일을 동일한 리스트에 보관한다.\n",
    "\n",
    "```python\n",
    "messy_files = [\"wow.py\", \"test.txt\", \"haha.java\", \"really_final.py\", \"real_really_final.java\", \"test2.py\", \"whatthef.txt\"]\n",
    "```\n",
    "\n",
    "햇살 좋은 어느날, 김계란씨는 직장 상사 유정란씨로부터 `messy_files`를 분류해달라는 부탁을 받았다. 김계란씨는 피식 웃으며 자신감있게 도와주겠다고 말했다.\n",
    "\n",
    "문제 : 김계란씨의 체면이 구겨지지 않도록 `txt, py, java` 각각 확장자에 따라 text, python, java라는 변수명을 가진 리스트에 분류하는 코드를 작성해주세요."
   ]
  },
  {
   "cell_type": "code",
   "execution_count": 115,
   "metadata": {},
   "outputs": [
    {
     "name": "stdout",
     "output_type": "stream",
     "text": [
      "messy_files_py: ['wow.py', 'really_final.py', 'test2.py']\n",
      "messy_files_txt: ['test.txt', 'whatthef.txt']\n",
      "messy_files_java: ['haha.java', 'real_really_final.java']\n"
     ]
    }
   ],
   "source": [
    "messy_files = [\"wow.py\", \"test.txt\", \"haha.java\", \"really_final.py\", \"real_really_final.java\", \"test2.py\", \"whatthef.txt\"]\n",
    "py = [file for file in messy_files if file.endswith(\".py\")]\n",
    "txt = [file for file in messy_files if file.endswith(\".txt\")]\n",
    "java = [file for file in messy_files if file.endswith(\".java\")]\n",
    "print (\"messy_files_py: {}\".format(py))\n",
    "print (\"messy_files_txt: {}\".format(txt))\n",
    "print (\"messy_files_java: {}\".format(java))"
   ]
  },
  {
   "cell_type": "markdown",
   "metadata": {},
   "source": [
    "# Q18.\n",
    "\n",
    "for문의 중첩을 활용해서\n",
    "\n",
    "`1, 2, 3, 4`\n",
    "\n",
    "`5, 6, 7, 8`\n",
    "\n",
    "`9, 10, 11, 12`\n",
    "\n",
    "`13, 14, 15, 16`\n",
    "\n",
    "위와 같은 결과를 만들어 봅시다!\n",
    "\n",
    "```python\n",
    "# 참고\n",
    "for row in range(4): # 행의 갯수와\n",
    "    # 빈 리스트를 만들고\n",
    "    for col in range(4): #열의 갯수만큼 반복합니다.\n",
    "        # 각 요소는 row와 col과 어떤 관계가 있을까요? \n",
    "```"
   ]
  },
  {
   "cell_type": "code",
   "execution_count": 2,
   "metadata": {
    "scrolled": true
   },
   "outputs": [
    {
     "name": "stdout",
     "output_type": "stream",
     "text": [
      "[1, 2, 3, 4]\n",
      "[5, 6, 7, 8]\n",
      "[9, 10, 11, 12]\n",
      "[13, 14, 15, 16]\n"
     ]
    }
   ],
   "source": [
    "for row in range(4):\n",
    "    line=[]\n",
    "    for col in range(4):\n",
    "        line.append(4*row +col + 1)\n",
    "    print(line)"
   ]
  },
  {
   "cell_type": "markdown",
   "metadata": {},
   "source": [
    "# Q19.\n",
    "\n",
    "사용자로부터 `1~9`정수를 입력 받습니다.\n",
    "그리고 입력 받은 정수에 해당하는 구구단을 만들어봅시다.\n",
    "\n",
    "`단, 입력값은 무조건 정수라고 가정합니다.\n",
    " 단, 1~9 정수가 아니면 다시 입력을 받아야합니다.`\n",
    "\n",
    "```python\n",
    "\n",
    "# 실행 예시\n",
    "\n",
    "1~9 정수를 입력하세요 : 10\n",
    "1~9 정수를 입력하세요 : 20\n",
    "1~9 정수를 입력하세요 : 5\n",
    "5*1 = 5\n",
    "5*2 = 10\n",
    "~~\n",
    "5*9 = 45\n",
    " \n",
    "\n",
    "```"
   ]
  },
  {
   "cell_type": "code",
   "execution_count": 87,
   "metadata": {
    "scrolled": false
   },
   "outputs": [
    {
     "name": "stdout",
     "output_type": "stream",
     "text": [
      "숫자를 입력하세요.77\n",
      "숫자를 재입력하세요.11\n",
      "숫자를 재입력하세요.2\n",
      "2*1 = 2\n",
      "2*2 = 4\n",
      "2*3 = 6\n",
      "2*4 = 8\n",
      "2*5 = 10\n",
      "2*6 = 12\n",
      "2*7 = 14\n",
      "2*8 = 16\n",
      "2*9 = 18\n"
     ]
    }
   ],
   "source": [
    "number = int(input(\"숫자를 입력하세요.\"))\n",
    "\n",
    "while True :\n",
    "    if 1 <= number <= 9:\n",
    "        for j in range(1,10):\n",
    "            print(f\"{number}*{j} = {number*j}\")\n",
    "        break\n",
    "    else :\n",
    "        number = int(input(\"숫자를 재입력하세요.\"))\n",
    "        continue"
   ]
  },
  {
   "cell_type": "markdown",
   "metadata": {},
   "source": [
    "# Q20.\n",
    "\n",
    "김계란씨는 운동을 좋아합니다. 그의 취미는 사람들이 `N`번! 이라고 외치면 스쿼트를 `N`번 하는 것이라고 합니다.\n",
    "\n",
    "`단, 김계란씨도 사람이기 때문에 한번에 100회 초과는 힘들다고 합니다. 즉, 1~100 사이의 정수를 입력 받아야 합니다.`\n",
    "\n",
    "```python\n",
    "\n",
    "# 실행 예시\n",
    "\n",
    "스쿼트를 몇 회 할까요? -1\n",
    "스쿼트를 몇 회 할까요? 200\n",
    "스쿼트를 몇 회 할까요? 3\n",
    "으쌰!! 스쿼트 1회\n",
    "으쌰!! 스쿼트 2회\n",
    "으쌰!! 스쿼트 3회\n",
    "하체 운동 끝\n",
    "```"
   ]
  },
  {
   "cell_type": "code",
   "execution_count": 95,
   "metadata": {
    "scrolled": false
   },
   "outputs": [
    {
     "name": "stdout",
     "output_type": "stream",
     "text": [
      "스쿼트를 몇 회 할까요?200\n",
      "스쿼트를 몇 회 할까요?2\n",
      "으쌰!! 스쿼트 2회\n",
      "하체 운동 끝\n"
     ]
    }
   ],
   "source": [
    "squart = int(input(\"스쿼트를 몇 회 할까요?\"))\n",
    "while True :\n",
    "    if 1<=squart<=100:\n",
    "        print(f\"으쌰!! 스쿼트 {squart}회\")\n",
    "        print(\"하체 운동 끝\")\n",
    "        break\n",
    "    else :\n",
    "        squart = int(input(\"스쿼트를 몇 회 할까요?\"))"
   ]
  },
  {
   "cell_type": "markdown",
   "metadata": {},
   "source": [
    "# 함수"
   ]
  },
  {
   "cell_type": "markdown",
   "metadata": {},
   "source": [
    "# Q21.\n",
    "\n",
    "다음 조건에 맞는 함수를 작성하세요.\n",
    "\n",
    "```함수명: y\n",
    "input: x (단, x는 실수 ex, 1, 1.2, 5, 100)\n",
    "output:2x+1 ```"
   ]
  },
  {
   "cell_type": "code",
   "execution_count": 108,
   "metadata": {
    "scrolled": true
   },
   "outputs": [],
   "source": [
    "def y(x):\n",
    "    return 2*x + 1"
   ]
  },
  {
   "cell_type": "code",
   "execution_count": 110,
   "metadata": {},
   "outputs": [
    {
     "data": {
      "text/plain": [
       "3.4"
      ]
     },
     "execution_count": 110,
     "metadata": {},
     "output_type": "execute_result"
    }
   ],
   "source": [
    "y(1.2)"
   ]
  },
  {
   "cell_type": "markdown",
   "metadata": {},
   "source": [
    "# Q22.\n",
    "\n",
    "운동 이름과 횟수를 입력 매개변수(parameter)로 하는 함수를 만들어서 실행 해보세요. 단, 운동 횟수를 입력하지 않으면 자동으로 3회를 실행하는 함수를 만들어야합니다.\n",
    "\n",
    "<a href =\"http://studymake.blogspot.com/2015/05/default-parameter.html\">참고자료</a>\n",
    "\n",
    "\n",
    "`hint`\n",
    "```python\n",
    "# 다음과 같이 매개변수에 기본값을 지정할 수 있습니다.\n",
    "def func(a=\"default\"):\n",
    "~~\n",
    "```\n",
    "\n",
    "```python\n",
    "\n",
    "# 실행예시\n",
    "\n",
    "exercise(\"팔굽혀펴기\", 2)\n",
    "    팔굽혀펴기를(을) 1회 실시!\n",
    "    팔굽혀펴기를(을) 2회 실시!\n",
    "    운동을 끝냈습니다.\n",
    "    \n",
    "exercise(\"팔굽혀펴기\")\n",
    "    팔굽혀펴기를(을) 1회 실시!\n",
    "    팔굽혀펴기를(을) 2회 실시!\n",
    "    팔굽혀펴기를(을) 3회 실시!\n",
    "    운동을 끝냈습니다.\n",
    "    \n",
    "```"
   ]
  },
  {
   "cell_type": "code",
   "execution_count": 65,
   "metadata": {
    "scrolled": true
   },
   "outputs": [],
   "source": [
    "def exercise(팔굽혀펴기,a=3):\n",
    "    for i in range(a):\n",
    "        print(f\"팔굽혀펴기를(을) {i+1} 회 실시!\")\n",
    "    print(\"운동을 끝냈습니다.\")"
   ]
  },
  {
   "cell_type": "code",
   "execution_count": 67,
   "metadata": {
    "scrolled": false
   },
   "outputs": [
    {
     "name": "stdout",
     "output_type": "stream",
     "text": [
      "팔굽혀펴기를(을) 1 회 실시!\n",
      "팔굽혀펴기를(을) 2 회 실시!\n",
      "팔굽혀펴기를(을) 3 회 실시!\n",
      "팔굽혀펴기를(을) 4 회 실시!\n",
      "팔굽혀펴기를(을) 5 회 실시!\n",
      "팔굽혀펴기를(을) 6 회 실시!\n",
      "팔굽혀펴기를(을) 7 회 실시!\n",
      "운동을 끝냈습니다.\n"
     ]
    }
   ],
   "source": [
    "exercise(\"팔굽혀펴기\",7)"
   ]
  },
  {
   "cell_type": "code",
   "execution_count": 61,
   "metadata": {},
   "outputs": [
    {
     "name": "stdout",
     "output_type": "stream",
     "text": [
      "팔굽혀펴기를 몇회할까요?0\n",
      "팔굽혀펴기를(을) 1 회 실시!\n",
      "팔굽혀펴기를(을) 2 회 실시!\n",
      "팔굽혀펴기를(을) 3 회 실시!\n",
      "운동을 끝냈습니다.\n"
     ]
    }
   ],
   "source": [
    "a=int(input(\"팔굽혀펴기를 몇회할까요?\"))\n",
    "if a==0:\n",
    "    a=3\n",
    "결과 = [print(f\"팔굽혀펴기를(을) {i+1} 회 실시!\") for i in range(a)]\n",
    "print(\"운동을 끝냈습니다.\")"
   ]
  },
  {
   "cell_type": "code",
   "execution_count": 80,
   "metadata": {},
   "outputs": [],
   "source": [
    "def exersice(운동종류, 운동횟수=3):\n",
    "    for i in range(운동횟수):\n",
    "        print(f\"{운동종류}를(을) {i+1}번 실시\")\n",
    "    print(\"운동을 끝냈습니다.\")"
   ]
  },
  {
   "cell_type": "code",
   "execution_count": 85,
   "metadata": {},
   "outputs": [
    {
     "name": "stdout",
     "output_type": "stream",
     "text": [
      "팔굽혀펴기를(을) 1 회 실시!\n",
      "팔굽혀펴기를(을) 2 회 실시!\n",
      "팔굽혀펴기를(을) 3 회 실시!\n",
      "팔굽혀펴기를(을) 4 회 실시!\n",
      "운동을 끝냈습니다.\n"
     ]
    }
   ],
   "source": [
    "exercise(\"팔굽혀펴기\",4)"
   ]
  },
  {
   "cell_type": "markdown",
   "metadata": {},
   "source": [
    "# Q23.\n",
    "\n",
    "정렬되지 않은 리스트를 매개변수로 전달했을 때, 정렬된 리스트가 반환되는 함수를 작성하세요.\n",
    "\n",
    "```python\n",
    "\n",
    "# 실행 예시\n",
    "\n",
    "unordered = [5, 4, 2 ,10, 7, 3]\n",
    "sorting(unordered)\n",
    "    \n",
    "    [2, 3, 4, 5, 7, 10]\n",
    "```"
   ]
  },
  {
   "cell_type": "code",
   "execution_count": 226,
   "metadata": {},
   "outputs": [
    {
     "data": {
      "text/plain": [
       "[2, 3, 4, 5, 7, 10]"
      ]
     },
     "execution_count": 226,
     "metadata": {},
     "output_type": "execute_result"
    }
   ],
   "source": [
    "def a(*args):\n",
    "    new_list = []\n",
    "    for i in args:\n",
    "        new_list.append(i)\n",
    "    return sorted(new_list)\n",
    "a(5, 4, 2 ,10, 7, 3)"
   ]
  },
  {
   "cell_type": "code",
   "execution_count": 229,
   "metadata": {},
   "outputs": [
    {
     "name": "stdout",
     "output_type": "stream",
     "text": [
      "[4, 3, 2, 1, 0]\n",
      "[0, 1, 2, 3, 4]\n"
     ]
    }
   ],
   "source": [
    "lst = [ i for i in range(5)]\n",
    "print(list(reversed(lst))) \n",
    "print(lst) "
   ]
  },
  {
   "cell_type": "code",
   "execution_count": 235,
   "metadata": {},
   "outputs": [
    {
     "name": "stdout",
     "output_type": "stream",
     "text": [
      "[3, 7, 10, 2, 4, 5]\n",
      "[10, 7, 5, 4, 3, 2]\n"
     ]
    }
   ],
   "source": [
    "a=(5, 4, 2 ,10, 7, 3)\n",
    "print(list(reversed(a)))\n",
    "b = sorted(a, reverse=True)\n",
    "print(b)"
   ]
  },
  {
   "cell_type": "code",
   "execution_count": 238,
   "metadata": {},
   "outputs": [
    {
     "ename": "AttributeError",
     "evalue": "'tuple' object has no attribute 'sort'",
     "output_type": "error",
     "traceback": [
      "\u001b[1;31m---------------------------------------------------------------------------\u001b[0m",
      "\u001b[1;31mAttributeError\u001b[0m                            Traceback (most recent call last)",
      "\u001b[1;32m<ipython-input-238-51f5e9e78b61>\u001b[0m in \u001b[0;36m<module>\u001b[1;34m\u001b[0m\n\u001b[0;32m      1\u001b[0m \u001b[0ma\u001b[0m\u001b[1;33m=\u001b[0m\u001b[1;33m(\u001b[0m\u001b[1;36m5\u001b[0m\u001b[1;33m,\u001b[0m \u001b[1;36m4\u001b[0m\u001b[1;33m,\u001b[0m \u001b[1;36m2\u001b[0m \u001b[1;33m,\u001b[0m\u001b[1;36m10\u001b[0m\u001b[1;33m,\u001b[0m \u001b[1;36m7\u001b[0m\u001b[1;33m,\u001b[0m \u001b[1;36m3\u001b[0m\u001b[1;33m)\u001b[0m\u001b[1;33m\u001b[0m\u001b[1;33m\u001b[0m\u001b[0m\n\u001b[1;32m----> 2\u001b[1;33m \u001b[0ma\u001b[0m\u001b[1;33m.\u001b[0m\u001b[0msort\u001b[0m\u001b[1;33m(\u001b[0m\u001b[0mreverse\u001b[0m\u001b[1;33m=\u001b[0m\u001b[1;32mTrue\u001b[0m\u001b[1;33m)\u001b[0m\u001b[1;33m\u001b[0m\u001b[1;33m\u001b[0m\u001b[0m\n\u001b[0m\u001b[0;32m      3\u001b[0m \u001b[0ma\u001b[0m\u001b[1;33m\u001b[0m\u001b[1;33m\u001b[0m\u001b[0m\n",
      "\u001b[1;31mAttributeError\u001b[0m: 'tuple' object has no attribute 'sort'"
     ]
    }
   ],
   "source": [
    "a=(5, 4, 2 ,10, 7, 3)\n",
    "a.sort(reverse=True)\n",
    "a"
   ]
  },
  {
   "cell_type": "markdown",
   "metadata": {},
   "source": [
    "# Q24.\n",
    "\n",
    "\n",
    "함수에 두 개의 숫자를 전달 했을 때 사칙연산(더하기, 빼기, 곱하기, 나누기)을 수행하는 함수를 만드세요.\n",
    "\n",
    "`(함수명, 변수명 등은 자유롭게)`"
   ]
  },
  {
   "cell_type": "code",
   "execution_count": 127,
   "metadata": {},
   "outputs": [],
   "source": [
    "def y(a,b):\n",
    "    return a+b, a-b, a*b, a/b"
   ]
  },
  {
   "cell_type": "code",
   "execution_count": 128,
   "metadata": {},
   "outputs": [
    {
     "data": {
      "text/plain": [
       "(5, -1, 6, 0.6666666666666666)"
      ]
     },
     "execution_count": 128,
     "metadata": {},
     "output_type": "execute_result"
    }
   ],
   "source": [
    "y(2,3)"
   ]
  },
  {
   "cell_type": "markdown",
   "metadata": {},
   "source": [
    "# Q25.\n",
    "\n",
    "다음의 조건에 맞는 함수를 작성하세요.\n",
    "\n",
    "1. 함수명: email_classification\n",
    "2. input: 이메일 주소 리스트 (ex, `[abc132@naver.com, wow880@gmail.com, hahahahaha@naver.com]`)\n",
    "3. ouput: key값이 메일사이트(naver, gmail), value가 id리스트인 딕셔너리\n",
    "\n",
    "\n",
    "`단, 메일 사이트는 naver와 gamail 두개 밖에 존재하지 않는다고 가정한다.`\n",
    "\n",
    "```python\n",
    "\n",
    "#실행예시\n",
    "\n",
    "email_claissification(['abc132@naver.com', 'wow880@gmail.com', 'hahahahaha@naver.com'])\n",
    "\n",
    "# 결과\n",
    "{'naver':['abc123', 'hahahahahaha'], 'gmail':['wow880']}\n",
    "    \n",
    "\n",
    "\n",
    "```"
   ]
  },
  {
   "cell_type": "code",
   "execution_count": 41,
   "metadata": {
    "scrolled": true
   },
   "outputs": [],
   "source": [
    "import re\n",
    "def  email_classification(*agrs):\n",
    "    for i in agrs:\n",
    "        b=','.join(i)\n",
    "        print(b)\n",
    "        result = re.split(r\"@|,|／\",b )\n",
    "        print(result)"
   ]
  },
  {
   "cell_type": "code",
   "execution_count": 42,
   "metadata": {
    "scrolled": false
   },
   "outputs": [
    {
     "name": "stdout",
     "output_type": "stream",
     "text": [
      "abc132@naver.com,wow880@gmail.com,hahahahaha@naver.com\n",
      "['abc132', 'naver.com', 'wow880', 'gmail.com', 'hahahahaha', 'naver.com']\n"
     ]
    }
   ],
   "source": [
    "email_classification(['abc132@naver.com', 'wow880@gmail.com', 'hahahahaha@naver.com'])"
   ]
  },
  {
   "cell_type": "code",
   "execution_count": 11,
   "metadata": {
    "scrolled": true
   },
   "outputs": [
    {
     "name": "stdout",
     "output_type": "stream",
     "text": [
      "abc132@naver.com,wow880@gmail.com,hahahahaha@naver.com\n",
      "['abc132', 'naver.com', 'wow880', 'gmail.com', 'hahahahaha', 'naver.com']\n"
     ]
    }
   ],
   "source": [
    "import re\n",
    "\n",
    "a=(['abc132@naver.com', 'wow880@gmail.com', 'hahahahaha@naver.com'])\n",
    "b=\",\".join(a)\n",
    "print(b)\n",
    "result = re.split(r\"@|,|／\",b )\n",
    "\n",
    "print(result)"
   ]
  },
  {
   "cell_type": "code",
   "execution_count": 6,
   "metadata": {
    "scrolled": true
   },
   "outputs": [
    {
     "name": "stdout",
     "output_type": "stream",
     "text": [
      "aa\n",
      "bb\n",
      "dd\n",
      "ee\n"
     ]
    }
   ],
   "source": [
    "a = [\"aa@bb.c\", \"dd@ee.f\"]\n",
    "for i in a:\n",
    "    split = i.split(\"@\")\n",
    "    head = split[0]\n",
    "    body = split[1].split(\".\")[0]\n",
    "    print(head)\n",
    "    print(body)"
   ]
  },
  {
   "cell_type": "code",
   "execution_count": null,
   "metadata": {},
   "outputs": [],
   "source": [
    "        a=re.split(r\"@|,|／\",b)\n",
    "        print(a)\n",
    "         b=','.join(i)"
   ]
  },
  {
   "cell_type": "code",
   "execution_count": null,
   "metadata": {},
   "outputs": [],
   "source": [
    "input_email = input(\"이메일 주소를 입력하세요: \")\n",
    "input_email = eval('[' + input_email + ']')\n",
    "result = {'naver' : [], 'gmail':[]}\n",
    "\n",
    "def email_classification(input_email):\n",
    "    \n",
    "    for i in range(len(input_email[0])):\n",
    "        \n",
    "        at_sign_index = input_email[0][i].find(\"@\")\n",
    "        dot_index = input_email[0][i].find(\".\")\n",
    "        \n",
    "        if input_email\n",
    "    \n",
    "    "
   ]
  },
  {
   "cell_type": "code",
   "execution_count": 5,
   "metadata": {},
   "outputs": [
    {
     "name": "stdout",
     "output_type": "stream",
     "text": [
      "이메일 주소를 입력하세요: ['abc132@naver.com', 'wow880@gmail.com', 'hahahahaha@naver.com']\n"
     ]
    }
   ],
   "source": [
    "input_email = input(\"이메일 주소를 입력하세요: \")\n",
    "input_email = eval('[' + input_email + ']')"
   ]
  },
  {
   "cell_type": "code",
   "execution_count": 47,
   "metadata": {},
   "outputs": [
    {
     "name": "stdout",
     "output_type": "stream",
     "text": [
      "['wow880']\n",
      "['wow880', 'wow880']\n",
      "['wow880', 'wow880', 'wow880']\n",
      "['wow880@gmail.com']\n",
      "['abc132@naver.com', 'hahahahaha@naver.com']\n"
     ]
    }
   ],
   "source": [
    "def email_classification(email):\n",
    "    \n",
    "    naver_id=[]\n",
    "    gmail_id=[]\n",
    "    \n",
    "    for file in email:\n",
    "        \n",
    "        gmail = [file for file in email if file.endswith(\"@gmail.com\")]\n",
    "        for i in gmail:\n",
    "            first = i.split(\"@\")\n",
    "            user_id = first[0]\n",
    "            naver_id.append(user_id)\n",
    "        print(naver_id)\n",
    "        naver = [file for file in email if file.endswith(\"@naver.com\")]\n",
    "    print(gmail)\n",
    "    print(naver)\n",
    "        \n",
    "\n",
    "email_classification(['abc132@naver.com', 'wow880@gmail.com', 'hahahahaha@naver.com'])"
   ]
  },
  {
   "cell_type": "code",
   "execution_count": 32,
   "metadata": {},
   "outputs": [
    {
     "name": "stdout",
     "output_type": "stream",
     "text": [
      "['abc132@naver.com', 'hahahahaha@naver.com']\n",
      "['wow880@gmail.com']\n"
     ]
    }
   ],
   "source": [
    "email_classification = (['abc132@naver.com', 'wow880@gmail.com', 'hahahahaha@naver.com'])\n",
    "gmail = [file for file in email_classification if file.endswith(\"@gmail.com\")]\n",
    "naver = [file for file in email_classification if file.endswith(\"@naver.com\")]\n",
    "print(naver)\n",
    "print(gmail)"
   ]
  },
  {
   "cell_type": "code",
   "execution_count": null,
   "metadata": {},
   "outputs": [],
   "source": []
  },
  {
   "cell_type": "code",
   "execution_count": null,
   "metadata": {},
   "outputs": [],
   "source": []
  }
 ],
 "metadata": {
  "kernelspec": {
   "display_name": "Python 3",
   "language": "python",
   "name": "python3"
  },
  "language_info": {
   "codemirror_mode": {
    "name": "ipython",
    "version": 3
   },
   "file_extension": ".py",
   "mimetype": "text/x-python",
   "name": "python",
   "nbconvert_exporter": "python",
   "pygments_lexer": "ipython3",
   "version": "3.7.4"
  }
 },
 "nbformat": 4,
 "nbformat_minor": 2
}
