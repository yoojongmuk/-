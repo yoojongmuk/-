{
 "cells": [
  {
   "cell_type": "markdown",
   "metadata": {},
   "source": [
    "# 우선, 주피터 노트북 사용법을 간단히 알아봅시다.\n",
    "\n",
    "1. 파일 이름 설정\n",
    "2. 셀 추가(위, 아래), 셀 삭제, 셀 실행\n",
    "3. 마크다운 모드\n",
    "4. 주석 만들기"
   ]
  },
  {
   "cell_type": "code",
   "execution_count": null,
   "metadata": {},
   "outputs": [],
   "source": []
  },
  {
   "cell_type": "code",
   "execution_count": null,
   "metadata": {},
   "outputs": [],
   "source": []
  },
  {
   "cell_type": "code",
   "execution_count": null,
   "metadata": {},
   "outputs": [],
   "source": []
  },
  {
   "cell_type": "markdown",
   "metadata": {},
   "source": [
    "# 헬로 월드 !! 출력하기\n",
    "\n",
    "통상, 관례적으로 언어를 새로 배울때 처음하는건 Hello World를 그 언어의 문법에 맞게 출력해보는 것입니다. 우리도 한번 해보자구요!"
   ]
  },
  {
   "cell_type": "code",
   "execution_count": null,
   "metadata": {},
   "outputs": [],
   "source": [
    "# Hello, World 출력,"
   ]
  },
  {
   "cell_type": "markdown",
   "metadata": {},
   "source": [
    "문법 오류가 발생합니다."
   ]
  },
  {
   "cell_type": "code",
   "execution_count": null,
   "metadata": {
    "scrolled": true
   },
   "outputs": [],
   "source": [
    "print(\"Hello World!\")"
   ]
  },
  {
   "cell_type": "markdown",
   "metadata": {},
   "source": [
    "print() 함수를 이용해 문자열을 출력하고 싶을때는 반드시 큰따옴표(\"\")혹은 작은따옴표('')로 감싸줘야 합니다.\n",
    "\n",
    "그렇지 않으면, 파이썬에서는 그것을 변수로 인식합니다."
   ]
  },
  {
   "cell_type": "markdown",
   "metadata": {},
   "source": [
    "# Before we go,\n",
    "\n",
    "프로그래밍을 할 때는 자료형, 즉 데이터의 타입을 주의 해야합니다.\n",
    "\n",
    "사람에겐, 1과 \"1\"이 같은 의미일지언정, 컴퓨터에게는 다릅니다. 즉, 데이터 타입을 항상 신경써야 합니다.\n",
    "\n",
    "다행히 파이썬은 동적 데이터 타입 결정을 지원하기 때문에 다른 언어에 비해 신경쓸 것이 적지만, 데이터 타입의 개념과 그 의미를 알고 가야합니다."
   ]
  },
  {
   "cell_type": "markdown",
   "metadata": {},
   "source": [
    "# 1. 파이썬 사칙연산과 숫자형 자료,\n",
    "\n",
    "### + : 더하기\n",
    "\n",
    "### - : 빼기\n",
    "\n",
    "### / : 나누기\n",
    "\n",
    "### * : 곱하기\n",
    "\n",
    "### //: 몫 구하기\n",
    "\n",
    "### % : 나머지 구하기"
   ]
  },
  {
   "cell_type": "code",
   "execution_count": null,
   "metadata": {},
   "outputs": [],
   "source": [
    "# 더하기\n",
    "\n"
   ]
  },
  {
   "cell_type": "code",
   "execution_count": null,
   "metadata": {},
   "outputs": [],
   "source": [
    "# 빼기\n",
    "\n"
   ]
  },
  {
   "cell_type": "code",
   "execution_count": null,
   "metadata": {},
   "outputs": [],
   "source": [
    "# 나누기\n",
    "\n"
   ]
  },
  {
   "cell_type": "code",
   "execution_count": null,
   "metadata": {},
   "outputs": [],
   "source": [
    "# 곱하기\n",
    "\n"
   ]
  },
  {
   "cell_type": "code",
   "execution_count": null,
   "metadata": {},
   "outputs": [],
   "source": [
    "# 몫 구하기\n",
    "\n"
   ]
  },
  {
   "cell_type": "code",
   "execution_count": null,
   "metadata": {},
   "outputs": [],
   "source": [
    "# 나머지 구하기\n",
    "\n"
   ]
  },
  {
   "cell_type": "markdown",
   "metadata": {},
   "source": [
    "### 정수형 자료, int"
   ]
  },
  {
   "cell_type": "code",
   "execution_count": null,
   "metadata": {
    "scrolled": true
   },
   "outputs": [],
   "source": [
    "print(type(1))"
   ]
  },
  {
   "cell_type": "markdown",
   "metadata": {},
   "source": [
    "### 실수형 자료, float"
   ]
  },
  {
   "cell_type": "code",
   "execution_count": null,
   "metadata": {},
   "outputs": [],
   "source": [
    "print(type(1.2))"
   ]
  },
  {
   "cell_type": "markdown",
   "metadata": {},
   "source": [
    "# 2. 문자형 자료에 대해 알아보자"
   ]
  },
  {
   "cell_type": "markdown",
   "metadata": {},
   "source": [
    "### 2-1 문자의 표현, 문자열(string type)"
   ]
  },
  {
   "cell_type": "code",
   "execution_count": null,
   "metadata": {
    "scrolled": true
   },
   "outputs": [],
   "source": [
    "# 작은따옴표, 큰따옴표로 문자열을 구분한다.\n"
   ]
  },
  {
   "cell_type": "code",
   "execution_count": null,
   "metadata": {},
   "outputs": [],
   "source": [
    "# 만약 작은따옴표안에 작은따옴표를 넣거나\n",
    "# 큰따옴표안에 큰따옴표를 넣으면 오류가 발생한다.\n",
    "\n",
    "print(\"this is john's book\")"
   ]
  },
  {
   "cell_type": "code",
   "execution_count": null,
   "metadata": {},
   "outputs": [],
   "source": [
    "# 이런 귀찮은 상황엔 따옴표 3개를 쓰는 방법도 존재한다.\n",
    "\n",
    "print('''this is john's book, oh my god!''' )"
   ]
  },
  {
   "cell_type": "markdown",
   "metadata": {},
   "source": [
    "### 2-2 문자열에서 필요한 부분을 추출하자. (인덱싱과 슬라이싱)\n",
    "\n",
    "<img src=\"https://wikidocs.net/images/page/30331/%EA%B7%B8%EB%A6%BC5.png\">\n",
    "\n",
    "\n",
    "문자열에서 특정 부분만 필요한 경우가 있습니다.\n",
    "\n",
    "* 문자열 하나를 추출하는 것을 indexing이라고 하고, \n",
    "* 특정 부분을 추출하는 것을 slicing이라고 합니다.\n",
    "\n",
    "\n",
    "슬라이싱의 기본문법\n",
    "\n",
    "[시작:끝:스텝]"
   ]
  },
  {
   "cell_type": "code",
   "execution_count": 1,
   "metadata": {
    "scrolled": true
   },
   "outputs": [
    {
     "data": {
      "text/plain": [
       "'인'"
      ]
     },
     "execution_count": 1,
     "metadata": {},
     "output_type": "execute_result"
    }
   ],
   "source": [
    "this_string = \"인덱싱과 슬라이싱을 연습해봅시다.\""
   ]
  },
  {
   "cell_type": "code",
   "execution_count": null,
   "metadata": {},
   "outputs": [],
   "source": [
    "# this_string에서 '과' 글자를 추출해봅시다."
   ]
  },
  {
   "cell_type": "code",
   "execution_count": null,
   "metadata": {},
   "outputs": [],
   "source": [
    "# this_string에서 '인덱싱' 이라는 글자를 추출해봅시다."
   ]
  },
  {
   "cell_type": "code",
   "execution_count": null,
   "metadata": {},
   "outputs": [],
   "source": [
    "# this_string에서 '슬라이싱' 이라는 글자를 추출해봅시다"
   ]
  },
  {
   "cell_type": "markdown",
   "metadata": {},
   "source": [
    "## 2-2 이스케이프 코드\n",
    "\n",
    "문자열 예제에서 여러 줄의 문장을 처리할 때 백슬래시 문자와 소문자 n을 조합한 \\n 이스케이프 코드를 사용했다. 이스케이프 코드란 프로그래밍할 때 사용할 수 있도록 미리 정의해 둔 \"문자 조합\"이다.\n",
    "\n",
    "코드\t설명\n",
    "### \\n\t문자열 안에서 줄을 바꿀 때 사용\n",
    "\n",
    "### \\t\t문자열 사이에 탭 간격을 줄 때 사용\n",
    " \\\\\t문자 \\를 그대로 표현할 때 사용\n",
    "\n",
    "\\'\t작은따옴표(')를 그대로 표현할 때 사용\n",
    "\n",
    "\\\"\t큰따옴표(\")를 그대로 표현할 때 사용\n",
    "\n",
    "\\r\t캐리지 리턴(줄 바꿈 문자, 현재 커서를 가장 앞으로 이동)\n",
    "\n",
    "\\f\t폼 피드(줄 바꿈 문자, 현재 커서를 다음 줄로 이동)\n",
    "\n",
    "\\a\t벨 소리(출력할 때 PC 스피커에서 '삑' 소리가 난다)\n",
    "\n",
    "\\b\t백 스페이스\n",
    "\n",
    "\\000\t널 문자"
   ]
  },
  {
   "cell_type": "code",
   "execution_count": null,
   "metadata": {
    "scrolled": true
   },
   "outputs": [],
   "source": [
    "# 개행문자를 한번 사용해보자. t\n",
    "\n",
    "print(\"Hi, \\nJohn!\") # 개행문자\n",
    "print(\"Hi,\\tJohn!\") # 탭간격 주기"
   ]
  },
  {
   "cell_type": "markdown",
   "metadata": {},
   "source": [
    "# 3. 변수"
   ]
  },
  {
   "cell_type": "markdown",
   "metadata": {},
   "source": [
    "### 3-1 변수의 기본 문법\n",
    "\n",
    " 변수는, 앞서 배운 숫자, 문자열 등의 데이터를 저장하는 공간입니다.\n",
    "\n",
    " 변수를 할당하는 방법은 등호(=)를 이용합니다.\n",
    "\n",
    " 변수명 = 데이터"
   ]
  },
  {
   "cell_type": "code",
   "execution_count": 3,
   "metadata": {},
   "outputs": [],
   "source": [
    "x = 1\n",
    "y = 2\n",
    "z = \"string\""
   ]
  },
  {
   "cell_type": "code",
   "execution_count": 4,
   "metadata": {
    "scrolled": true
   },
   "outputs": [
    {
     "name": "stdout",
     "output_type": "stream",
     "text": [
      "3\n"
     ]
    }
   ],
   "source": [
    "print(x+y)"
   ]
  },
  {
   "cell_type": "code",
   "execution_count": 5,
   "metadata": {},
   "outputs": [
    {
     "data": {
      "text/plain": [
       "int"
      ]
     },
     "execution_count": 5,
     "metadata": {},
     "output_type": "execute_result"
    }
   ],
   "source": [
    "type(x)"
   ]
  },
  {
   "cell_type": "code",
   "execution_count": 6,
   "metadata": {},
   "outputs": [
    {
     "data": {
      "text/plain": [
       "str"
      ]
     },
     "execution_count": 6,
     "metadata": {},
     "output_type": "execute_result"
    }
   ],
   "source": [
    "type(z)"
   ]
  },
  {
   "cell_type": "code",
   "execution_count": 8,
   "metadata": {},
   "outputs": [
    {
     "data": {
      "text/plain": [
       "str"
      ]
     },
     "execution_count": 8,
     "metadata": {},
     "output_type": "execute_result"
    }
   ],
   "source": [
    "type(str(x))"
   ]
  },
  {
   "cell_type": "code",
   "execution_count": 11,
   "metadata": {
    "scrolled": false
   },
   "outputs": [
    {
     "name": "stdout",
     "output_type": "stream",
     "text": [
      "1string\n"
     ]
    }
   ],
   "source": [
    "print(str(x)+z)"
   ]
  },
  {
   "cell_type": "markdown",
   "metadata": {},
   "source": [
    "데이터 타입이 같은 녀석들끼리만 가능합니다.\n",
    "형 변환을 해야겠죠?\n",
    "\n",
    "str()함수를 이용해 변수 x를 string 타입으로 바꿔봅시다.\n",
    "\n",
    "이외도 int(), float(), list() 등 많은 형변환 함수가 있습니다."
   ]
  },
  {
   "cell_type": "markdown",
   "metadata": {},
   "source": [
    "## 3-2 변수가 왜 필요하죠?\n",
    "\n",
    "변수를 사용하면 코드의 효율을 높일 수 있습니다.\n",
    "\n",
    "예를들어, '유기농 농장에서 따온 정말 맛있는 딸기로 만든 딸기잼' 이라는 제품이 있다고 합시다.\n",
    "\n",
    "근데, 우리는 실생활에서 이 녀석의 풀네임보단 '잼'이라고 부르고 말죠.\n",
    "\n",
    "집에 잼이 그거밖에 없단 가정하에, 잼을 가져오라하면 위 잼을 말하는 거겠죠?\n",
    "\n",
    "이게 변수의 효용입니다."
   ]
  },
  {
   "cell_type": "code",
   "execution_count": 13,
   "metadata": {},
   "outputs": [
    {
     "name": "stdout",
     "output_type": "stream",
     "text": [
      "야! '유기농 농장에서 따온 정말 맛있는 딸기로 만든 딸기잼 가져와'\n"
     ]
    }
   ],
   "source": [
    "print(\"야! '유기농 농장에서 따온 정말 맛있는 딸기로 만든 딸기잼 가져와'\")"
   ]
  },
  {
   "cell_type": "code",
   "execution_count": 12,
   "metadata": {
    "scrolled": false
   },
   "outputs": [
    {
     "name": "stdout",
     "output_type": "stream",
     "text": [
      "야 ! 유기농 농장에서 따온 정말 맛있는 딸기로 만든 딸기잼 가져와!\n",
      "저번에 먹은 유기농 농장에서 따온 정말 맛있는 딸기로 만든 딸기잼 맛있더라~\n"
     ]
    }
   ],
   "source": [
    "jam = '유기농 농장에서 따온 정말 맛있는 딸기로 만든 딸기잼'\n",
    "print(\"야 !\", jam, '가져와!')\n",
    "print(\"저번에 먹은\", jam, '맛있더라~')"
   ]
  },
  {
   "cell_type": "markdown",
   "metadata": {},
   "source": [
    "# 직접해보기! (제한시간 2분)\n",
    "\n",
    "주어진 코드를 입력하고, 같은 결과값이 출력되도록 print문을 입력하세요\n",
    "\n",
    "```python\n",
    "apple = 13\n",
    "tomato = 24\n",
    "name = '백종원'\n",
    "total_fruits = apple + tomato\n",
    "```\n",
    "\n",
    "결과: 저는 백종원입니다, 사과는 13개, 토마토는 24개, 총 37개 과일로 장사 시작했습니다."
   ]
  },
  {
   "cell_type": "markdown",
   "metadata": {},
   "source": [
    "###  정답 및 formatting 기법 설명"
   ]
  },
  {
   "cell_type": "code",
   "execution_count": 3,
   "metadata": {},
   "outputs": [
    {
     "name": "stdout",
     "output_type": "stream",
     "text": [
      "저는 백종원 입니다. 사과는 13 개,토마토는 24 개,총 37 개 과일로 장사를 시작했습니다.\n",
      "저는 백종원입니다. 사과는13개, 토마토는24개, 총37개 과일로 장사를 시작했습니다.\n",
      "저는 백종원입니다. 사과는 13개, 토마토는24개, 총 37개 과일로 장사를 시작했습니다.\n"
     ]
    }
   ],
   "source": [
    "apple = 13\n",
    "tomato = 24\n",
    "name = '백종원'\n",
    "total_fruits = apple + tomato\n",
    "\n",
    "print(\"저는\", name, '입니다.', '사과는', apple, '개,' '토마토는', tomato, '개,' '총', total_fruits, '개 과일로 장사를 시작했습니다.')\n",
    "print(\"저는 \"+name+'입니다. 사과는'+str(apple)+'개, 토마토는'+str(tomato)+'개, 총'+str(total_fruits)+'개 과일로 장사를 시작했습니다.')\n",
    "\n",
    "# 포맷팅 기법을 활용해서 작성\n",
    "print(\"저는 {0}입니다. 사과는 {1}개, 토마토는{2}개, 총 {3}개 과일로 장사를 시작했습니다.\".format(name, apple, tomato, total_fruits))"
   ]
  },
  {
   "cell_type": "markdown",
   "metadata": {},
   "source": [
    "## Tip 1.\n",
    "\n",
    "변수에는 오로지 숫자, 문자만 올 수 있는게 아닙니다. 우리가 앞으로 배울 함수, 클래스 등도 모두 담을 수 있습니다.\n",
    "그래서 변수입니다.\n",
    "\n",
    "## Tip 2.\n",
    "\n",
    "(기본 상식, 변수 이름 지정하는 방법)\n",
    "\n",
    "snake 방식\n",
    "\n",
    "this_is_bag\n",
    "\n",
    "camel 방식\n",
    "\n",
    "thisIsBag"
   ]
  },
  {
   "cell_type": "markdown",
   "metadata": {},
   "source": [
    "# 4. 비교연산과 boolean 형 자료\n",
    "\n",
    "살면서는 크고 작은지, 같은지 다른지 비교해서 참, 거짓을 가려야 하는 경우가 있습니다.\n",
    "\n",
    "이를 비교라고 하죠.\n",
    "\n",
    "파이썬의 비교연산 문법을 살펴보겠습니다.\n",
    "\n",
    "이들은 연산의 결과로 True, False라는 boolean 값을 반환합니다."
   ]
  },
  {
   "cell_type": "raw",
   "metadata": {},
   "source": [
    "== 같은가?\n",
    "!= 틀린가?, 다른가?\n",
    ">\n",
    "<\n",
    "<=\n",
    ">="
   ]
  },
  {
   "cell_type": "code",
   "execution_count": null,
   "metadata": {},
   "outputs": [],
   "source": [
    "a=1\n",
    "b=1\n",
    "print(a == b)  # == 등호 두개는 같은지 확인\n",
    "print(a != b)  # != 등호, 두개가 다른지 확인\n",
    "print(1 == 2)  # 1과 2가 같냐\n",
    "print(1 > 2)   # 부등호는 1이 2보다 크냐\n",
    "print(1 < 2)  # 1이 2보다 작냐\n",
    "print(5 >= 5) # 이상? True!!\n",
    "print(5 > 5)  # 초과? False!!\n",
    "print( True )  # True냐\n",
    "print( False ) # False냐"
   ]
  },
  {
   "cell_type": "markdown",
   "metadata": {},
   "source": [
    "# 5. 조건문 if"
   ]
  },
  {
   "cell_type": "markdown",
   "metadata": {},
   "source": [
    "여기서는 회원가입 프로그램을 만들어보죠.\n",
    "\n",
    "단, 간단히 아이디 중복 검사만 하는 것으로요!\n",
    "\n",
    "자, 기존에 a123이라는 아이디가 존재하고,\n",
    "\n",
    "새로운 아이디를 넣었을 때, 이게 기존 아이디와 겹치는지 아닌지 알아봅시다.\n",
    "\n",
    "\n",
    "이 말을 조건 형태로 정리해보면 다음과 같습니다.\n",
    "\n",
    "<b>만약, 사용자가 입력한 아이디가 기존에 아이디와 중복된다면 회원가입이 불가능하고\n",
    "그 경우가 아니라면, 회원가입이 가능하다.</b>"
   ]
  },
  {
   "cell_type": "markdown",
   "metadata": {},
   "source": [
    "```pyhton\n",
    "if 사용자 입력 아이디 == 기존 아이디:\n",
    "    회원가입 불가능 # 조건이 참(True)라면 실행한다.\n",
    "else:\n",
    "    회원가입 가능 # 위 조건이 참이 아닐 경우 실행하는 코드\n",
    "```"
   ]
  },
  {
   "cell_type": "code",
   "execution_count": null,
   "metadata": {
    "scrolled": true
   },
   "outputs": [],
   "source": [
    "exist_id = 'mmvv11'\n",
    "new_id = input('원하는 아이디를 넣어라: ')"
   ]
  },
  {
   "cell_type": "code",
   "execution_count": null,
   "metadata": {
    "scrolled": false
   },
   "outputs": [],
   "source": [
    "new_id"
   ]
  },
  {
   "cell_type": "code",
   "execution_count": null,
   "metadata": {},
   "outputs": [],
   "source": [
    "exist_id == new_id"
   ]
  },
  {
   "cell_type": "code",
   "execution_count": null,
   "metadata": {
    "scrolled": true
   },
   "outputs": [],
   "source": [
    "exist_id = 'mmvv11'  #기존 아이디\n",
    "new_id = input(\"원하는 아이디를 입력하세요: \")\n",
    "\n",
    "if exist_id == new_id :\n",
    "    print(\"이미 사용 중인 아이디입니다.\")\n",
    "else:\n",
    "    print(\"사용 가능한 아이디입니다.\")"
   ]
  },
  {
   "cell_type": "markdown",
   "metadata": {},
   "source": [
    "와우! 회원가입 어플을 만들었네요\n",
    "조건문 문법을 정리해보죠.\n",
    "\n",
    "```python\n",
    "\n",
    " if 조건:\n",
    "    (소스코드)\n",
    "     \n",
    "##\n",
    "\n",
    "if 조건:\n",
    "     (소스코드)\n",
    "else:\n",
    "     (소스코드)\n",
    "\n",
    "##\n",
    "        \n",
    "if 조건:\n",
    "     (소스코드)\n",
    "elif 조건:\n",
    "     (소스코드)\n",
    "else:\n",
    "     (소스코드)\n",
    "        ```"
   ]
  },
  {
   "cell_type": "raw",
   "metadata": {},
   "source": [
    "자, 이제 새로운 조건을 달아봅시다.\n",
    "\n",
    "조건1: 기존 아이디랑 겹치면 안됀다.\n",
    "조건2: 아이디는 최소 2글자 이상이다.\n",
    "\n",
    "여기서, 문자열의 길이를 반환하는 len() 내장 함수가 있다는 걸 알아두세요."
   ]
  },
  {
   "cell_type": "code",
   "execution_count": null,
   "metadata": {},
   "outputs": [],
   "source": [
    "exist_id = 'a123'\n",
    "new_id = input(\"원하는 아이디를 입력하세요: \")"
   ]
  },
  {
   "cell_type": "code",
   "execution_count": null,
   "metadata": {},
   "outputs": [],
   "source": [
    "a = 'this is my home'\n",
    "len(a)"
   ]
  },
  {
   "cell_type": "code",
   "execution_count": null,
   "metadata": {},
   "outputs": [],
   "source": [
    "exist_id = 'a123'  #기존 아이디\n",
    "new_id = input(\"원하는 아이디를 입력하세요: \")\n",
    "\n",
    "if exist_id == new_id :\n",
    "    print(\"이미 사용 중인 아이디입니다.\")\n",
    "elif len(new_id) < 2:\n",
    "    print(\"아이디는 최소 2글자 이상이여야 합니다.\")\n",
    "else:\n",
    "    print(\"사용 가능한 아이디입니다.\")\n",
    "    \n"
   ]
  },
  {
   "cell_type": "markdown",
   "metadata": {},
   "source": [
    "## 6. 논리 연산자\n",
    "\n",
    "지금까지 숫자, 문자열, 불리언에 대해서 배워봤습니다.\n",
    "\n",
    "이번엔 논리 연산자 and, or, not에 대해 알아봅시다."
   ]
  },
  {
   "cell_type": "markdown",
   "metadata": {},
   "source": [
    "자료형중에는, bool, boolean형 자료"
   ]
  },
  {
   "cell_type": "code",
   "execution_count": null,
   "metadata": {},
   "outputs": [],
   "source": [
    "# and 연산자, 두 값이 모두 True일때, True\n",
    "\n",
    "print(True and True) # T and T -> T\n",
    "print(True and False) # T and F -> F\n",
    "print(False and True) # F and T -> F\n",
    "print(False and False) # F and F -> F"
   ]
  },
  {
   "cell_type": "code",
   "execution_count": null,
   "metadata": {},
   "outputs": [],
   "source": [
    "print(True or True)\n",
    "print(True or False)"
   ]
  },
  {
   "cell_type": "code",
   "execution_count": null,
   "metadata": {},
   "outputs": [],
   "source": [
    "# or 연산자, 하나만이라도 True가 있을때, True\n",
    "\n",
    "print(True or True) # T or T -> T\n",
    "print(True or False) # T or F -> T\n",
    "print(False or True) # F or T -> T\n",
    "print(False or False) # F or F -> F"
   ]
  },
  {
   "cell_type": "code",
   "execution_count": null,
   "metadata": {
    "scrolled": true
   },
   "outputs": [],
   "source": [
    "# not은 논리 값의 반대입니다. not True = False, not False = True\n",
    "\n",
    "print(not True)\n",
    "print(not False)"
   ]
  },
  {
   "cell_type": "code",
   "execution_count": null,
   "metadata": {},
   "outputs": [],
   "source": [
    "(10 == 10) and (10 == 3)"
   ]
  },
  {
   "cell_type": "code",
   "execution_count": null,
   "metadata": {},
   "outputs": [],
   "source": [
    "10 == 10 and 10 == 3"
   ]
  },
  {
   "cell_type": "raw",
   "metadata": {},
   "source": [
    "(연습문제)\n",
    "real_id = a123, real_pwd = 123 이고, 사용자에게 input() 함수를 이용해서 input_id, input_pwd를 입력 받으세요.\n",
    "\n",
    "그 다음, 조건문 if를 사용해 아이디, 비밀번호가 모두(and) 일치할 경우 (비교 == !=)\n",
    "\"안녕하세요 input_id 님\"을 출력하라.\n",
    "또한, 비밀번호만 불일치할 경우, (if ,elif)\n",
    "\"비밀번호가 틀립니다.\"를 출력하라.\n",
    "또한, 아이디가 존재하지 않을 경우, (real_id != input_id)\n",
    "\"존재하지 않는 아이디입니다.\"를 출력하라.\n",
    "\n",
    "help)\n",
    "\n",
    "if 조건문(논리연산자 활용):\n",
    "    print(\"안녕하세요\" + input_id + \"님\")\n",
    "elif 조건문(논리연산자 활용):\n",
    "    print(\"비밀번호가 틀립니다.\")\n",
    "else:\n",
    "    print(\"존재하지 않는 아이디입니다.)"
   ]
  },
  {
   "cell_type": "code",
   "execution_count": null,
   "metadata": {},
   "outputs": [],
   "source": [
    "real_id = \"a123\"\n",
    "real_pwd = \"123\"\n",
    "\n",
    "input_id = input(\"아이디: \")\n",
    "input_pwd = input(\"비밀번호: \")\n",
    "\n",
    "if input_id == real_id and input_pwd == real_pwd:\n",
    "    print(\"안녕하세요 {}님\".format(real_id))\n",
    "elif input_id == real_id and input_pwd != real_pwd:\n",
    "    print(\"비밀번호가 틀렸어용\")\n",
    "else:\n",
    "    print(\"존재하지 않는 아이디입니다.\")"
   ]
  },
  {
   "cell_type": "code",
   "execution_count": null,
   "metadata": {},
   "outputs": [],
   "source": []
  },
  {
   "cell_type": "markdown",
   "metadata": {},
   "source": [
    "# 2주차 문법"
   ]
  },
  {
   "cell_type": "markdown",
   "metadata": {},
   "source": [
    "## 7. 컨테이너 자료형\n",
    "\n",
    "현실에서는 숫자 하나, 문자열만으로는 모든 데이터를 표현하기 어렵습니다.\n",
    "\n",
    "예를들어서 여러분이 네이버 직원이라고 합시다.\n",
    "\n",
    "수천, 수만명 회원의 아이디 비밀번호를 관리해야합니다. 이떄 일일이 모든 사람에게 변수를 지정하는 것은 너무 비효율적입니다.\n",
    "\n",
    "이때, 한번에 ID는 ID끼리, 비밀번호는 비밀번호끼리 컨테이너에 분류하면 효율적이겠죠."
   ]
  },
  {
   "cell_type": "markdown",
   "metadata": {},
   "source": [
    "## 7-1 리스트 자료형 [  ]"
   ]
  },
  {
   "cell_type": "markdown",
   "metadata": {},
   "source": [
    "리스트 자료형은 대괄호 [ ]를 사용해서 정의하고, 각각의 요소를 쉼표로 구분합니다."
   ]
  },
  {
   "cell_type": "code",
   "execution_count": 1,
   "metadata": {},
   "outputs": [],
   "source": [
    "a = []\n",
    "b = [1, 2, 3]\n",
    "c = [\"1\", \"2\", \"3\"]\n",
    "d = [1, 2, [1, 2]]"
   ]
  },
  {
   "cell_type": "code",
   "execution_count": 4,
   "metadata": {},
   "outputs": [
    {
     "name": "stdout",
     "output_type": "stream",
     "text": [
      "[]\n",
      "[1, 2, 3]\n",
      "['1', '2', '3']\n",
      "[1, 2, [1, 2]]\n"
     ]
    }
   ],
   "source": [
    "print(a)\n",
    "print(b)\n",
    "print(c)\n",
    "print(d)"
   ]
  },
  {
   "cell_type": "markdown",
   "metadata": {},
   "source": [
    "### 리스트의 인덱싱과 슬라이싱, [시작, 끝, 스텝]"
   ]
  },
  {
   "cell_type": "code",
   "execution_count": 54,
   "metadata": {},
   "outputs": [],
   "source": [
    "id = ['이수근', '강호동', '기묘한', '신묘한', '은지원']\n",
    "pwd = ['123', 'abc' , 'qwe', 'zxc', '111']"
   ]
  },
  {
   "cell_type": "markdown",
   "metadata": {},
   "source": [
    "인덱싱을 활용해서 신묘한과 그의 비밀번호를 출력해주세요"
   ]
  },
  {
   "cell_type": "code",
   "execution_count": 13,
   "metadata": {},
   "outputs": [
    {
     "name": "stdout",
     "output_type": "stream",
     "text": [
      "신묘한 zxc\n"
     ]
    }
   ],
   "source": [
    "print(id[3], pwd[3])"
   ]
  },
  {
   "cell_type": "markdown",
   "metadata": {},
   "source": [
    "슬라이싱을 활용해서 강호동부터 은지원의 아이디와 비밀번호를 출력해주세요."
   ]
  },
  {
   "cell_type": "code",
   "execution_count": null,
   "metadata": {},
   "outputs": [],
   "source": []
  },
  {
   "cell_type": "markdown",
   "metadata": {},
   "source": [
    "### 리스트의 수정과 삭제"
   ]
  },
  {
   "cell_type": "markdown",
   "metadata": {},
   "source": [
    "이수근님이, 갑자기 아이디를 백종원으로 바꾸고 싶다고 하면 이렇게 하면 됩니다!\n",
    "\n",
    "기존에 존재하는 리스트 항목을 바꾸고 싶을때,\n",
    "\n",
    "```python\n",
    "list[index] = \"내용\"\n",
    "```"
   ]
  },
  {
   "cell_type": "code",
   "execution_count": 55,
   "metadata": {},
   "outputs": [],
   "source": [
    "id[0] = \"백종원\""
   ]
  },
  {
   "cell_type": "code",
   "execution_count": 57,
   "metadata": {},
   "outputs": [
    {
     "data": {
      "text/plain": [
       "['백종원', '강호동', '기묘한', '신묘한', '은지원']"
      ]
     },
     "execution_count": 57,
     "metadata": {},
     "output_type": "execute_result"
    }
   ],
   "source": [
    "id"
   ]
  },
  {
   "cell_type": "markdown",
   "metadata": {},
   "source": [
    "백종원을 삭제를 하고 싶을때.\n",
    "\n",
    "```python\n",
    "\n",
    "del id[0]\n",
    "```"
   ]
  },
  {
   "cell_type": "code",
   "execution_count": 56,
   "metadata": {},
   "outputs": [],
   "source": [
    "del id[0]"
   ]
  },
  {
   "cell_type": "code",
   "execution_count": 57,
   "metadata": {},
   "outputs": [
    {
     "data": {
      "text/plain": [
       "['강호동', '기묘한', '신묘한', '은지원']"
      ]
     },
     "execution_count": 57,
     "metadata": {},
     "output_type": "execute_result"
    }
   ],
   "source": [
    "id"
   ]
  },
  {
   "cell_type": "markdown",
   "metadata": {},
   "source": [
    "### 자주 사용되는 리스트 관련 함수들"
   ]
  },
  {
   "cell_type": "markdown",
   "metadata": {},
   "source": [
    "#### 요소를 추가하거나 삭제하고 싶을 때\n",
    "\n",
    "1. append\n",
    "2. insert\n",
    "2. remove"
   ]
  },
  {
   "cell_type": "code",
   "execution_count": 20,
   "metadata": {},
   "outputs": [],
   "source": [
    "a = [1, 2, 3, 4]"
   ]
  },
  {
   "cell_type": "markdown",
   "metadata": {},
   "source": [
    "append를 활용해서 a에 5를 추가해봅니다."
   ]
  },
  {
   "cell_type": "code",
   "execution_count": 25,
   "metadata": {
    "scrolled": true
   },
   "outputs": [
    {
     "data": {
      "text/plain": [
       "[1, 2, 3, 4, 5]"
      ]
     },
     "execution_count": 25,
     "metadata": {},
     "output_type": "execute_result"
    }
   ],
   "source": [
    "a.append(5)\n",
    "a"
   ]
  },
  {
   "cell_type": "markdown",
   "metadata": {},
   "source": [
    "insert를 활용해서 a의 1번 인덱스에 100을 추가해봅시다."
   ]
  },
  {
   "cell_type": "code",
   "execution_count": 21,
   "metadata": {},
   "outputs": [
    {
     "data": {
      "text/plain": [
       "[1, 100, 2, 3, 4]"
      ]
     },
     "execution_count": 21,
     "metadata": {},
     "output_type": "execute_result"
    }
   ],
   "source": [
    "a.insert(1,100)\n",
    "a"
   ]
  },
  {
   "cell_type": "markdown",
   "metadata": {},
   "source": [
    "remove를 활용해서 a에 5를 삭제해봅니다."
   ]
  },
  {
   "cell_type": "code",
   "execution_count": 27,
   "metadata": {},
   "outputs": [
    {
     "data": {
      "text/plain": [
       "[1, 100, 2, 3, 4]"
      ]
     },
     "execution_count": 27,
     "metadata": {},
     "output_type": "execute_result"
    }
   ],
   "source": [
    "a.remove(5)\n",
    "a"
   ]
  },
  {
   "cell_type": "code",
   "execution_count": null,
   "metadata": {},
   "outputs": [],
   "source": []
  },
  {
   "cell_type": "code",
   "execution_count": null,
   "metadata": {},
   "outputs": [],
   "source": []
  },
  {
   "cell_type": "markdown",
   "metadata": {},
   "source": [
    "####  리스트 내에 요소들을 정렬하고 싶을 때\n",
    "\n",
    "1. sort\n",
    "2. sorted"
   ]
  },
  {
   "cell_type": "code",
   "execution_count": 12,
   "metadata": {},
   "outputs": [],
   "source": [
    "b = [5, 4 ,7, 1, 6, 10]\n",
    "c = [\"b\", \"마바사\", \"c\", \"a\", \"f\", \"가나다\"]"
   ]
  },
  {
   "cell_type": "code",
   "execution_count": 3,
   "metadata": {},
   "outputs": [
    {
     "data": {
      "text/plain": [
       "[1, 4, 5, 6, 7, 10]"
      ]
     },
     "execution_count": 3,
     "metadata": {},
     "output_type": "execute_result"
    }
   ],
   "source": [
    "b.sort()\n",
    "b"
   ]
  },
  {
   "cell_type": "code",
   "execution_count": 8,
   "metadata": {
    "scrolled": true
   },
   "outputs": [
    {
     "data": {
      "text/plain": [
       "['a', 'b', 'c', 'f', '가나다', '마바사']"
      ]
     },
     "execution_count": 8,
     "metadata": {},
     "output_type": "execute_result"
    }
   ],
   "source": [
    "c.sort()\n",
    "c"
   ]
  },
  {
   "cell_type": "code",
   "execution_count": 13,
   "metadata": {},
   "outputs": [
    {
     "name": "stdout",
     "output_type": "stream",
     "text": [
      "[1, 4, 5, 6, 7, 10]\n"
     ]
    },
    {
     "data": {
      "text/plain": [
       "[5, 4, 7, 1, 6, 10]"
      ]
     },
     "execution_count": 13,
     "metadata": {},
     "output_type": "execute_result"
    }
   ],
   "source": [
    "print(sorted(b))\n",
    "b"
   ]
  },
  {
   "cell_type": "code",
   "execution_count": 11,
   "metadata": {},
   "outputs": [
    {
     "name": "stdout",
     "output_type": "stream",
     "text": [
      "['a', 'b', 'c', 'f', '가나다', '마바사']\n"
     ]
    },
    {
     "data": {
      "text/plain": [
       "['a', 'b', 'c', 'f', '가나다', '마바사']"
      ]
     },
     "execution_count": 11,
     "metadata": {},
     "output_type": "execute_result"
    }
   ],
   "source": [
    "print(sorted(c))\n",
    "c"
   ]
  },
  {
   "cell_type": "markdown",
   "metadata": {},
   "source": [
    "### 생각해보기, sort와 sorted의 차이?"
   ]
  },
  {
   "cell_type": "markdown",
   "metadata": {},
   "source": [
    "#### 요소의 인덱스 위치를 알아내자\n",
    "\n",
    "1. index"
   ]
  },
  {
   "cell_type": "code",
   "execution_count": 36,
   "metadata": {},
   "outputs": [],
   "source": [
    "c = [\"b\", \"마바사\", \"c\", \"a\", \"f\", \"가나다\"]"
   ]
  },
  {
   "cell_type": "code",
   "execution_count": 37,
   "metadata": {
    "scrolled": true
   },
   "outputs": [
    {
     "data": {
      "text/plain": [
       "2"
      ]
     },
     "execution_count": 37,
     "metadata": {},
     "output_type": "execute_result"
    }
   ],
   "source": [
    "c.index(\"c\")"
   ]
  },
  {
   "cell_type": "code",
   "execution_count": 38,
   "metadata": {
    "scrolled": true
   },
   "outputs": [
    {
     "data": {
      "text/plain": [
       "5"
      ]
     },
     "execution_count": 38,
     "metadata": {},
     "output_type": "execute_result"
    }
   ],
   "source": [
    "c.index(\"가나다\")"
   ]
  },
  {
   "cell_type": "markdown",
   "metadata": {},
   "source": [
    "#### 특정 값이 존재하는지 알고싶다. in"
   ]
  },
  {
   "cell_type": "code",
   "execution_count": 39,
   "metadata": {},
   "outputs": [
    {
     "data": {
      "text/plain": [
       "True"
      ]
     },
     "execution_count": 39,
     "metadata": {},
     "output_type": "execute_result"
    }
   ],
   "source": [
    "\"a\" in c"
   ]
  },
  {
   "cell_type": "code",
   "execution_count": 40,
   "metadata": {},
   "outputs": [
    {
     "data": {
      "text/plain": [
       "False"
      ]
     },
     "execution_count": 40,
     "metadata": {},
     "output_type": "execute_result"
    }
   ],
   "source": [
    "\"agadfasd\" in c"
   ]
  },
  {
   "cell_type": "markdown",
   "metadata": {},
   "source": [
    "## 리스트 간단 정리\n",
    "\n",
    "데이터 삽입 방법\n",
    "```python\n",
    "변수.insert(index, 내용)\n",
    "변수.append(내용)\n",
    "```\n",
    "\n",
    "데이터 검색 방법\n",
    "```python\n",
    "변수[인덱스]\n",
    "변수[시작, 끝, 스텝]\n",
    "```\n",
    "\n",
    "데이터 삭제 방법\n",
    "```python\n",
    "변수.remove(내용)\n",
    "del 변수[index]\n",
    "```"
   ]
  },
  {
   "cell_type": "markdown",
   "metadata": {},
   "source": [
    "## 7-2 튜플 자료형 ( )\n",
    "\n",
    "리스트와 같은 역할, 같은 인덱싱, 슬라이싱 방법을 가지고 다룹니다.\n",
    "\n",
    "튜플은 수정이 불가능하다는 특징이 있습니다."
   ]
  },
  {
   "cell_type": "code",
   "execution_count": 43,
   "metadata": {},
   "outputs": [],
   "source": [
    "tu = ()\n",
    "tu2 = (\"a\",)\n",
    "tu3 = (1, 2, 3)\n",
    "tu4 = (1, 2, \"a\", \"b\")"
   ]
  },
  {
   "cell_type": "code",
   "execution_count": 44,
   "metadata": {
    "scrolled": true
   },
   "outputs": [
    {
     "ename": "TypeError",
     "evalue": "'tuple' object doesn't support item deletion",
     "output_type": "error",
     "traceback": [
      "\u001b[1;31m---------------------------------------------------------------------------\u001b[0m",
      "\u001b[1;31mTypeError\u001b[0m                                 Traceback (most recent call last)",
      "\u001b[1;32m<ipython-input-44-8c36c6bd4778>\u001b[0m in \u001b[0;36m<module>\u001b[1;34m\u001b[0m\n\u001b[1;32m----> 1\u001b[1;33m \u001b[1;32mdel\u001b[0m \u001b[0mtu3\u001b[0m\u001b[1;33m[\u001b[0m\u001b[1;36m1\u001b[0m\u001b[1;33m]\u001b[0m\u001b[1;33m\u001b[0m\u001b[1;33m\u001b[0m\u001b[0m\n\u001b[0m",
      "\u001b[1;31mTypeError\u001b[0m: 'tuple' object doesn't support item deletion"
     ]
    }
   ],
   "source": [
    "del tu3[1]"
   ]
  },
  {
   "cell_type": "markdown",
   "metadata": {},
   "source": [
    "## 7-3 딕셔너리 자료형 { }\n",
    "\n",
    "딕셔너리는 key와, value가 있는 값입니다.\n",
    "\n",
    "즉, key와 value가 서로 대응 관계에 있는 자료구조라는 것입니다.\n",
    "\n",
    "예컨데, key: 무한 value: 도전\n",
    "\n",
    "또는, key: 이름 value: 김철수\n",
    "\n",
    "이런식이죠.\n",
    "\n",
    "딕셔너리를 활용해서 아이디 리스트, 비밀번호 리스트를 따로 관리하지 않고,\n",
    "\n",
    "key: 아이디, value: 비밀번호 이런식으로 한번에 관리할 수 있겠죠?\n",
    "\n",
    "또한, value에는 숫자, 문자열 뿐만 아니라 지금까지 배운 모든 자료형이 들어올 수 있습니다. 리스트, 튜플, 딕셔너리 모두요~"
   ]
  },
  {
   "cell_type": "code",
   "execution_count": 2,
   "metadata": {},
   "outputs": [],
   "source": [
    "basic_info = {\"백종원\": \"123\", \"강호동\" : \"abc\", \"이수근\" : \"qwe\", \"기묘한\" : \"zxc\"}"
   ]
  },
  {
   "cell_type": "code",
   "execution_count": 3,
   "metadata": {},
   "outputs": [
    {
     "data": {
      "text/plain": [
       "{'백종원': '123', '강호동': 'abc', '이수근': 'qwe', '기묘한': 'zxc'}"
      ]
     },
     "execution_count": 3,
     "metadata": {},
     "output_type": "execute_result"
    }
   ],
   "source": [
    "basic_info"
   ]
  },
  {
   "cell_type": "markdown",
   "metadata": {},
   "source": [
    "### 딕셔너리에는 인덱싱, 슬라이싱의 개념이 아니다. Key를 통해 Value를 얻는다."
   ]
  },
  {
   "cell_type": "markdown",
   "metadata": {},
   "source": [
    "아래와 같은 단순한 문법으로 value를 출력할 수 있고, 새로운 요소의 추가도 같은 문법이 사용됩니다.\n",
    "```python\n",
    "dictionary[key]\n",
    "```"
   ]
  },
  {
   "cell_type": "markdown",
   "metadata": {},
   "source": [
    "강호동의 비밀번호를 출력하세요,"
   ]
  },
  {
   "cell_type": "code",
   "execution_count": 4,
   "metadata": {},
   "outputs": [
    {
     "data": {
      "text/plain": [
       "'abc'"
      ]
     },
     "execution_count": 4,
     "metadata": {},
     "output_type": "execute_result"
    }
   ],
   "source": [
    "basic_info[\"강호동\"]"
   ]
  },
  {
   "cell_type": "markdown",
   "metadata": {},
   "source": [
    "basic_info에 key: 사오정, value: \"pardon\" 이라는 값을 추가해보세요."
   ]
  },
  {
   "cell_type": "code",
   "execution_count": 5,
   "metadata": {},
   "outputs": [
    {
     "data": {
      "text/plain": [
       "{'백종원': '123', '강호동': 'abc', '이수근': 'qwe', '기묘한': 'zxc', '사오정': 'pardon'}"
      ]
     },
     "execution_count": 5,
     "metadata": {},
     "output_type": "execute_result"
    }
   ],
   "source": [
    "basic_info['사오정']='pardon'\n",
    "basic_info"
   ]
  },
  {
   "cell_type": "markdown",
   "metadata": {},
   "source": [
    "#### 딕셔너리 관련 함수\n",
    "\n",
    "1. keys\n",
    "2. values\n",
    "3. items\n",
    "4. get"
   ]
  },
  {
   "cell_type": "code",
   "execution_count": 6,
   "metadata": {},
   "outputs": [
    {
     "data": {
      "text/plain": [
       "dict_keys(['백종원', '강호동', '이수근', '기묘한', '사오정'])"
      ]
     },
     "execution_count": 6,
     "metadata": {},
     "output_type": "execute_result"
    }
   ],
   "source": [
    "key=basic_info.keys()\n",
    "key"
   ]
  },
  {
   "cell_type": "code",
   "execution_count": 7,
   "metadata": {},
   "outputs": [
    {
     "data": {
      "text/plain": [
       "dict_values(['123', 'abc', 'qwe', 'zxc', 'pardon'])"
      ]
     },
     "execution_count": 7,
     "metadata": {},
     "output_type": "execute_result"
    }
   ],
   "source": [
    "basic_info.values()"
   ]
  },
  {
   "cell_type": "code",
   "execution_count": 8,
   "metadata": {},
   "outputs": [
    {
     "data": {
      "text/plain": [
       "dict_items([('백종원', '123'), ('강호동', 'abc'), ('이수근', 'qwe'), ('기묘한', 'zxc'), ('사오정', 'pardon')])"
      ]
     },
     "execution_count": 8,
     "metadata": {},
     "output_type": "execute_result"
    }
   ],
   "source": [
    "basic_info.items()"
   ]
  },
  {
   "cell_type": "code",
   "execution_count": 9,
   "metadata": {},
   "outputs": [
    {
     "data": {
      "text/plain": [
       "'123'"
      ]
     },
     "execution_count": 9,
     "metadata": {},
     "output_type": "execute_result"
    }
   ],
   "source": [
    "basic_info.get(\"백종원\")"
   ]
  },
  {
   "cell_type": "code",
   "execution_count": 10,
   "metadata": {},
   "outputs": [],
   "source": [
    "basic_info.get(\"아무개\")"
   ]
  },
  {
   "cell_type": "code",
   "execution_count": 14,
   "metadata": {},
   "outputs": [
    {
     "data": {
      "text/plain": [
       "'qwe'"
      ]
     },
     "execution_count": 14,
     "metadata": {},
     "output_type": "execute_result"
    }
   ],
   "source": [
    "basic_info[\"이수근\"]"
   ]
  },
  {
   "cell_type": "markdown",
   "metadata": {},
   "source": [
    "## 딕셔너리 간단 정리\n",
    "\n",
    "데이터 삽입 방법\n",
    "```python\n",
    "변수[key] = value\n",
    "```\n",
    "데이터 검색 방법\n",
    "```python\n",
    "변수[key]\n",
    "```\n",
    "데이터 삭제 방법\n",
    "```python\n",
    "del 변수[key]\n",
    "```"
   ]
  },
  {
   "cell_type": "markdown",
   "metadata": {},
   "source": [
    "## 8. 반복문\n",
    "\n",
    "조건문과 반복문은 프로그래밍의 99%입니다.\n",
    "\n",
    "아무리 복잡한 프로그램이라도 결국엔 조건문, 반복문으로 이루어지고\n",
    "\n",
    "우리도 이를 이용해 무엇이든 만들 수 있어요\n",
    "\n",
    "반복문은 두개가 있습니다. while과 for입니다."
   ]
  },
  {
   "cell_type": "markdown",
   "metadata": {},
   "source": [
    "### 8-1 while문\n",
    "\n",
    "while문은, 세가지를 기억하세요. \n",
    "1.초기 조건, 2. 종료조건, 3. 증감조건\n",
    "\n",
    "```python\n",
    "\n",
    "초기조건\n",
    "while 종료조건:\n",
    "    소스코드\n",
    "    증감조건\n",
    "```"
   ]
  },
  {
   "cell_type": "code",
   "execution_count": 57,
   "metadata": {},
   "outputs": [
    {
     "name": "stdout",
     "output_type": "stream",
     "text": [
      "0\n",
      "1\n",
      "2\n",
      "3\n",
      "4\n",
      "5\n",
      "6\n",
      "7\n",
      "8\n",
      "9\n"
     ]
    }
   ],
   "source": [
    "i = 0               # 초기 조건\n",
    "while i < 10:         # 종료 조건\n",
    "    print(i)\n",
    "    i = i + 1       # 증감 조건"
   ]
  },
  {
   "cell_type": "markdown",
   "metadata": {},
   "source": [
    "감이 오시나요? 아직 어렵겠죠?\n",
    "\n",
    "한번 이걸 이용해서 우리 이름 아이디 입력을 받고, 아이디가 일치한다면, 존재한다면\n",
    "\n",
    "인사하는 로그인 어플리케이션을 만들어봅시다.\n",
    "\n",
    "우리가 해야 할 일을 풀어쓰면 다음같습니다.\n",
    "\n",
    "1. 사용자로부터 아이디를 입력 받는다.\n",
    "2. 입력받은 아이디가 user_id의 각각의 요소들과 일치하는지 검사한다.\n",
    "3. 일치한다면 인사를 한다.\n",
    "4. 일치하지 않는다면 user_id의 다음 요소에 대해서 같은 작업을 반복한다."
   ]
  },
  {
   "cell_type": "code",
   "execution_count": 2,
   "metadata": {},
   "outputs": [],
   "source": [
    "user_id = ['강호동', '이수근', '신묘한', '기묘한']"
   ]
  },
  {
   "cell_type": "code",
   "execution_count": 3,
   "metadata": {},
   "outputs": [
    {
     "name": "stdout",
     "output_type": "stream",
     "text": [
      "이름을 입력하세요: 신묘한\n",
      "안녕하세요 신묘한 님\n"
     ]
    }
   ],
   "source": [
    "input_id = input(\"이름을 입력하세요: \")\n",
    "\n",
    "i = 0                                # 초기조건\n",
    "while i < len(user_id) :                                 #종료조건\n",
    "    if user_id[i] == input_id:                                #조건문 삽입\n",
    "        print(\"안녕하세요\", input_id, \"님\")             #조건문이 True일 경우 실행\n",
    "    i = i+1                                #반복문의 증감조건"
   ]
  },
  {
   "cell_type": "markdown",
   "metadata": {},
   "source": [
    "### 연습문제 (제한시간 5분)\n",
    "\n",
    "while 문을 이용해서 빈 리스트에 1~10까지의 수를 추가하세요."
   ]
  },
  {
   "cell_type": "code",
   "execution_count": 8,
   "metadata": {},
   "outputs": [
    {
     "data": {
      "text/plain": [
       "[1, 2, 3, 4, 5, 6, 7, 8, 9]"
      ]
     },
     "execution_count": 8,
     "metadata": {},
     "output_type": "execute_result"
    }
   ],
   "source": [
    "a=[]\n",
    "i=1\n",
    "\n",
    "while i<10:\n",
    "    a.append(i)\n",
    "    i += 1\n",
    "a\n"
   ]
  },
  {
   "cell_type": "code",
   "execution_count": null,
   "metadata": {},
   "outputs": [],
   "source": []
  },
  {
   "cell_type": "markdown",
   "metadata": {},
   "source": [
    "### 8-2 for문\n",
    "\n",
    "파이썬의 for문은 while보다 훨씬 더 직관적으로 이해할 수 있습니다.\n",
    "\n",
    "\n",
    "```python\n",
    "\n",
    "for a in b:\n",
    "    \n",
    "```\n",
    "    \n",
    "for문에서는, a가 b의 첫번째 인자로 대입되고, 이게 끝날때까지 돌립니다.\n",
    "(단, b는 반복가능한 객체여야합니다.)\n",
    "\n",
    "이게 무슨 뜻인지는 예시를 통해 설명하겠습니다.\n",
    "\n"
   ]
  },
  {
   "cell_type": "code",
   "execution_count": 9,
   "metadata": {},
   "outputs": [
    {
     "name": "stdout",
     "output_type": "stream",
     "text": [
      "this is iteration\n",
      "this is iteration\n",
      "this is iteration\n",
      "this is iteration\n"
     ]
    }
   ],
   "source": [
    "for i in ['a','b','c', 'd']:\n",
    "    print(\"this is iteration\")"
   ]
  },
  {
   "cell_type": "code",
   "execution_count": 10,
   "metadata": {
    "scrolled": true
   },
   "outputs": [
    {
     "name": "stdout",
     "output_type": "stream",
     "text": [
      "this is iteration\n",
      "this is iteration\n",
      "this is iteration\n",
      "this is iteration\n",
      "this is iteration\n"
     ]
    }
   ],
   "source": [
    "for _ in range(5):\n",
    "    print(\"this is iteration\")"
   ]
  },
  {
   "cell_type": "code",
   "execution_count": 11,
   "metadata": {
    "scrolled": true
   },
   "outputs": [
    {
     "name": "stdout",
     "output_type": "stream",
     "text": [
      "가\n",
      "나\n",
      "다\n",
      "라\n",
      "마\n",
      "바\n",
      "사\n"
     ]
    }
   ],
   "source": [
    "for i in \"가나다라마바사\":\n",
    "    print(i)"
   ]
  },
  {
   "cell_type": "markdown",
   "metadata": {},
   "source": [
    "### range(시작, 종료, 스텝), 범위를 나타냅니다."
   ]
  },
  {
   "cell_type": "code",
   "execution_count": 12,
   "metadata": {},
   "outputs": [
    {
     "name": "stdout",
     "output_type": "stream",
     "text": [
      "0\n",
      "1\n",
      "2\n",
      "3\n",
      "4\n",
      "5\n",
      "6\n",
      "7\n",
      "8\n",
      "9\n"
     ]
    }
   ],
   "source": [
    "for i in range(10):\n",
    "    print(i)"
   ]
  },
  {
   "cell_type": "code",
   "execution_count": 13,
   "metadata": {
    "scrolled": false
   },
   "outputs": [
    {
     "name": "stdout",
     "output_type": "stream",
     "text": [
      "1\n",
      "5\n",
      "9\n"
     ]
    }
   ],
   "source": [
    "for i in range(1, 10, 4): #파이썬 리스트 컴프리헨션\n",
    "    print(i)"
   ]
  },
  {
   "cell_type": "code",
   "execution_count": null,
   "metadata": {},
   "outputs": [],
   "source": [
    "123456789"
   ]
  },
  {
   "cell_type": "markdown",
   "metadata": {},
   "source": [
    "### 연습문제 (제한시간 3분)\n",
    "\n",
    "for 문을 활용해서 빈 리스트에 1~10을 추가하세요."
   ]
  },
  {
   "cell_type": "code",
   "execution_count": 22,
   "metadata": {},
   "outputs": [
    {
     "data": {
      "text/plain": [
       "[1, 2, 3, 4, 5, 6, 7, 8, 9, 10]"
      ]
     },
     "execution_count": 22,
     "metadata": {},
     "output_type": "execute_result"
    }
   ],
   "source": [
    "a=[]\n",
    "for i in range(1,11):\n",
    "    a.append(i)\n",
    "a"
   ]
  },
  {
   "cell_type": "code",
   "execution_count": 23,
   "metadata": {},
   "outputs": [
    {
     "data": {
      "text/plain": [
       "[1, 2, 3, 4, 5, 6, 7, 8, 9, 10]"
      ]
     },
     "execution_count": 23,
     "metadata": {},
     "output_type": "execute_result"
    }
   ],
   "source": [
    "[i for i in range(1,11)] #파이써닉 코드"
   ]
  },
  {
   "cell_type": "markdown",
   "metadata": {},
   "source": [
    "반복문의 활용은 무궁무진합니다.\n",
    "\n",
    "#### 우리는 이를 이용해서 구구단을 만들어 볼 것 입니다. (의사코드 같이 작성해보기)"
   ]
  },
  {
   "cell_type": "code",
   "execution_count": 35,
   "metadata": {},
   "outputs": [
    {
     "name": "stdout",
     "output_type": "stream",
     "text": [
      "1*1 = 1\n",
      "1*2 = 2\n",
      "1*3 = 3\n",
      "1*4 = 4\n",
      "1*5 = 5\n",
      "1*6 = 6\n",
      "1*7 = 7\n",
      "1*8 = 8\n",
      "1*9 = 9\n",
      "2*1 = 2\n",
      "2*2 = 4\n",
      "2*3 = 6\n",
      "2*4 = 8\n",
      "2*5 = 10\n",
      "2*6 = 12\n",
      "2*7 = 14\n",
      "2*8 = 16\n",
      "2*9 = 18\n",
      "3*1 = 3\n",
      "3*2 = 6\n",
      "3*3 = 9\n",
      "3*4 = 12\n",
      "3*5 = 15\n",
      "3*6 = 18\n",
      "3*7 = 21\n",
      "3*8 = 24\n",
      "3*9 = 27\n",
      "4*1 = 4\n",
      "4*2 = 8\n",
      "4*3 = 12\n",
      "4*4 = 16\n",
      "4*5 = 20\n",
      "4*6 = 24\n",
      "4*7 = 28\n",
      "4*8 = 32\n",
      "4*9 = 36\n",
      "5*1 = 5\n",
      "5*2 = 10\n",
      "5*3 = 15\n",
      "5*4 = 20\n",
      "5*5 = 25\n",
      "5*6 = 30\n",
      "5*7 = 35\n",
      "5*8 = 40\n",
      "5*9 = 45\n",
      "6*1 = 6\n",
      "6*2 = 12\n",
      "6*3 = 18\n",
      "6*4 = 24\n",
      "6*5 = 30\n",
      "6*6 = 36\n",
      "6*7 = 42\n",
      "6*8 = 48\n",
      "6*9 = 54\n",
      "7*1 = 7\n",
      "7*2 = 14\n",
      "7*3 = 21\n",
      "7*4 = 28\n",
      "7*5 = 35\n",
      "7*6 = 42\n",
      "7*7 = 49\n",
      "7*8 = 56\n",
      "7*9 = 63\n",
      "8*1 = 8\n",
      "8*2 = 16\n",
      "8*3 = 24\n",
      "8*4 = 32\n",
      "8*5 = 40\n",
      "8*6 = 48\n",
      "8*7 = 56\n",
      "8*8 = 64\n",
      "8*9 = 72\n",
      "9*1 = 9\n",
      "9*2 = 18\n",
      "9*3 = 27\n",
      "9*4 = 36\n",
      "9*5 = 45\n",
      "9*6 = 54\n",
      "9*7 = 63\n",
      "9*8 = 72\n",
      "9*9 = 81\n"
     ]
    }
   ],
   "source": [
    "for i in range(1,10):\n",
    "    for j in range(1,10):\n",
    "        print(f\"{i}*{j} = {i*j}\")\n",
    "\n",
    "#I*J I는 9번 반복 J도 9번 반복 , JRK 1씩 커진다 9번 반복 I는 같은 숫자 "
   ]
  },
  {
   "cell_type": "code",
   "execution_count": null,
   "metadata": {},
   "outputs": [],
   "source": []
  },
  {
   "cell_type": "markdown",
   "metadata": {},
   "source": [
    "#### 반복문 변수명\n",
    "* 임시적인 반복 변수는 대부분 i, j, k로 정합니다.\n",
    "* 수학에서 변수를 x, y, z 등으로 하는 것과 같은 이치라고 보시면 됩니다.\n",
    "\n",
    "#### 0부터 시작하는 반복문\n",
    "* 반복문은 대부분 0부터 시작합니다.\n",
    "* 이것도 일종의 관례입니다. 언어마다 다르지만 대부분 0부터 시작합니다."
   ]
  },
  {
   "cell_type": "markdown",
   "metadata": {},
   "source": [
    "#### 반복문의 흐름을 조작하자.\n",
    "\n",
    "1. break\n",
    "2. continue"
   ]
  },
  {
   "cell_type": "code",
   "execution_count": 36,
   "metadata": {},
   "outputs": [
    {
     "name": "stdout",
     "output_type": "stream",
     "text": [
      "0\n",
      "1\n",
      "2\n",
      "3\n",
      "4\n"
     ]
    }
   ],
   "source": [
    "i = 0               # 초기 조건\n",
    "while i < 10:      # 종료 조건\n",
    "    if i == 5:\n",
    "        break\n",
    "    print(i)\n",
    "    i = i + 1       # 증감 조건"
   ]
  },
  {
   "cell_type": "code",
   "execution_count": 5,
   "metadata": {
    "scrolled": true
   },
   "outputs": [
    {
     "name": "stdout",
     "output_type": "stream",
     "text": [
      "0\n",
      "1\n",
      "2\n",
      "3\n",
      "4\n",
      "6\n",
      "7\n",
      "8\n",
      "9\n"
     ]
    }
   ],
   "source": [
    "i = 0               # 초기 조건\n",
    "while i < 10:      # 종료 조건\n",
    "    if i == 5:\n",
    "        i += 1\n",
    "        continue\n",
    "    print(i)\n",
    "    i = i + 1       # 증감 조건"
   ]
  },
  {
   "cell_type": "code",
   "execution_count": 37,
   "metadata": {},
   "outputs": [
    {
     "name": "stdout",
     "output_type": "stream",
     "text": [
      "0\n",
      "1\n",
      "2\n",
      "4\n",
      "5\n",
      "6\n",
      "7\n",
      "8\n",
      "9\n"
     ]
    }
   ],
   "source": [
    "for i in range(10):\n",
    "    if i==3:\n",
    "        continue\n",
    "    print(i)"
   ]
  },
  {
   "cell_type": "code",
   "execution_count": null,
   "metadata": {},
   "outputs": [],
   "source": []
  },
  {
   "cell_type": "markdown",
   "metadata": {},
   "source": [
    "for문에서도 break와 continue를 실험해봅시다."
   ]
  },
  {
   "cell_type": "markdown",
   "metadata": {},
   "source": [
    "## 9. 함수\n",
    "\n",
    "코딩에서는 중복을 제거하는 것이 가장 중요합니다. 코드의 양을 줄이거든요.\n",
    "\n",
    "또한, 함수를 사용하면 코드를 이해하기 쉽고, 수정과 재활용 등 여러가지 장점이 있습니다."
   ]
  },
  {
   "cell_type": "markdown",
   "metadata": {},
   "source": [
    "함수는 함수의 이름만 호출하면 그 안에 있는 기능을 어디서나 쓸 수 잇도록 편리하게 정리해둔겁니다.\n",
    "\n",
    "예시를 통해 설명 이해해볼게요.\n",
    "\n",
    "함수 없는 코딩은 수공예와 같습니다. 같은 기능을 두번 사용하려면 같은 코드를 두번 만들어야 하죠.\n",
    "\n",
    "수공예로 가방을 만들어봅시다."
   ]
  },
  {
   "cell_type": "code",
   "execution_count": 20,
   "metadata": {},
   "outputs": [
    {
     "name": "stdout",
     "output_type": "stream",
     "text": [
      "수공예 가방입니다.\n",
      "실과 바늘, 가죽, 끈을 준비합니다.\n",
      "가죽을 적당한 모양으로 자르고 실과 바늘로 단단히 고정하고 끈으로 묶습니다.\n",
      "가방을 만들었습니다.\n"
     ]
    }
   ],
   "source": [
    "print(\"수공예 가방입니다.\")\n",
    "print(\"실과 바늘, 가죽, 끈을 준비합니다.\")\n",
    "print(\"가죽을 적당한 모양으로 자르고 실과 바늘로 단단히 고정하고 끈으로 묶습니다.\")\n",
    "print(\"가방을 만들었습니다.\")"
   ]
  },
  {
   "cell_type": "markdown",
   "metadata": {},
   "source": [
    "수공예에서는 저 4줄짜리 코드를 가방을 1개 만들때마다 계속 쳐야합니다. 하지만 함수를 활용하면 기계에서 자동으로 생산하는 것과 같은 효과를 볼 수 있습니다."
   ]
  },
  {
   "cell_type": "code",
   "execution_count": 27,
   "metadata": {},
   "outputs": [],
   "source": [
    "def 가방():\n",
    "    print(\"기계가 만든 가방입니다.\")\n",
    "    print(\"실과 바늘, 가죽, 끈을 준비합니다.\")\n",
    "    print(\"가죽을 적당한 모양으로 자르고 실과 바늘로 단단히 고정하고 끈으로 묶습니다.\")\n",
    "    print(\"가방을 만들었습니다.\")"
   ]
  },
  {
   "cell_type": "code",
   "execution_count": 28,
   "metadata": {
    "scrolled": true
   },
   "outputs": [
    {
     "name": "stdout",
     "output_type": "stream",
     "text": [
      "기계가 만든 가방입니다.\n",
      "실과 바늘, 가죽, 끈을 준비합니다.\n",
      "가죽을 적당한 모양으로 자르고 실과 바늘로 단단히 고정하고 끈으로 묶습니다.\n",
      "가방을 만들었습니다.\n"
     ]
    }
   ],
   "source": [
    "가방()"
   ]
  },
  {
   "cell_type": "code",
   "execution_count": 29,
   "metadata": {},
   "outputs": [
    {
     "name": "stdout",
     "output_type": "stream",
     "text": [
      "기계가 만든 가방입니다.\n",
      "실과 바늘, 가죽, 끈을 준비합니다.\n",
      "가죽을 적당한 모양으로 자르고 실과 바늘로 단단히 고정하고 끈으로 묶습니다.\n",
      "가방을 만들었습니다.\n"
     ]
    }
   ],
   "source": [
    "가방()"
   ]
  },
  {
   "cell_type": "markdown",
   "metadata": {},
   "source": [
    "이제 함수의 효용을 아시겠나요? 함수의 선언방법부터 자세히 알아보겠습니다."
   ]
  },
  {
   "cell_type": "markdown",
   "metadata": {},
   "source": [
    "```python\n",
    "\n",
    "def 함수명(parameter, pa2 ,,,,,):\n",
    "    수행문1\n",
    "    수행문2\n",
    "    .\n",
    "    .\n",
    "    \n",
    "    return 반환값\n",
    "```"
   ]
  },
  {
   "cell_type": "markdown",
   "metadata": {},
   "source": [
    "함수를 활용해서\n",
    "\n",
    "y = 2x + 1\n",
    "\n",
    "함수를 만들어 봅시다."
   ]
  },
  {
   "cell_type": "code",
   "execution_count": 38,
   "metadata": {},
   "outputs": [],
   "source": [
    "def y(x):\n",
    "    return 2*x + 1"
   ]
  },
  {
   "cell_type": "code",
   "execution_count": 39,
   "metadata": {},
   "outputs": [
    {
     "data": {
      "text/plain": [
       "3"
      ]
     },
     "execution_count": 39,
     "metadata": {},
     "output_type": "execute_result"
    }
   ],
   "source": [
    "y(1)"
   ]
  },
  {
   "cell_type": "markdown",
   "metadata": {},
   "source": [
    "직사각형의 넓이를 구하는 함수"
   ]
  },
  {
   "cell_type": "code",
   "execution_count": 40,
   "metadata": {
    "scrolled": true
   },
   "outputs": [
    {
     "name": "stdout",
     "output_type": "stream",
     "text": [
      "직사각형의 넓이:  200\n"
     ]
    }
   ],
   "source": [
    "def 넓이(가로, 세로):\n",
    "    return 가로*세로\n",
    "\n",
    "x = 10\n",
    "y = 20\n",
    "\n",
    "print(\"직사각형의 넓이: \", 넓이(x, y))"
   ]
  },
  {
   "cell_type": "markdown",
   "metadata": {},
   "source": [
    "## 함수의 return\n",
    "\n",
    "return은 함수를 바로 종료시키고, 반환값을 주는 녀석입니다.\n",
    "\n",
    "예를들어, 두 숫자를 전달하면, 그 숫자를 더해주는 함수가 있다고 합시다."
   ]
  },
  {
   "cell_type": "code",
   "execution_count": 14,
   "metadata": {},
   "outputs": [],
   "source": [
    "def sum(a, b):\n",
    "    print(a+b)"
   ]
  },
  {
   "cell_type": "code",
   "execution_count": 15,
   "metadata": {},
   "outputs": [],
   "source": [
    "def sum_return(a, b):\n",
    "    return a+b"
   ]
  },
  {
   "cell_type": "code",
   "execution_count": 16,
   "metadata": {},
   "outputs": [
    {
     "name": "stdout",
     "output_type": "stream",
     "text": [
      "6\n"
     ]
    }
   ],
   "source": [
    "sum(1, 5)"
   ]
  },
  {
   "cell_type": "code",
   "execution_count": 44,
   "metadata": {},
   "outputs": [
    {
     "data": {
      "text/plain": [
       "11"
      ]
     },
     "execution_count": 44,
     "metadata": {},
     "output_type": "execute_result"
    }
   ],
   "source": [
    "sum_return(1, 10)"
   ]
  },
  {
   "cell_type": "markdown",
   "metadata": {},
   "source": [
    "결국 같은 효과이긴 한데, return이 무슨 용도일까라는 생각이 들 수 있습니다.\n",
    "\n",
    "우리는 사용자의 숫자 입력을 받고, 그 숫자까지 출력하는 함수를 만들어봅시다.\n",
    "\n",
    "단, 10까지만 출력하고 그 이상부터는 함수를 종료시켜보죠."
   ]
  },
  {
   "cell_type": "code",
   "execution_count": 8,
   "metadata": {},
   "outputs": [],
   "source": [
    "def return_test(number):\n",
    "    for i in range(number+1):\n",
    "        print(i)\n",
    "        if i >= 10:\n",
    "            return print(\"수용불가\")"
   ]
  },
  {
   "cell_type": "code",
   "execution_count": 9,
   "metadata": {},
   "outputs": [
    {
     "name": "stdout",
     "output_type": "stream",
     "text": [
      "원하는 숫자를 입력하세요: 11\n",
      "0\n",
      "1\n",
      "2\n",
      "3\n",
      "4\n",
      "5\n",
      "6\n",
      "7\n",
      "8\n",
      "9\n",
      "10\n",
      "수용불가\n"
     ]
    }
   ],
   "source": [
    "num = int(input(\"원하는 숫자를 입력하세요: \"))\n",
    "return_test(num)"
   ]
  },
  {
   "cell_type": "markdown",
   "metadata": {},
   "source": [
    "이렇듯, 함수의 return은 값을 반환하고 종료시키는 역할을 합니다."
   ]
  },
  {
   "cell_type": "markdown",
   "metadata": {},
   "source": [
    "### 함수 안에서 변수의 범위\n",
    "\n",
    "* 지역변수 (Local Variable), 함수 내에서만 사용\n",
    "* 전역변수 (Global Variable), 프로그램 전체에서 사용"
   ]
  },
  {
   "cell_type": "code",
   "execution_count": 66,
   "metadata": {},
   "outputs": [
    {
     "name": "stdout",
     "output_type": "stream",
     "text": [
      "I love Python\n",
      "I love Java\n"
     ]
    }
   ],
   "source": [
    "def f():\n",
    "    var = \"I love Python\"\n",
    "    print(var)\n",
    "\n",
    "var = \"I love Java\"\n",
    "\n",
    "f()\n",
    "print(var)"
   ]
  },
  {
   "cell_type": "code",
   "execution_count": 52,
   "metadata": {},
   "outputs": [
    {
     "name": "stdout",
     "output_type": "stream",
     "text": [
      "I love Java\n",
      "I love Python\n",
      "I love Python\n"
     ]
    }
   ],
   "source": [
    "def f():\n",
    "    global var\n",
    "    var = \"I love Python\"\n",
    "    print(var)\n",
    "\n",
    "var = \"I love Java\"\n",
    "print(var)\n",
    "f()\n",
    "print(var)"
   ]
  },
  {
   "cell_type": "code",
   "execution_count": null,
   "metadata": {},
   "outputs": [],
   "source": []
  },
  {
   "cell_type": "code",
   "execution_count": null,
   "metadata": {},
   "outputs": [],
   "source": []
  },
  {
   "cell_type": "markdown",
   "metadata": {},
   "source": [
    "### 함수작성 가이드 라인\n",
    "\n",
    "* 가능한 짧게 작성하라\n",
    "* 함수명에 함수의 역할, 의도가 명확해야한다.\n",
    "* 하나의 함수에는 유사한 역할을 하는 코드만 포함하라\n",
    "* 인자로 받은 값 자체는 가능한 바꾸지 말자"
   ]
  },
  {
   "cell_type": "markdown",
   "metadata": {},
   "source": [
    "#### 연습문제 (제한시간 5분)\n",
    "\n",
    "체질량 지수 BMI는 비만도를 나타내는 지수입니다.\n",
    "\n",
    "<img src = \"https://post-phinf.pstatic.net/MjAxNzA5MTNfMjM2/MDAxNTA1MjY5NTcwODYy.0P6FCCXKusTlMVkrZJoycHvL3UlMzZKLVdybhNFSv5gg.8WksFL-hZpfMdo6aA6gFkb28PoYJnSMB3DztdekVJVog.JPEG/%EC%82%B0%EC%B6%9C%EA%B3%B5%EC%8B%9D.jpg?type=w1200\" width = 200>\n",
    "\n",
    "여기서 주의 해야할 점은 체중의 단위는 kg, 신장의 단위는 m(미터)라는 점입니다. 함수의 인자로 체중과 신장을 받은 후 BMI값에 따라 4가지 체형 중 하나를 출력하는 함수를 작성하세요.\n",
    "\n",
    "```python\n",
    "BMI < 18.5, 마른 체형\n",
    "18.5 <= BMI < 25.0, 표준\n",
    "25.0 <= BM! < 30.0. 비만\n",
    "30.0 <= BMI, 고도비만\n",
    "```"
   ]
  },
  {
   "cell_type": "code",
   "execution_count": 3,
   "metadata": {},
   "outputs": [],
   "source": [
    "def BMI(체중, 신장):\n",
    "    신장 = 신장 /100\n",
    "    bmi = 체중/신장**2\n",
    "    print(bmi)\n",
    "    \n",
    "    if bmi<18.5:\n",
    "        return print('마른 체형')\n",
    "    elif 18.5<= bmi <25:\n",
    "        return print ('표준 체형')\n",
    "    elif 25 <= bmi <30:\n",
    "        return print ('비만 체형')\n",
    "    elif 30<= bmi:\n",
    "        return print ('고도 비만')"
   ]
  },
  {
   "cell_type": "code",
   "execution_count": 7,
   "metadata": {},
   "outputs": [
    {
     "name": "stdout",
     "output_type": "stream",
     "text": [
      "21.224489795918366\n",
      "표준 체형\n"
     ]
    }
   ],
   "source": [
    "BMI(65,175)"
   ]
  }
 ],
 "metadata": {
  "kernelspec": {
   "display_name": "Python 3",
   "language": "python",
   "name": "python3"
  },
  "language_info": {
   "codemirror_mode": {
    "name": "ipython",
    "version": 3
   },
   "file_extension": ".py",
   "mimetype": "text/x-python",
   "name": "python",
   "nbconvert_exporter": "python",
   "pygments_lexer": "ipython3",
   "version": "3.7.4"
  }
 },
 "nbformat": 4,
 "nbformat_minor": 2
}
