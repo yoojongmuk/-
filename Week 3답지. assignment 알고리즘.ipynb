{
 "cells": [
  {
   "cell_type": "markdown",
   "metadata": {},
   "source": [
    "<img src = \"https://apply.softsquared.com/custom/img/logo.png\">\n",
    "\n",
    "## 3주차 과제입니다.\n",
    "\n",
    "우리는 이진탐색과 선택정렬 알고리즘에 대해서 배워보았습니다.\n",
    "\n",
    "이에 대한 과제를 제공해 드립니다.\n",
    "\n",
    "과제를 하시는 동안 정보검색은 적극 권장됩니다."
   ]
  },
  {
   "cell_type": "markdown",
   "metadata": {},
   "source": [
    "# Q1.\n",
    "\n",
    "다음 문제를 이진 탐색을 이용해서 구현하세요.\n",
    "\n",
    "자연수 X을 입력받고, X개의 요소를 가진 리스트, list_X를 입력받는다.\n",
    "\n",
    "자연수 Y을 입력받고, Y개의 요소를 가진 리스트, list_Y를 입력 받는다.\n",
    "\n",
    "이때, list_Y의 각각 요소들이, list_X에 몇개 존재하는지 검사한다.\n",
    "\n",
    "\n",
    "```python\n",
    "\n",
    "# 입력 예시\n",
    "10 # X\n",
    "6 3 2 10 10 10 -10 -10 7 3  # list_X, 입력은 공백으로 구분됩니다.\n",
    "8 # Y\n",
    "10 9 -5 2 3 4 5 -10 # list_Y, 입력은 공백으로 구분됩니다.\n",
    "\n",
    "# 결과 예시\n",
    "3 0 0 1 2 0 0 2\n",
    "\n",
    "```"
   ]
  },
  {
   "cell_type": "code",
   "execution_count": null,
   "metadata": {},
   "outputs": [],
   "source": [
    "# write your code here!!\n",
    "\n",
    "x = int(input(\"자연수를 입력: \"))\n",
    "list_x = list(map(int, input(\"x개의 요소를 공백으로 구분하여 입력\").split()))[:x]\n",
    "y = int(input(\"자연수를 입력: \"))\n",
    "list_y = list(map(int, input(\"y개의 요소를 공백으로 구분하여 입력\").split()))[:y]"
   ]
  },
  {
   "cell_type": "code",
   "execution_count": null,
   "metadata": {},
   "outputs": [],
   "source": [
    "def low_BS(arr, target):\n",
    "    arr.sort()\n",
    "    low = 0\n",
    "    high = len(arr) - 1\n",
    "    \n",
    "    while low <= high:\n",
    "        mid = (low+high)//2\n",
    "        if arr[mid] >= target:\n",
    "            high = mid - 1\n",
    "        else:\n",
    "            low = mid + 1       \n",
    "    return high\n",
    "\n",
    "\n",
    "def high_BS(arr, target):\n",
    "    arr.sort()\n",
    "    low=0\n",
    "    high = len(arr) -1\n",
    "    \n",
    "    while low <= high:\n",
    "        mid = (low+high) // 2\n",
    "        if arr[mid] <= target:\n",
    "            low = mid + 1\n",
    "        else:\n",
    "            high = mid - 1     \n",
    "    return low\n",
    "\n",
    "for i in list_y:\n",
    "    result = high_BS(list_x, i) - low_BS(list_x, i) -1 \n",
    "    print(result)"
   ]
  },
  {
   "cell_type": "markdown",
   "metadata": {},
   "source": [
    "# Q2.\n",
    "\n",
    "다음 문제를 이진 탐색을 이용해서 구현하세요.\n",
    "\n",
    "자연수 X을 입력받고, X개의 요소를 가진 리스트, list_X를 입력받는다.\n",
    "\n",
    "자연수 Y을 입력받고, Y개의 요소를 가진 리스트, list_Y를 입력 받는다.\n",
    "\n",
    "이때, list_Y의 각각 요소들이, list_X에 존재하는지 검사한다.\n",
    "존재한다면 1, 아니라면 0을 반환한다.\n",
    "\n",
    "\n",
    "```python\n",
    "\n",
    "# 입력 예시\n",
    "5 # X\n",
    "4 3 7 8 5  # list_X, 입력은 공백으로 구분됩니다.\n",
    "3 # Y\n",
    "1 2 3 # list_Y, 입력은 공백으로 구분됩니다.\n",
    "\n",
    "# 결과 예시\n",
    "0 0 1\n",
    "\n",
    "```"
   ]
  },
  {
   "cell_type": "code",
   "execution_count": null,
   "metadata": {},
   "outputs": [],
   "source": [
    "# write your code here!!\n",
    "\n",
    "x = int(input(\"자연수를 입력: \"))\n",
    "list_x = list(map(int, input(\"x개의 요소를 공백으로 구분하여 입력\").split()))[:x]\n",
    "y = int(input(\"자연수를 입력: \"))\n",
    "list_y = list(map(int, input(\"y개의 요소를 공백으로 구분하여 입력\").split()))[:y]"
   ]
  },
  {
   "cell_type": "code",
   "execution_count": null,
   "metadata": {},
   "outputs": [],
   "source": [
    "def BS(arr, target):\n",
    "    arr.sort()\n",
    "    low = 0\n",
    "    high = len(arr) - 1\n",
    "    \n",
    "    while low <= high:\n",
    "        mid = (low + high) // 2\n",
    "        if arr[mid] == target:\n",
    "            return 1\n",
    "        elif arr[mid] > target:\n",
    "            high = mid -1\n",
    "        else:\n",
    "            low = mid + 1\n",
    "            \n",
    "    return 0\n",
    "\n",
    "for i in list_y:\n",
    "    print(BS(list_x, i))"
   ]
  },
  {
   "cell_type": "markdown",
   "metadata": {},
   "source": [
    "# Q3\n",
    "\n",
    "다음 문제를 이진탐색을 `활용`해서 구현하세요.\n",
    "\n",
    "계란이는 운동기구를 제작하기 위해 나무 M미터가 필요하다.\n",
    "계란이가 가지고 있는 전기톱은 높이설정이 가능하다.\n",
    "\n",
    "높이 설정을 H미터로 하고 X미터 나무를 벌목하면 (X-H)미터 나무를 가져갈 수 있다. \n",
    "\n",
    "예컨데, 계란이의 집 주변에 있는 나무는 총 4그루로 각각 높이가 20, 15, 10, 17 미터라고 하고, H를 15로 지정하면, 계란이가 가지고 갈 수 있는 나무의 길이는 5+2=7미터이다.\n",
    "\n",
    "계란이는 환경문제에 예민하기 때문에 나무를 필요한 만큼만 가져가고 싶어한다. 이때, M미터의 나무를 가져가기 위해 전기톱에 설정할 수 있는 높이의 최댓값을 구하는 프로그램을 작성하세요.\n",
    "\n",
    "```입력: 나무의 수(N)와 필요한 나무의 길이(M)\n",
    "그리고 N개의 나무의 길이\n",
    "출력: 전기톱에 설정할 수 있는 높이의 최댓값```\n",
    "\n",
    "\n",
    "`단, 높이 H는 양의 정수 또는 0이다.`"
   ]
  },
  {
   "cell_type": "markdown",
   "metadata": {},
   "source": [
    "```python\n",
    "\n",
    "입력 예시\n",
    "첫째 줄에는 N, M이 공백으로 구분되어 입력 받는다.\n",
    "둘째 줄에는 N개 나무의 길이를 공백으로 구분되어 입력 받는다.\n",
    "\n",
    "4 7 # 입력은 공백으로 구분되며 각각 N, M입니다.\n",
    "20 15 10 17 # N개 나무의 길이\n",
    "\n",
    "출력 예시\n",
    "적어도 M미터의 나무를 가져가기 위해 설정할 수 있는 높이의 최댓값\n",
    "\n",
    "15 # 전기톱 높이\n",
    "```"
   ]
  },
  {
   "cell_type": "code",
   "execution_count": null,
   "metadata": {
    "scrolled": true
   },
   "outputs": [],
   "source": [
    "# write your code here!!\n",
    "\n",
    "N, M = map(int, input(\"N, M을 공백으로 구분되어 입력.\").split())\n",
    "trees = list(map(int, input(\"N개의 나무 길이를 공백으로 구분되어 입력\").split()))"
   ]
  },
  {
   "cell_type": "code",
   "execution_count": null,
   "metadata": {},
   "outputs": [],
   "source": [
    "def binary_search(arr, target):\n",
    "    low = 0\n",
    "    high = max(arr)\n",
    "    \n",
    "    while low <=high:\n",
    "        mid = (low+high)//2\n",
    "        get_tree = sum([i - mid for i in trees if i >= mid])\n",
    "\n",
    "        if get_tree < target:\n",
    "            high = mid-1\n",
    "        if get_tree >= target:\n",
    "            answer = mid\n",
    "            low = mid+1\n",
    "            \n",
    "    return answer"
   ]
  },
  {
   "cell_type": "code",
   "execution_count": null,
   "metadata": {},
   "outputs": [],
   "source": [
    "binary_search(trees, M)"
   ]
  },
  {
   "cell_type": "markdown",
   "metadata": {},
   "source": [
    "# Q4\n",
    "\n",
    "선택정렬을 이용해서 다음을 구현하세요.\n",
    "\n",
    "배열의 i번째 숫자부터 j번째 숫자까지 자르고 정렬했을때, 자르고 정렬할 때, k번째 있는 수를 구하는 기능을 구현하세요.\n",
    "\n",
    "`arr = [1, 5, 7, 2, 3, 8], i=2, j=6, k=3`이라면\n",
    "\n",
    "1. arr을 2~6까지 자르면 `[5, 7, 2, 3, 8]`입니다.\n",
    "2. 위에서 구한 배열을 정렬합니다. `[2, 3, 5, 7, 8]`\n",
    "3. 위에서 정렬된 배열의 k번째 숫자는 `5`입니다.\n",
    "\n",
    "`주어진 값으로만 풀이하면 됩니다!, 함수화 하지 않아도 됩니다.`"
   ]
  },
  {
   "cell_type": "code",
   "execution_count": null,
   "metadata": {},
   "outputs": [],
   "source": [
    "# write your code here!!\n",
    "\n",
    "arr = [1, 5, 7, 2, 3, 8]\n",
    "i=2\n",
    "j=6\n",
    "k=3"
   ]
  },
  {
   "cell_type": "code",
   "execution_count": null,
   "metadata": {},
   "outputs": [],
   "source": [
    "# i~j까지의 배열을 만들고\n",
    "new_arr = [x for x in arr[i-1:j]]\n",
    "print(new_arr)\n",
    "# 이를 정렬할 리스트를 만든다.\n",
    "sorted_arr = []\n",
    "\n",
    "while new_arr:\n",
    "    # 우선 첫번째 인자를 lowest로 놓고\n",
    "    lowest = new_arr[0]\n",
    "    \n",
    "    for i in range(1, len(new_arr)):\n",
    "        if new_arr[i] < lowest:\n",
    "            lowest = new_arr[i]\n",
    "            lowest_index = i\n",
    "    sorted_arr.append(lowest)\n",
    "    new_arr.remove(lowest)\n",
    "\n",
    "sorted_arr[k-1]"
   ]
  },
  {
   "cell_type": "markdown",
   "metadata": {},
   "source": [
    "# Q5\n",
    "\n",
    "수가 주어지면, 각 자리수를 내림차 순으로 정렬하는 `함수`를 구현하세요.\n",
    "\n",
    "```pyhton\n",
    "\n",
    "#입력 예시\n",
    "soluton(1452)\n",
    "\n",
    "#출력 예시\n",
    "5421\n",
    "```"
   ]
  },
  {
   "cell_type": "code",
   "execution_count": null,
   "metadata": {},
   "outputs": [],
   "source": [
    "# write your code here!!\n",
    "\n",
    "def solution(num):\n",
    "    num = str(num)\n",
    "    num_list = [int(n) for n in num]\n",
    "    # 정렬\n",
    "    new_list = []\n",
    "    \n",
    "    while num_list:\n",
    "        highest = num_list[0]\n",
    "        for i in num_list[1:]:\n",
    "            if i > highest:\n",
    "                highest = i\n",
    "        new_list.append(highest)\n",
    "        num_list.remove(highest)\n",
    "        \n",
    "    new_list = map(str, new_list)\n",
    "        \n",
    "    return int(''.join(new_list))\n",
    "\n",
    "solution(1452)"
   ]
  }
 ],
 "metadata": {
  "kernelspec": {
   "display_name": "Python 3",
   "language": "python",
   "name": "python3"
  },
  "language_info": {
   "codemirror_mode": {
    "name": "ipython",
    "version": 3
   },
   "file_extension": ".py",
   "mimetype": "text/x-python",
   "name": "python",
   "nbconvert_exporter": "python",
   "pygments_lexer": "ipython3",
   "version": "3.7.4"
  }
 },
 "nbformat": 4,
 "nbformat_minor": 2
}
